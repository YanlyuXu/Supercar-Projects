{
 "cells": [
  {
   "cell_type": "code",
   "execution_count": 7,
   "id": "cf713d7b",
   "metadata": {
    "ExecuteTime": {
     "end_time": "2023-05-12T07:46:31.088482Z",
     "start_time": "2023-05-12T07:46:31.071095Z"
    }
   },
   "outputs": [
    {
     "data": {
      "text/html": [
       "        <script type=\"text/javascript\">\n",
       "        window.PlotlyConfig = {MathJaxConfig: 'local'};\n",
       "        if (window.MathJax && window.MathJax.Hub && window.MathJax.Hub.Config) {window.MathJax.Hub.Config({SVG: {font: \"STIX-Web\"}});}\n",
       "        if (typeof require !== 'undefined') {\n",
       "        require.undef(\"plotly\");\n",
       "        requirejs.config({\n",
       "            paths: {\n",
       "                'plotly': ['https://cdn.plot.ly/plotly-2.12.1.min']\n",
       "            }\n",
       "        });\n",
       "        require(['plotly'], function(Plotly) {\n",
       "            window._Plotly = Plotly;\n",
       "        });\n",
       "        }\n",
       "        </script>\n",
       "        "
      ]
     },
     "metadata": {},
     "output_type": "display_data"
    }
   ],
   "source": [
    "import pandas as pd \n",
    "import numpy as np\n",
    "from scipy.stats import pearsonr\n",
    "\n",
    "import matplotlib.pyplot as plt\n",
    "import seaborn as sns\n",
    "color = sns.color_palette()\n",
    "%matplotlib inline\n",
    "import plotly.offline as py\n",
    "py.init_notebook_mode(connected=True)\n",
    "import plotly.graph_objs as go\n",
    "import plotly.tools as tls\n",
    "import plotly.express as px\n",
    "from wordcloud import WordCloud"
   ]
  },
  {
   "cell_type": "code",
   "execution_count": 8,
   "id": "e2c31244",
   "metadata": {
    "ExecuteTime": {
     "end_time": "2023-05-12T07:46:32.293487Z",
     "start_time": "2023-05-12T07:46:32.235468Z"
    }
   },
   "outputs": [],
   "source": [
    "#import the dataset\n",
    "df = pd.read_csv('tweets_sport.csv')"
   ]
  },
  {
   "cell_type": "code",
   "execution_count": 9,
   "id": "6393f4e0",
   "metadata": {
    "ExecuteTime": {
     "end_time": "2023-05-12T07:46:33.251203Z",
     "start_time": "2023-05-12T07:46:33.222845Z"
    }
   },
   "outputs": [
    {
     "name": "stdout",
     "output_type": "stream",
     "text": [
      "<class 'pandas.core.frame.DataFrame'>\n",
      "Int64Index: 13522 entries, 0 to 13522\n",
      "Data columns (total 14 columns):\n",
      " #   Column            Non-Null Count  Dtype  \n",
      "---  ------            --------------  -----  \n",
      " 0   id                13522 non-null  float64\n",
      " 1   text              13522 non-null  object \n",
      " 2   event_number      13522 non-null  int64  \n",
      " 3   player_dummy      13522 non-null  int64  \n",
      " 4   team_dummy        13522 non-null  int64  \n",
      " 5   weekday           13522 non-null  int64  \n",
      " 6   month             13522 non-null  int64  \n",
      " 7   day               13522 non-null  int64  \n",
      " 8   time              13522 non-null  object \n",
      " 9   user_screen_name  13522 non-null  object \n",
      " 10  retweets          13522 non-null  float64\n",
      " 11  likes             13522 non-null  float64\n",
      " 12  comments          13522 non-null  float64\n",
      " 13  Unnamed: 13       1 non-null      object \n",
      "dtypes: float64(4), int64(6), object(4)\n",
      "memory usage: 1.5+ MB\n"
     ]
    }
   ],
   "source": [
    "df = df.replace(' ',np.nan)\n",
    "df.dropna(subset=['likes'], inplace=True) ###\n",
    "df.info()"
   ]
  },
  {
   "cell_type": "code",
   "execution_count": 10,
   "id": "bf71f7f4",
   "metadata": {
    "ExecuteTime": {
     "end_time": "2023-05-12T07:46:35.721348Z",
     "start_time": "2023-05-12T07:46:35.696453Z"
    }
   },
   "outputs": [
    {
     "data": {
      "text/plain": [
       "id                      0\n",
       "text                    0\n",
       "event_number            0\n",
       "player_dummy            0\n",
       "team_dummy              0\n",
       "weekday                 0\n",
       "month                   0\n",
       "day                     0\n",
       "time                    0\n",
       "user_screen_name        0\n",
       "retweets                0\n",
       "likes                   0\n",
       "comments                0\n",
       "Unnamed: 13         13521\n",
       "dtype: int64"
      ]
     },
     "execution_count": 10,
     "metadata": {},
     "output_type": "execute_result"
    }
   ],
   "source": [
    "df.isnull().sum()"
   ]
  },
  {
   "cell_type": "code",
   "execution_count": 11,
   "id": "708509b1",
   "metadata": {
    "ExecuteTime": {
     "end_time": "2023-05-12T07:46:37.044386Z",
     "start_time": "2023-05-12T07:46:37.010998Z"
    },
    "scrolled": true
   },
   "outputs": [
    {
     "name": "stdout",
     "output_type": "stream",
     "text": [
      "<class 'pandas.core.frame.DataFrame'>\n",
      "Int64Index: 13522 entries, 0 to 13522\n",
      "Data columns (total 13 columns):\n",
      " #   Column            Non-Null Count  Dtype  \n",
      "---  ------            --------------  -----  \n",
      " 0   id                13522 non-null  float64\n",
      " 1   text              13522 non-null  object \n",
      " 2   event_number      13522 non-null  int64  \n",
      " 3   player_dummy      13522 non-null  int64  \n",
      " 4   team_dummy        13522 non-null  int64  \n",
      " 5   weekday           13522 non-null  int64  \n",
      " 6   month             13522 non-null  int64  \n",
      " 7   day               13522 non-null  int64  \n",
      " 8   time              13522 non-null  object \n",
      " 9   user_screen_name  13522 non-null  object \n",
      " 10  retweets          13522 non-null  float64\n",
      " 11  likes             13522 non-null  float64\n",
      " 12  comments          13522 non-null  float64\n",
      "dtypes: float64(4), int64(6), object(3)\n",
      "memory usage: 1.4+ MB\n"
     ]
    }
   ],
   "source": [
    "df.dropna(subset=['likes'], inplace=True)\n",
    "df.drop(['Unnamed: 13'], axis=1, inplace=True)\n",
    "df.info()"
   ]
  },
  {
   "cell_type": "code",
   "execution_count": null,
   "id": "30c059bc",
   "metadata": {},
   "outputs": [],
   "source": []
  },
  {
   "cell_type": "code",
   "execution_count": 12,
   "id": "d5faab27",
   "metadata": {
    "ExecuteTime": {
     "end_time": "2023-05-12T07:46:50.557342Z",
     "start_time": "2023-05-12T07:46:47.911129Z"
    }
   },
   "outputs": [
    {
     "name": "stderr",
     "output_type": "stream",
     "text": [
      "[nltk_data] Downloading package stopwords to\n",
      "[nltk_data]     C:\\Users\\j4072\\AppData\\Roaming\\nltk_data...\n",
      "[nltk_data]   Package stopwords is already up-to-date!\n"
     ]
    },
    {
     "data": {
      "image/png": "[encoded data removed]",
      "text/plain": [
       "<Figure size 640x480 with 1 Axes>"
      ]
     },
     "metadata": {},
     "output_type": "display_data"
    }
   ],
   "source": [
    "import nltk\n",
    "nltk.download('stopwords')\n",
    "from nltk.corpus import stopwords\n",
    "\n",
    "\n",
    "# Create stopword list:\n",
    "stop_words = set(stopwords.words('english'))\n",
    "stop_words.update([\"rt\", \"bathurst\",\"bathurst1000\", \"adelaide\",\"http\",\"tas\",\"tcm\",\"darwin\",\"coateshire\",\"sandown\",\"clipsal\",\"sydney\", \"townsville\"])\n",
    "textt = \" \".join(review for review in df.text)\n",
    "\n",
    "\n",
    "# Create word cloud\n",
    "wordcloud = WordCloud(stopwords=stop_words).generate(textt)\n",
    "plt.imshow(wordcloud, interpolation='bilinear')\n",
    "plt.axis(\"off\")\n",
    "plt.savefig('wordcloud11.png')\n",
    "plt.show()"
   ]
  },
  {
   "cell_type": "code",
   "execution_count": 13,
   "id": "bda4ad5e",
   "metadata": {
    "ExecuteTime": {
     "end_time": "2023-05-12T07:46:50.579935Z",
     "start_time": "2023-05-12T07:46:50.559957Z"
    }
   },
   "outputs": [
    {
     "name": "stderr",
     "output_type": "stream",
     "text": [
      "C:\\Users\\j4072\\AppData\\Local\\Temp\\ipykernel_3828\\2413311232.py:2: SettingWithCopyWarning:\n",
      "\n",
      "\n",
      "A value is trying to be set on a copy of a slice from a DataFrame\n",
      "\n",
      "See the caveats in the documentation: https://pandas.pydata.org/pandas-docs/stable/user_guide/indexing.html#returning-a-view-versus-a-copy\n",
      "\n"
     ]
    },
    {
     "data": {
      "text/plain": [
       "9619"
      ]
     },
     "execution_count": 13,
     "metadata": {},
     "output_type": "execute_result"
    }
   ],
   "source": [
    "event_11 = df[df['event_number'] == 11]\n",
    "event_11.dropna(inplace=True) # drop rows containing NaN values\n",
    "len(event_11)"
   ]
  },
  {
   "cell_type": "code",
   "execution_count": 14,
   "id": "33045f1a",
   "metadata": {
    "ExecuteTime": {
     "end_time": "2023-05-12T07:47:00.075789Z",
     "start_time": "2023-05-12T07:47:00.046147Z"
    }
   },
   "outputs": [],
   "source": [
    "from vaderSentiment.vaderSentiment import SentimentIntensityAnalyzer\n",
    "\n",
    "sentiment = SentimentIntensityAnalyzer()\n"
   ]
  },
  {
   "cell_type": "code",
   "execution_count": 15,
   "id": "e1b2ca30",
   "metadata": {
    "ExecuteTime": {
     "end_time": "2023-05-12T07:47:08.971240Z",
     "start_time": "2023-05-12T07:47:04.838526Z"
    }
   },
   "outputs": [
    {
     "name": "stderr",
     "output_type": "stream",
     "text": [
      "C:\\Users\\j4072\\AppData\\Local\\Temp\\ipykernel_3828\\334461600.py:5: SettingWithCopyWarning:\n",
      "\n",
      "\n",
      "A value is trying to be set on a copy of a slice from a DataFrame.\n",
      "Try using .loc[row_indexer,col_indexer] = value instead\n",
      "\n",
      "See the caveats in the documentation: https://pandas.pydata.org/pandas-docs/stable/user_guide/indexing.html#returning-a-view-versus-a-copy\n",
      "\n",
      "C:\\Users\\j4072\\AppData\\Local\\Temp\\ipykernel_3828\\334461600.py:5: SettingWithCopyWarning:\n",
      "\n",
      "\n",
      "A value is trying to be set on a copy of a slice from a DataFrame.\n",
      "Try using .loc[row_indexer,col_indexer] = value instead\n",
      "\n",
      "See the caveats in the documentation: https://pandas.pydata.org/pandas-docs/stable/user_guide/indexing.html#returning-a-view-versus-a-copy\n",
      "\n",
      "C:\\Users\\j4072\\AppData\\Local\\Temp\\ipykernel_3828\\334461600.py:5: SettingWithCopyWarning:\n",
      "\n",
      "\n",
      "A value is trying to be set on a copy of a slice from a DataFrame.\n",
      "Try using .loc[row_indexer,col_indexer] = value instead\n",
      "\n",
      "See the caveats in the documentation: https://pandas.pydata.org/pandas-docs/stable/user_guide/indexing.html#returning-a-view-versus-a-copy\n",
      "\n",
      "C:\\Users\\j4072\\AppData\\Local\\Temp\\ipykernel_3828\\334461600.py:5: SettingWithCopyWarning:\n",
      "\n",
      "\n",
      "A value is trying to be set on a copy of a slice from a DataFrame.\n",
      "Try using .loc[row_indexer,col_indexer] = value instead\n",
      "\n",
      "See the caveats in the documentation: https://pandas.pydata.org/pandas-docs/stable/user_guide/indexing.html#returning-a-view-versus-a-copy\n",
      "\n"
     ]
    },
    {
     "data": {
      "text/html": [
       "<div>\n",
       "<style scoped>\n",
       "    .dataframe tbody tr th:only-of-type {\n",
       "        vertical-align: middle;\n",
       "    }\n",
       "\n",
       "    .dataframe tbody tr th {\n",
       "        vertical-align: top;\n",
       "    }\n",
       "\n",
       "    .dataframe thead th {\n",
       "        text-align: right;\n",
       "    }\n",
       "</style>\n",
       "<table border=\"1\" class=\"dataframe\">\n",
       "  <thead>\n",
       "    <tr style=\"text-align: right;\">\n",
       "      <th></th>\n",
       "      <th>id</th>\n",
       "      <th>text</th>\n",
       "      <th>event_number</th>\n",
       "      <th>player_dummy</th>\n",
       "      <th>team_dummy</th>\n",
       "      <th>weekday</th>\n",
       "      <th>month</th>\n",
       "      <th>day</th>\n",
       "      <th>time</th>\n",
       "      <th>user_screen_name</th>\n",
       "      <th>retweets</th>\n",
       "      <th>likes</th>\n",
       "      <th>comments</th>\n",
       "      <th>neg</th>\n",
       "      <th>neu</th>\n",
       "      <th>pos</th>\n",
       "      <th>compound</th>\n",
       "    </tr>\n",
       "  </thead>\n",
       "  <tbody>\n",
       "    <tr>\n",
       "      <th>0</th>\n",
       "      <td>5.210000e+17</td>\n",
       "      <td>\"rt @dariofranchitti: this bathurst race has b...</td>\n",
       "      <td>11</td>\n",
       "      <td>0</td>\n",
       "      <td>0</td>\n",
       "      <td>7</td>\n",
       "      <td>10</td>\n",
       "      <td>12</td>\n",
       "      <td>7:28</td>\n",
       "      <td>007_dot</td>\n",
       "      <td>0.0</td>\n",
       "      <td>0.0</td>\n",
       "      <td>0.0</td>\n",
       "      <td>0.0</td>\n",
       "      <td>0.644</td>\n",
       "      <td>0.356</td>\n",
       "      <td>0.8881</td>\n",
       "    </tr>\n",
       "    <tr>\n",
       "      <th>1</th>\n",
       "      <td>5.210000e+17</td>\n",
       "      <td>\"rt @wtf1couk: gp3 fans while you're waiting f...</td>\n",
       "      <td>11</td>\n",
       "      <td>0</td>\n",
       "      <td>0</td>\n",
       "      <td>7</td>\n",
       "      <td>10</td>\n",
       "      <td>12</td>\n",
       "      <td>7:28</td>\n",
       "      <td>007_dot</td>\n",
       "      <td>0.0</td>\n",
       "      <td>0.0</td>\n",
       "      <td>0.0</td>\n",
       "      <td>0.0</td>\n",
       "      <td>0.862</td>\n",
       "      <td>0.138</td>\n",
       "      <td>0.4939</td>\n",
       "    </tr>\n",
       "    <tr>\n",
       "      <th>2</th>\n",
       "      <td>5.210000e+17</td>\n",
       "      <td>\"rt @sally_fitz: incredible final laps of #bat...</td>\n",
       "      <td>11</td>\n",
       "      <td>1</td>\n",
       "      <td>0</td>\n",
       "      <td>7</td>\n",
       "      <td>10</td>\n",
       "      <td>12</td>\n",
       "      <td>7:31</td>\n",
       "      <td>007cnt</td>\n",
       "      <td>0.0</td>\n",
       "      <td>0.0</td>\n",
       "      <td>0.0</td>\n",
       "      <td>0.0</td>\n",
       "      <td>0.833</td>\n",
       "      <td>0.167</td>\n",
       "      <td>0.5574</td>\n",
       "    </tr>\n",
       "    <tr>\n",
       "      <th>3</th>\n",
       "      <td>5.210000e+17</td>\n",
       "      <td>\"rt @v8supercars: top 10 - mostert, moffat, pe...</td>\n",
       "      <td>11</td>\n",
       "      <td>0</td>\n",
       "      <td>0</td>\n",
       "      <td>7</td>\n",
       "      <td>10</td>\n",
       "      <td>12</td>\n",
       "      <td>9:04</td>\n",
       "      <td>007pixxx</td>\n",
       "      <td>0.0</td>\n",
       "      <td>0.0</td>\n",
       "      <td>0.0</td>\n",
       "      <td>0.0</td>\n",
       "      <td>0.893</td>\n",
       "      <td>0.107</td>\n",
       "      <td>0.2023</td>\n",
       "    </tr>\n",
       "    <tr>\n",
       "      <th>4</th>\n",
       "      <td>5.210000e+17</td>\n",
       "      <td>\"#bathurst1000  i present to you, the fully st...</td>\n",
       "      <td>11</td>\n",
       "      <td>0</td>\n",
       "      <td>0</td>\n",
       "      <td>7</td>\n",
       "      <td>10</td>\n",
       "      <td>12</td>\n",
       "      <td>10:20</td>\n",
       "      <td>007pixxx</td>\n",
       "      <td>0.0</td>\n",
       "      <td>0.0</td>\n",
       "      <td>0.0</td>\n",
       "      <td>0.0</td>\n",
       "      <td>0.871</td>\n",
       "      <td>0.129</td>\n",
       "      <td>0.1970</td>\n",
       "    </tr>\n",
       "    <tr>\n",
       "      <th>...</th>\n",
       "      <td>...</td>\n",
       "      <td>...</td>\n",
       "      <td>...</td>\n",
       "      <td>...</td>\n",
       "      <td>...</td>\n",
       "      <td>...</td>\n",
       "      <td>...</td>\n",
       "      <td>...</td>\n",
       "      <td>...</td>\n",
       "      <td>...</td>\n",
       "      <td>...</td>\n",
       "      <td>...</td>\n",
       "      <td>...</td>\n",
       "      <td>...</td>\n",
       "      <td>...</td>\n",
       "      <td>...</td>\n",
       "      <td>...</td>\n",
       "    </tr>\n",
       "    <tr>\n",
       "      <th>122</th>\n",
       "      <td>5.210000e+17</td>\n",
       "      <td>\"to put what happened to svg into perspective,...</td>\n",
       "      <td>11</td>\n",
       "      <td>0</td>\n",
       "      <td>0</td>\n",
       "      <td>7</td>\n",
       "      <td>10</td>\n",
       "      <td>12</td>\n",
       "      <td>7:09</td>\n",
       "      <td>4theloveofindy</td>\n",
       "      <td>0.0</td>\n",
       "      <td>0.0</td>\n",
       "      <td>0.0</td>\n",
       "      <td>0.0</td>\n",
       "      <td>1.000</td>\n",
       "      <td>0.000</td>\n",
       "      <td>0.0000</td>\n",
       "    </tr>\n",
       "    <tr>\n",
       "      <th>123</th>\n",
       "      <td>5.210000e+17</td>\n",
       "      <td>\"big day: charlotte, bathurst, fuji, motegi an...</td>\n",
       "      <td>11</td>\n",
       "      <td>0</td>\n",
       "      <td>0</td>\n",
       "      <td>7</td>\n",
       "      <td>10</td>\n",
       "      <td>12</td>\n",
       "      <td>18:09</td>\n",
       "      <td>4theloveofindy</td>\n",
       "      <td>0.0</td>\n",
       "      <td>1.0</td>\n",
       "      <td>0.0</td>\n",
       "      <td>0.0</td>\n",
       "      <td>1.000</td>\n",
       "      <td>0.000</td>\n",
       "      <td>0.0000</td>\n",
       "    </tr>\n",
       "    <tr>\n",
       "      <th>124</th>\n",
       "      <td>5.210000e+17</td>\n",
       "      <td>\"blanchard in the wall. safety car throws a mo...</td>\n",
       "      <td>11</td>\n",
       "      <td>0</td>\n",
       "      <td>0</td>\n",
       "      <td>7</td>\n",
       "      <td>10</td>\n",
       "      <td>12</td>\n",
       "      <td>7:03</td>\n",
       "      <td>4theloveofindy</td>\n",
       "      <td>0.0</td>\n",
       "      <td>0.0</td>\n",
       "      <td>0.0</td>\n",
       "      <td>0.0</td>\n",
       "      <td>0.865</td>\n",
       "      <td>0.135</td>\n",
       "      <td>0.4215</td>\n",
       "    </tr>\n",
       "    <tr>\n",
       "      <th>128</th>\n",
       "      <td>5.210000e+17</td>\n",
       "      <td>\"more real than most reality tv #bathurst1000\"</td>\n",
       "      <td>11</td>\n",
       "      <td>0</td>\n",
       "      <td>0</td>\n",
       "      <td>7</td>\n",
       "      <td>10</td>\n",
       "      <td>12</td>\n",
       "      <td>7:09</td>\n",
       "      <td>50shadesofteal</td>\n",
       "      <td>0.0</td>\n",
       "      <td>0.0</td>\n",
       "      <td>0.0</td>\n",
       "      <td>0.0</td>\n",
       "      <td>1.000</td>\n",
       "      <td>0.000</td>\n",
       "      <td>0.0000</td>\n",
       "    </tr>\n",
       "    <tr>\n",
       "      <th>129</th>\n",
       "      <td>5.210000e+17</td>\n",
       "      <td>\"rt @tasmania: the magical binalong bay near s...</td>\n",
       "      <td>11</td>\n",
       "      <td>0</td>\n",
       "      <td>0</td>\n",
       "      <td>7</td>\n",
       "      <td>10</td>\n",
       "      <td>12</td>\n",
       "      <td>9:16</td>\n",
       "      <td>53pamela</td>\n",
       "      <td>0.0</td>\n",
       "      <td>0.0</td>\n",
       "      <td>0.0</td>\n",
       "      <td>0.0</td>\n",
       "      <td>0.913</td>\n",
       "      <td>0.087</td>\n",
       "      <td>0.2023</td>\n",
       "    </tr>\n",
       "  </tbody>\n",
       "</table>\n",
       "<p>100 rows × 17 columns</p>\n",
       "</div>"
      ],
      "text/plain": [
       "               id                                               text  \\\n",
       "0    5.210000e+17  \"rt @dariofranchitti: this bathurst race has b...   \n",
       "1    5.210000e+17  \"rt @wtf1couk: gp3 fans while you're waiting f...   \n",
       "2    5.210000e+17  \"rt @sally_fitz: incredible final laps of #bat...   \n",
       "3    5.210000e+17  \"rt @v8supercars: top 10 - mostert, moffat, pe...   \n",
       "4    5.210000e+17  \"#bathurst1000  i present to you, the fully st...   \n",
       "..            ...                                                ...   \n",
       "122  5.210000e+17  \"to put what happened to svg into perspective,...   \n",
       "123  5.210000e+17  \"big day: charlotte, bathurst, fuji, motegi an...   \n",
       "124  5.210000e+17  \"blanchard in the wall. safety car throws a mo...   \n",
       "128  5.210000e+17     \"more real than most reality tv #bathurst1000\"   \n",
       "129  5.210000e+17  \"rt @tasmania: the magical binalong bay near s...   \n",
       "\n",
       "     event_number  player_dummy  team_dummy  weekday  month  day   time  \\\n",
       "0              11             0           0        7     10   12   7:28   \n",
       "1              11             0           0        7     10   12   7:28   \n",
       "2              11             1           0        7     10   12   7:31   \n",
       "3              11             0           0        7     10   12   9:04   \n",
       "4              11             0           0        7     10   12  10:20   \n",
       "..            ...           ...         ...      ...    ...  ...    ...   \n",
       "122            11             0           0        7     10   12   7:09   \n",
       "123            11             0           0        7     10   12  18:09   \n",
       "124            11             0           0        7     10   12   7:03   \n",
       "128            11             0           0        7     10   12   7:09   \n",
       "129            11             0           0        7     10   12   9:16   \n",
       "\n",
       "    user_screen_name  retweets  likes  comments  neg    neu    pos  compound  \n",
       "0            007_dot       0.0    0.0       0.0  0.0  0.644  0.356    0.8881  \n",
       "1            007_dot       0.0    0.0       0.0  0.0  0.862  0.138    0.4939  \n",
       "2             007cnt       0.0    0.0       0.0  0.0  0.833  0.167    0.5574  \n",
       "3           007pixxx       0.0    0.0       0.0  0.0  0.893  0.107    0.2023  \n",
       "4           007pixxx       0.0    0.0       0.0  0.0  0.871  0.129    0.1970  \n",
       "..               ...       ...    ...       ...  ...    ...    ...       ...  \n",
       "122   4theloveofindy       0.0    0.0       0.0  0.0  1.000  0.000    0.0000  \n",
       "123   4theloveofindy       0.0    1.0       0.0  0.0  1.000  0.000    0.0000  \n",
       "124   4theloveofindy       0.0    0.0       0.0  0.0  0.865  0.135    0.4215  \n",
       "128   50shadesofteal       0.0    0.0       0.0  0.0  1.000  0.000    0.0000  \n",
       "129         53pamela       0.0    0.0       0.0  0.0  0.913  0.087    0.2023  \n",
       "\n",
       "[100 rows x 17 columns]"
      ]
     },
     "execution_count": 15,
     "metadata": {},
     "output_type": "execute_result"
    }
   ],
   "source": [
    "from nltk.sentiment.vader import SentimentIntensityAnalyzer\n",
    "sentiment = SentimentIntensityAnalyzer()\n",
    "\n",
    "\n",
    "event_11[['neg', 'neu', 'pos', 'compound']] = event_11['text'].apply(lambda x: pd.Series(sentiment.polarity_scores(x)))\n",
    "event_11.head(100)"
   ]
  },
  {
   "cell_type": "code",
   "execution_count": 16,
   "id": "7e22f720",
   "metadata": {
    "ExecuteTime": {
     "end_time": "2023-05-12T07:47:08.983717Z",
     "start_time": "2023-05-12T07:47:08.975232Z"
    }
   },
   "outputs": [],
   "source": [
    "event_11 = event_11[event_11['compound'] != 0]"
   ]
  },
  {
   "cell_type": "code",
   "execution_count": 17,
   "id": "7f6cea3f",
   "metadata": {
    "ExecuteTime": {
     "end_time": "2023-05-12T07:47:13.681316Z",
     "start_time": "2023-05-12T07:47:13.673830Z"
    }
   },
   "outputs": [],
   "source": [
    "event_11['sentiment'] = event_11['compound'].apply(lambda rating : +1 if rating > 0 else -1)"
   ]
  },
  {
   "cell_type": "code",
   "execution_count": 18,
   "id": "f969a143",
   "metadata": {
    "ExecuteTime": {
     "end_time": "2023-05-12T07:47:33.522240Z",
     "start_time": "2023-05-12T07:47:33.507888Z"
    }
   },
   "outputs": [
    {
     "name": "stdout",
     "output_type": "stream",
     "text": [
      "negative samples: 1592\n",
      "postitive samples: 4275\n"
     ]
    }
   ],
   "source": [
    "print(\"negative samples:\",len(event_11[event_11[\"sentiment\"]==-1]))\n",
    "print(\"postitive samples:\",len(event_11[event_11[\"sentiment\"]==1]))"
   ]
  },
  {
   "cell_type": "code",
   "execution_count": 19,
   "id": "8f0e4f9e",
   "metadata": {
    "ExecuteTime": {
     "end_time": "2023-05-12T07:47:38.581033Z",
     "start_time": "2023-05-12T07:47:38.572055Z"
    }
   },
   "outputs": [],
   "source": [
    "positive_11 = event_11[event_11['sentiment'] == 1]\n",
    "negative_11 = event_11[event_11['sentiment'] == -1]"
   ]
  },
  {
   "cell_type": "code",
   "execution_count": 20,
   "id": "8dfb68c8",
   "metadata": {
    "ExecuteTime": {
     "end_time": "2023-05-12T07:47:41.087418Z",
     "start_time": "2023-05-12T07:47:41.081342Z"
    },
    "scrolled": true
   },
   "outputs": [],
   "source": [
    "# df['event_number'].value_counts()"
   ]
  },
  {
   "cell_type": "code",
   "execution_count": 21,
   "id": "eaa52f75",
   "metadata": {
    "ExecuteTime": {
     "end_time": "2023-05-12T07:47:45.609418Z",
     "start_time": "2023-05-12T07:47:45.593850Z"
    }
   },
   "outputs": [
    {
     "name": "stdout",
     "output_type": "stream",
     "text": [
      "['\"rt @dariofranchitti: this bathurst race has been an absolute belter!! love the aussie commentary. was hoping for better for my mate @jcourtâ€¦\"', '\"rt @wtf1couk: gp3 fans while you\\'re waiting for the race to resume, flick over to the #bathurst1000. exciting final few laps.\"', '\"rt @sally_fitz: incredible final laps of #bathurst1000 remarkable comeback from @jamiewhincup coming from the back of the grid @redbullraciâ€¦\"']\n"
     ]
    }
   ],
   "source": [
    "text=event_11['text']\n",
    "\n",
    "#Change the text to lower case\n",
    "text = text.map(lambda text: text.lower())\n",
    "#Convert data from pandas format to list values  \n",
    "text=text.values.tolist()\n",
    "\n",
    "#print the first 3 tweets\n",
    "print(text[:3])"
   ]
  },
  {
   "cell_type": "code",
   "execution_count": 22,
   "id": "5eb54e36",
   "metadata": {
    "ExecuteTime": {
     "end_time": "2023-05-12T07:47:47.531111Z",
     "start_time": "2023-05-12T07:47:47.478467Z"
    }
   },
   "outputs": [
    {
     "name": "stderr",
     "output_type": "stream",
     "text": [
      "[nltk_data] Downloading package wordnet to\n",
      "[nltk_data]     C:\\Users\\j4072\\AppData\\Roaming\\nltk_data...\n",
      "[nltk_data]   Package wordnet is already up-to-date!\n"
     ]
    },
    {
     "data": {
      "text/plain": [
       "True"
      ]
     },
     "execution_count": 22,
     "metadata": {},
     "output_type": "execute_result"
    }
   ],
   "source": [
    "import nltk\n",
    "nltk.download('wordnet')"
   ]
  },
  {
   "cell_type": "code",
   "execution_count": 23,
   "id": "9a4d27c3",
   "metadata": {
    "ExecuteTime": {
     "end_time": "2023-05-12T07:47:48.489045Z",
     "start_time": "2023-05-12T07:47:48.476366Z"
    }
   },
   "outputs": [
    {
     "name": "stderr",
     "output_type": "stream",
     "text": [
      "[nltk_data] Downloading package vader_lexicon to\n",
      "[nltk_data]     C:\\Users\\j4072\\AppData\\Roaming\\nltk_data...\n",
      "[nltk_data]   Package vader_lexicon is already up-to-date!\n"
     ]
    },
    {
     "data": {
      "text/plain": [
       "True"
      ]
     },
     "execution_count": 23,
     "metadata": {},
     "output_type": "execute_result"
    }
   ],
   "source": [
    "import nltk\n",
    "nltk.download('vader_lexicon')"
   ]
  },
  {
   "cell_type": "code",
   "execution_count": 24,
   "id": "4a51d481",
   "metadata": {
    "ExecuteTime": {
     "end_time": "2023-05-12T07:47:59.138860Z",
     "start_time": "2023-05-12T07:47:57.292858Z"
    }
   },
   "outputs": [],
   "source": [
    "# Conduct lemmatization for the words in the text\n",
    "from nltk.stem import WordNetLemmatizer\n",
    "\n",
    "tokens=[]\n",
    "for sent in text:\n",
    "    temp=[WordNetLemmatizer().lemmatize(word) for word in sent.split(\" \")]\n",
    "    tokens.append(temp)"
   ]
  },
  {
   "cell_type": "code",
   "execution_count": 25,
   "id": "f5016f14",
   "metadata": {
    "ExecuteTime": {
     "end_time": "2023-05-12T07:47:59.463962Z",
     "start_time": "2023-05-12T07:47:59.454938Z"
    }
   },
   "outputs": [],
   "source": [
    "# Customized the stopwords\n",
    "from sklearn.feature_extraction import text \n",
    "# my_additional_stop_words = [\"bathurst\",\"adelaide\",\"http\",\"tas\",\"tcm\",\"darwin\",\"coateshire\",\"sandown\",\"clipsal\",\"sydney\", \"townsville\"]\n",
    "# stop_words = text.ENGLISH_STOP_WORDS.union(my_additional_stop_words)\n",
    "\n",
    "# my_additional_stop_words = [\"bathurst\",\"adelaide\",\"http\",\"tas\",\"tcm\",\"darwin\",\"coateshire\",\"sandown\",\"clipsal\",\"sydney\", \"townsville\"]\n",
    "#stop_words = text.ENGLISH_STOP_WORDS  #.union(my_additional_stop_words)\n",
    "stop_words = list(stop_words)"
   ]
  },
  {
   "cell_type": "markdown",
   "id": "de7d606e",
   "metadata": {},
   "source": [
    "Topic modelling for whole event 11"
   ]
  },
  {
   "cell_type": "code",
   "execution_count": 28,
   "id": "a9add0b4",
   "metadata": {
    "ExecuteTime": {
     "end_time": "2023-05-12T07:50:02.485973Z",
     "start_time": "2023-05-12T07:49:59.647351Z"
    }
   },
   "outputs": [
    {
     "data": {
      "text/html": [
       "<div>\n",
       "<style scoped>\n",
       "    .dataframe tbody tr th:only-of-type {\n",
       "        vertical-align: middle;\n",
       "    }\n",
       "\n",
       "    .dataframe tbody tr th {\n",
       "        vertical-align: top;\n",
       "    }\n",
       "\n",
       "    .dataframe thead th {\n",
       "        text-align: right;\n",
       "    }\n",
       "</style>\n",
       "<table border=\"1\" class=\"dataframe\">\n",
       "  <thead>\n",
       "    <tr style=\"text-align: right;\">\n",
       "      <th></th>\n",
       "      <th>id</th>\n",
       "      <th>text</th>\n",
       "      <th>event_number</th>\n",
       "      <th>player_dummy</th>\n",
       "      <th>team_dummy</th>\n",
       "      <th>weekday</th>\n",
       "      <th>month</th>\n",
       "      <th>day</th>\n",
       "      <th>time</th>\n",
       "      <th>user_screen_name</th>\n",
       "      <th>retweets</th>\n",
       "      <th>likes</th>\n",
       "      <th>comments</th>\n",
       "      <th>neg</th>\n",
       "      <th>neu</th>\n",
       "      <th>pos</th>\n",
       "      <th>compound</th>\n",
       "      <th>sentiment</th>\n",
       "    </tr>\n",
       "  </thead>\n",
       "  <tbody>\n",
       "    <tr>\n",
       "      <th>0</th>\n",
       "      <td>5.210000e+17</td>\n",
       "      <td>\"rt @dariofranchitti: this bathurst race has b...</td>\n",
       "      <td>11</td>\n",
       "      <td>0</td>\n",
       "      <td>0</td>\n",
       "      <td>7</td>\n",
       "      <td>10</td>\n",
       "      <td>12</td>\n",
       "      <td>7:28</td>\n",
       "      <td>007_dot</td>\n",
       "      <td>0.0</td>\n",
       "      <td>0.0</td>\n",
       "      <td>0.0</td>\n",
       "      <td>0.0</td>\n",
       "      <td>0.644</td>\n",
       "      <td>0.356</td>\n",
       "      <td>0.8881</td>\n",
       "      <td>1</td>\n",
       "    </tr>\n",
       "    <tr>\n",
       "      <th>1</th>\n",
       "      <td>5.210000e+17</td>\n",
       "      <td>\"rt @wtf1couk: gp3 fans while you're waiting f...</td>\n",
       "      <td>11</td>\n",
       "      <td>0</td>\n",
       "      <td>0</td>\n",
       "      <td>7</td>\n",
       "      <td>10</td>\n",
       "      <td>12</td>\n",
       "      <td>7:28</td>\n",
       "      <td>007_dot</td>\n",
       "      <td>0.0</td>\n",
       "      <td>0.0</td>\n",
       "      <td>0.0</td>\n",
       "      <td>0.0</td>\n",
       "      <td>0.862</td>\n",
       "      <td>0.138</td>\n",
       "      <td>0.4939</td>\n",
       "      <td>1</td>\n",
       "    </tr>\n",
       "    <tr>\n",
       "      <th>2</th>\n",
       "      <td>5.210000e+17</td>\n",
       "      <td>\"rt @sally_fitz: incredible final laps of #bat...</td>\n",
       "      <td>11</td>\n",
       "      <td>1</td>\n",
       "      <td>0</td>\n",
       "      <td>7</td>\n",
       "      <td>10</td>\n",
       "      <td>12</td>\n",
       "      <td>7:31</td>\n",
       "      <td>007cnt</td>\n",
       "      <td>0.0</td>\n",
       "      <td>0.0</td>\n",
       "      <td>0.0</td>\n",
       "      <td>0.0</td>\n",
       "      <td>0.833</td>\n",
       "      <td>0.167</td>\n",
       "      <td>0.5574</td>\n",
       "      <td>1</td>\n",
       "    </tr>\n",
       "    <tr>\n",
       "      <th>3</th>\n",
       "      <td>5.210000e+17</td>\n",
       "      <td>\"rt @v8supercars: top 10 - mostert, moffat, pe...</td>\n",
       "      <td>11</td>\n",
       "      <td>0</td>\n",
       "      <td>0</td>\n",
       "      <td>7</td>\n",
       "      <td>10</td>\n",
       "      <td>12</td>\n",
       "      <td>9:04</td>\n",
       "      <td>007pixxx</td>\n",
       "      <td>0.0</td>\n",
       "      <td>0.0</td>\n",
       "      <td>0.0</td>\n",
       "      <td>0.0</td>\n",
       "      <td>0.893</td>\n",
       "      <td>0.107</td>\n",
       "      <td>0.2023</td>\n",
       "      <td>1</td>\n",
       "    </tr>\n",
       "    <tr>\n",
       "      <th>4</th>\n",
       "      <td>5.210000e+17</td>\n",
       "      <td>\"#bathurst1000  i present to you, the fully st...</td>\n",
       "      <td>11</td>\n",
       "      <td>0</td>\n",
       "      <td>0</td>\n",
       "      <td>7</td>\n",
       "      <td>10</td>\n",
       "      <td>12</td>\n",
       "      <td>10:20</td>\n",
       "      <td>007pixxx</td>\n",
       "      <td>0.0</td>\n",
       "      <td>0.0</td>\n",
       "      <td>0.0</td>\n",
       "      <td>0.0</td>\n",
       "      <td>0.871</td>\n",
       "      <td>0.129</td>\n",
       "      <td>0.1970</td>\n",
       "      <td>1</td>\n",
       "    </tr>\n",
       "    <tr>\n",
       "      <th>...</th>\n",
       "      <td>...</td>\n",
       "      <td>...</td>\n",
       "      <td>...</td>\n",
       "      <td>...</td>\n",
       "      <td>...</td>\n",
       "      <td>...</td>\n",
       "      <td>...</td>\n",
       "      <td>...</td>\n",
       "      <td>...</td>\n",
       "      <td>...</td>\n",
       "      <td>...</td>\n",
       "      <td>...</td>\n",
       "      <td>...</td>\n",
       "      <td>...</td>\n",
       "      <td>...</td>\n",
       "      <td>...</td>\n",
       "      <td>...</td>\n",
       "      <td>...</td>\n",
       "    </tr>\n",
       "    <tr>\n",
       "      <th>205</th>\n",
       "      <td>5.210000e+17</td>\n",
       "      <td>\"rt @wrcgerardquinn: a @ford v8 wins #bathurst...</td>\n",
       "      <td>11</td>\n",
       "      <td>0</td>\n",
       "      <td>0</td>\n",
       "      <td>7</td>\n",
       "      <td>10</td>\n",
       "      <td>12</td>\n",
       "      <td>8:36</td>\n",
       "      <td>__rsport</td>\n",
       "      <td>0.0</td>\n",
       "      <td>0.0</td>\n",
       "      <td>0.0</td>\n",
       "      <td>0.0</td>\n",
       "      <td>0.683</td>\n",
       "      <td>0.317</td>\n",
       "      <td>0.7579</td>\n",
       "      <td>1</td>\n",
       "    </tr>\n",
       "    <tr>\n",
       "      <th>210</th>\n",
       "      <td>5.210000e+17</td>\n",
       "      <td>\"festival of architecture and design #adlarchi...</td>\n",
       "      <td>11</td>\n",
       "      <td>0</td>\n",
       "      <td>0</td>\n",
       "      <td>7</td>\n",
       "      <td>10</td>\n",
       "      <td>12</td>\n",
       "      <td>9:04</td>\n",
       "      <td>_athanasios</td>\n",
       "      <td>0.0</td>\n",
       "      <td>9.0</td>\n",
       "      <td>0.0</td>\n",
       "      <td>0.0</td>\n",
       "      <td>0.775</td>\n",
       "      <td>0.225</td>\n",
       "      <td>0.4939</td>\n",
       "      <td>1</td>\n",
       "    </tr>\n",
       "    <tr>\n",
       "      <th>211</th>\n",
       "      <td>5.210000e+17</td>\n",
       "      <td>\"sport. the only reality television worth watc...</td>\n",
       "      <td>11</td>\n",
       "      <td>0</td>\n",
       "      <td>0</td>\n",
       "      <td>7</td>\n",
       "      <td>10</td>\n",
       "      <td>12</td>\n",
       "      <td>7:37</td>\n",
       "      <td>_condo</td>\n",
       "      <td>4.0</td>\n",
       "      <td>10.0</td>\n",
       "      <td>0.0</td>\n",
       "      <td>0.0</td>\n",
       "      <td>0.804</td>\n",
       "      <td>0.196</td>\n",
       "      <td>0.2942</td>\n",
       "      <td>1</td>\n",
       "    </tr>\n",
       "    <tr>\n",
       "      <th>212</th>\n",
       "      <td>5.210000e+17</td>\n",
       "      <td>\"thanks @qantas for the rideâ€¦what a beautifu...</td>\n",
       "      <td>11</td>\n",
       "      <td>0</td>\n",
       "      <td>0</td>\n",
       "      <td>7</td>\n",
       "      <td>10</td>\n",
       "      <td>12</td>\n",
       "      <td>8:48</td>\n",
       "      <td>_david_ng</td>\n",
       "      <td>0.0</td>\n",
       "      <td>1.0</td>\n",
       "      <td>1.0</td>\n",
       "      <td>0.0</td>\n",
       "      <td>0.618</td>\n",
       "      <td>0.382</td>\n",
       "      <td>0.7783</td>\n",
       "      <td>1</td>\n",
       "    </tr>\n",
       "    <tr>\n",
       "      <th>213</th>\n",
       "      <td>5.210000e+17</td>\n",
       "      <td>\"paul morris well earned after 20+ years in th...</td>\n",
       "      <td>11</td>\n",
       "      <td>0</td>\n",
       "      <td>0</td>\n",
       "      <td>7</td>\n",
       "      <td>10</td>\n",
       "      <td>12</td>\n",
       "      <td>7:36</td>\n",
       "      <td>_dj1_</td>\n",
       "      <td>0.0</td>\n",
       "      <td>1.0</td>\n",
       "      <td>1.0</td>\n",
       "      <td>0.0</td>\n",
       "      <td>0.683</td>\n",
       "      <td>0.317</td>\n",
       "      <td>0.7568</td>\n",
       "      <td>1</td>\n",
       "    </tr>\n",
       "  </tbody>\n",
       "</table>\n",
       "<p>100 rows × 18 columns</p>\n",
       "</div>"
      ],
      "text/plain": [
       "               id                                               text  \\\n",
       "0    5.210000e+17  \"rt @dariofranchitti: this bathurst race has b...   \n",
       "1    5.210000e+17  \"rt @wtf1couk: gp3 fans while you're waiting f...   \n",
       "2    5.210000e+17  \"rt @sally_fitz: incredible final laps of #bat...   \n",
       "3    5.210000e+17  \"rt @v8supercars: top 10 - mostert, moffat, pe...   \n",
       "4    5.210000e+17  \"#bathurst1000  i present to you, the fully st...   \n",
       "..            ...                                                ...   \n",
       "205  5.210000e+17  \"rt @wrcgerardquinn: a @ford v8 wins #bathurst...   \n",
       "210  5.210000e+17  \"festival of architecture and design #adlarchi...   \n",
       "211  5.210000e+17  \"sport. the only reality television worth watc...   \n",
       "212  5.210000e+17  \"thanks @qantas for the rideâ€¦what a beautifu...   \n",
       "213  5.210000e+17  \"paul morris well earned after 20+ years in th...   \n",
       "\n",
       "     event_number  player_dummy  team_dummy  weekday  month  day   time  \\\n",
       "0              11             0           0        7     10   12   7:28   \n",
       "1              11             0           0        7     10   12   7:28   \n",
       "2              11             1           0        7     10   12   7:31   \n",
       "3              11             0           0        7     10   12   9:04   \n",
       "4              11             0           0        7     10   12  10:20   \n",
       "..            ...           ...         ...      ...    ...  ...    ...   \n",
       "205            11             0           0        7     10   12   8:36   \n",
       "210            11             0           0        7     10   12   9:04   \n",
       "211            11             0           0        7     10   12   7:37   \n",
       "212            11             0           0        7     10   12   8:48   \n",
       "213            11             0           0        7     10   12   7:36   \n",
       "\n",
       "    user_screen_name  retweets  likes  comments  neg    neu    pos  compound  \\\n",
       "0            007_dot       0.0    0.0       0.0  0.0  0.644  0.356    0.8881   \n",
       "1            007_dot       0.0    0.0       0.0  0.0  0.862  0.138    0.4939   \n",
       "2             007cnt       0.0    0.0       0.0  0.0  0.833  0.167    0.5574   \n",
       "3           007pixxx       0.0    0.0       0.0  0.0  0.893  0.107    0.2023   \n",
       "4           007pixxx       0.0    0.0       0.0  0.0  0.871  0.129    0.1970   \n",
       "..               ...       ...    ...       ...  ...    ...    ...       ...   \n",
       "205         __rsport       0.0    0.0       0.0  0.0  0.683  0.317    0.7579   \n",
       "210      _athanasios       0.0    9.0       0.0  0.0  0.775  0.225    0.4939   \n",
       "211           _condo       4.0   10.0       0.0  0.0  0.804  0.196    0.2942   \n",
       "212        _david_ng       0.0    1.0       1.0  0.0  0.618  0.382    0.7783   \n",
       "213            _dj1_       0.0    1.0       1.0  0.0  0.683  0.317    0.7568   \n",
       "\n",
       "     sentiment  \n",
       "0            1  \n",
       "1            1  \n",
       "2            1  \n",
       "3            1  \n",
       "4            1  \n",
       "..         ...  \n",
       "205          1  \n",
       "210          1  \n",
       "211          1  \n",
       "212          1  \n",
       "213          1  \n",
       "\n",
       "[100 rows x 18 columns]"
      ]
     },
     "execution_count": 28,
     "metadata": {},
     "output_type": "execute_result"
    }
   ],
   "source": [
    "from nltk.sentiment.vader import SentimentIntensityAnalyzer\n",
    "sentiment = SentimentIntensityAnalyzer()\n",
    "\n",
    "event_11.dropna(inplace=True)  # drop rows containing NaN values\n",
    "event_11[['neg', 'neu', 'pos', 'compound']] = event_11['text'].apply(lambda x: pd.Series(sentiment.polarity_scores(x)))\n",
    "event_11.head(100)"
   ]
  },
  {
   "cell_type": "code",
   "execution_count": 29,
   "id": "9f5fe6e1",
   "metadata": {
    "ExecuteTime": {
     "end_time": "2023-05-12T07:50:40.662255Z",
     "start_time": "2023-05-12T07:50:34.837870Z"
    }
   },
   "outputs": [
    {
     "name": "stdout",
     "output_type": "stream",
     "text": [
      "CPU times: total: 5.19 s\n",
      "Wall time: 5.81 s\n"
     ]
    }
   ],
   "source": [
    "%%time\n",
    "from sklearn.feature_extraction.text import CountVectorizer\n",
    "from sklearn.decomposition import LatentDirichletAllocation\n",
    "\n",
    "# Set how many topics we need\n",
    "NUM_TOPICS = 10\n",
    "event_11['tokens']=tokens\n",
    "text_train = list(event_11['tokens'].apply(lambda x: ' '.join(x)))\n",
    "\n",
    "# Convert a collection of text documents to a matrix of token counts.\n",
    "## min_df: ignore terms that have a document frequency strictly lower than the given threshold\n",
    "## max_df: ignore terms that have a document frequency strictly higher than the given threshold\n",
    "## stop_words: ‘english’, list\n",
    "## lowercase: Convert all characters to lowercase before tokenizing.\n",
    "## token_pattern: Regular expression denoting what constitutes a “token”\n",
    "vectoriser = CountVectorizer(min_df=5, max_df=0.9,\n",
    "                             stop_words=stop_words,lowercase=True,\n",
    "                             token_pattern='[a-zA-Z\\-][a-zA-Z\\-]{2,}')\n",
    "\n",
    "data_vectorized= vectoriser.fit_transform(text_train)\n",
    "\n",
    "# Build a Latent Dirichlet Allocation Model\n",
    "lda_model = LatentDirichletAllocation(n_components=NUM_TOPICS, max_iter=10, random_state=0, learning_method='online')\n",
    "lda_Z = lda_model.fit_transform(data_vectorized)\n",
    " \n",
    "#text = \"mclaughlin: we can win front row qualifying only the start for volvo says young gun\"\n",
    "#x = lda_model.transform(vectorizer.transform([text]))[0]\n",
    "#print(x, x.sum())"
   ]
  },
  {
   "cell_type": "code",
   "execution_count": 30,
   "id": "4b79e8e3",
   "metadata": {
    "ExecuteTime": {
     "end_time": "2023-05-12T07:50:44.753409Z",
     "start_time": "2023-05-12T07:50:44.748422Z"
    }
   },
   "outputs": [
    {
     "name": "stdout",
     "output_type": "stream",
     "text": [
      "(5867, 10)\n"
     ]
    }
   ],
   "source": [
    "print(lda_Z.shape)"
   ]
  },
  {
   "cell_type": "markdown",
   "id": "300fdeb3",
   "metadata": {},
   "source": [
    "Show the top 10 most frequent words in each topic\n"
   ]
  },
  {
   "cell_type": "code",
   "execution_count": 31,
   "id": "3a5a2b62",
   "metadata": {
    "ExecuteTime": {
     "end_time": "2023-05-12T07:50:47.362437Z",
     "start_time": "2023-05-12T07:50:47.348418Z"
    }
   },
   "outputs": [
    {
     "name": "stdout",
     "output_type": "stream",
     "text": [
      "LDA Model:\n",
      "Topic 1:\n",
      "[('amazing', 208.77216162187707), ('one', 187.6485389835799), ('fuel', 123.35432157741552), ('jamiewhincup', 84.84504592058512), ('run', 78.08160065622867), ('speedcafe', 73.47689142178695), ('another', 72.77164828436722), ('finish', 72.00342201019582), ('motorsport', 68.98079720412896), ('going', 68.0643123017764)]\n",
      "Topic 2:\n",
      "[('good', 135.3799478171587), ('car', 80.45366472803533), ('need', 65.04823174801888), ('today', 59.75640487297261), ('drive', 57.46597558680357), ('see', 55.51685899781551), ('chosenone', 47.91515673203127), ('two', 47.52798580278105), ('supercars', 42.12057297152506), ('getting', 40.15538032658432)]\n",
      "Topic 3:\n",
      "[('well', 319.7293439036535), ('chazmozzie', 289.80681621897804), ('fpr', 249.05102950524852), ('australia', 241.58865752555053), ('done', 241.16682780659352), ('great', 211.04159385503013), ('nissan', 168.99532708739144), ('race', 162.15347785647012), ('redbullracingau', 126.5892113377657), ('back', 118.68610138043466)]\n",
      "Topic 4:\n",
      "[('lowndes', 245.41181807342315), ('supercars', 240.2838328806156), ('get', 164.92466412300482), ('whincup', 140.25093404915603), ('winterbottom', 132.23116228182144), ('kelly', 101.57762055676149), ('svg', 99.86221494220167), ('penalty', 91.1244031424733), ('car', 88.39337534045283), ('moffat', 83.76674505432737)]\n",
      "Topic 5:\n",
      "[('race', 250.94099183226785), ('finish', 249.78701750492368), ('wow', 245.77682383413057), ('unbelievable', 155.88339966240449), ('racing', 120.18143266186482), ('van', 109.67940893071909), ('make', 97.02248910025868), ('say', 92.71715254778913), ('day', 86.71749146598721), ('gisbergen', 74.13481955066719)]\n",
      "Topic 6:\n",
      "[('car', 345.96402468917586), ('safety', 174.19820607982334), ('holden', 132.73520129801082), ('top', 119.74467485766412), ('wall', 68.62577527304599), ('let', 60.19820731545154), ('lap', 57.74941861652226), ('mountain', 57.58966218464983), ('race', 55.37465453073407), ('weekend', 51.04359105974078)]\n",
      "Topic 7:\n",
      "[('like', 229.29615590192685), ('day', 110.0342603225724), ('believe', 102.96244325896753), ('watching', 83.10572702609959), ('start', 81.40085390216262), ('right', 80.239162380561), ('turn', 78.34947008962972), ('event', 68.35801779197575), ('almost', 66.27550819501714), ('craiglowndes', 62.92240989086121)]\n",
      "Topic 8:\n",
      "[('win', 626.2256676522662), ('mostert', 578.0294543083614), ('chaz', 476.83339332288796), ('ford', 435.9220156745653), ('whincup', 372.5688134234765), ('lap', 317.0849719354582), ('last', 257.47177309326435), ('jamie', 212.56645509610763), ('first', 184.55010252207), ('morris', 161.590814524786)]\n",
      "Topic 9:\n",
      "[('race', 244.18284310531945), ('best', 196.66211472812802), ('ever', 193.8424899777467), ('seen', 133.60979767457616), ('amp', 106.73312670214392), ('supercars', 105.54020377624636), ('look', 84.63029709518483), ('brilliant', 79.84859781619757), ('take', 72.28157788690169), ('incredible', 69.7209426698493)]\n",
      "Topic 10:\n",
      "[('amp', 260.168849849032), ('awesome', 108.23940383248453), ('would', 89.74904643104493), ('fuck', 84.6624135334138), ('hour', 76.3976580854481), ('race', 74.46377138072005), ('never', 69.75846618185834), ('winston', 67.00004312920792), ('could', 65.53037980754739), ('mattzel', 62.982704443591416)]\n",
      "====================\n"
     ]
    }
   ],
   "source": [
    "def print_topics(model, vectoriser, top_n=10):\n",
    "    for idx, topic in enumerate(model.components_):\n",
    "        print(\"Topic %d:\" % (idx+1))\n",
    "        feature_names = vectoriser.get_feature_names_out()\n",
    "        print([(feature_names[i], topic[i])\n",
    "                        for i in topic.argsort()[:-top_n - 1:-1]])\n",
    "\n",
    "print(\"LDA Model:\")\n",
    "print_topics(lda_model, vectoriser)\n",
    "print(\"=\" * 20)"
   ]
  },
  {
   "cell_type": "code",
   "execution_count": 32,
   "id": "ef63b7dd",
   "metadata": {
    "ExecuteTime": {
     "end_time": "2023-05-12T07:50:53.193136Z",
     "start_time": "2023-05-12T07:50:52.867579Z"
    }
   },
   "outputs": [
    {
     "name": "stdout",
     "output_type": "stream",
     "text": [
      "[0.00769237 0.00769256 0.00769242 0.93076651 0.00769244 0.00769282\n",
      " 0.00769232 0.00769384 0.0076924  0.00769232]\n"
     ]
    }
   ],
   "source": [
    "x = lda_model.transform(data_vectorized)\n",
    "print(x[3])"
   ]
  },
  {
   "cell_type": "code",
   "execution_count": 33,
   "id": "b37c014d",
   "metadata": {
    "ExecuteTime": {
     "end_time": "2023-05-12T07:50:59.196355Z",
     "start_time": "2023-05-12T07:50:59.075677Z"
    }
   },
   "outputs": [],
   "source": [
    "import pandas as pd\n",
    "import numpy as np\n",
    "\n",
    "topics=pd.DataFrame(x)\n",
    "topics.columns=['topic1','topic2','topic3','topic4','topic5','topic6','topic7','topic8','topic9','topic10']\n",
    "\n",
    "topics['tweet']=df['text']\n",
    "topics['month']=df['month']\n",
    "topics['day']=df['day']\n",
    "topics['event_number']=df['event_number']\n",
    "pd.DataFrame(topics).to_csv('tweets_by_topics_all_new.csv',index=False)"
   ]
  },
  {
   "cell_type": "code",
   "execution_count": 34,
   "id": "8b79bb24",
   "metadata": {
    "ExecuteTime": {
     "end_time": "2023-05-12T07:51:00.581053Z",
     "start_time": "2023-05-12T07:51:00.557586Z"
    }
   },
   "outputs": [
    {
     "data": {
      "text/html": [
       "<div>\n",
       "<style scoped>\n",
       "    .dataframe tbody tr th:only-of-type {\n",
       "        vertical-align: middle;\n",
       "    }\n",
       "\n",
       "    .dataframe tbody tr th {\n",
       "        vertical-align: top;\n",
       "    }\n",
       "\n",
       "    .dataframe thead th {\n",
       "        text-align: right;\n",
       "    }\n",
       "</style>\n",
       "<table border=\"1\" class=\"dataframe\">\n",
       "  <thead>\n",
       "    <tr style=\"text-align: right;\">\n",
       "      <th></th>\n",
       "      <th>topic1</th>\n",
       "      <th>topic2</th>\n",
       "      <th>topic3</th>\n",
       "      <th>topic4</th>\n",
       "      <th>topic5</th>\n",
       "      <th>topic6</th>\n",
       "      <th>topic7</th>\n",
       "      <th>topic8</th>\n",
       "      <th>topic9</th>\n",
       "      <th>topic10</th>\n",
       "      <th>tweet</th>\n",
       "      <th>month</th>\n",
       "      <th>day</th>\n",
       "      <th>event_number</th>\n",
       "    </tr>\n",
       "  </thead>\n",
       "  <tbody>\n",
       "    <tr>\n",
       "      <th>0</th>\n",
       "      <td>0.008333</td>\n",
       "      <td>0.008334</td>\n",
       "      <td>0.924998</td>\n",
       "      <td>0.008333</td>\n",
       "      <td>0.008334</td>\n",
       "      <td>0.008334</td>\n",
       "      <td>0.008333</td>\n",
       "      <td>0.008334</td>\n",
       "      <td>0.008334</td>\n",
       "      <td>0.008334</td>\n",
       "      <td>\"rt @dariofranchitti: this bathurst race has b...</td>\n",
       "      <td>10</td>\n",
       "      <td>12</td>\n",
       "      <td>11</td>\n",
       "    </tr>\n",
       "    <tr>\n",
       "      <th>1</th>\n",
       "      <td>0.009092</td>\n",
       "      <td>0.009091</td>\n",
       "      <td>0.009091</td>\n",
       "      <td>0.009091</td>\n",
       "      <td>0.918179</td>\n",
       "      <td>0.009091</td>\n",
       "      <td>0.009091</td>\n",
       "      <td>0.009092</td>\n",
       "      <td>0.009091</td>\n",
       "      <td>0.009091</td>\n",
       "      <td>\"rt @wtf1couk: gp3 fans while you're waiting f...</td>\n",
       "      <td>10</td>\n",
       "      <td>12</td>\n",
       "      <td>11</td>\n",
       "    </tr>\n",
       "    <tr>\n",
       "      <th>2</th>\n",
       "      <td>0.007693</td>\n",
       "      <td>0.007693</td>\n",
       "      <td>0.007693</td>\n",
       "      <td>0.007692</td>\n",
       "      <td>0.930764</td>\n",
       "      <td>0.007693</td>\n",
       "      <td>0.007692</td>\n",
       "      <td>0.007695</td>\n",
       "      <td>0.007693</td>\n",
       "      <td>0.007692</td>\n",
       "      <td>\"rt @sally_fitz: incredible final laps of #bat...</td>\n",
       "      <td>10</td>\n",
       "      <td>12</td>\n",
       "      <td>11</td>\n",
       "    </tr>\n",
       "    <tr>\n",
       "      <th>3</th>\n",
       "      <td>0.007692</td>\n",
       "      <td>0.007693</td>\n",
       "      <td>0.007692</td>\n",
       "      <td>0.930767</td>\n",
       "      <td>0.007692</td>\n",
       "      <td>0.007693</td>\n",
       "      <td>0.007692</td>\n",
       "      <td>0.007694</td>\n",
       "      <td>0.007692</td>\n",
       "      <td>0.007692</td>\n",
       "      <td>\"rt @v8supercars: top 10 - mostert, moffat, pe...</td>\n",
       "      <td>10</td>\n",
       "      <td>12</td>\n",
       "      <td>11</td>\n",
       "    </tr>\n",
       "    <tr>\n",
       "      <th>4</th>\n",
       "      <td>0.033333</td>\n",
       "      <td>0.366666</td>\n",
       "      <td>0.033333</td>\n",
       "      <td>0.033333</td>\n",
       "      <td>0.033333</td>\n",
       "      <td>0.033333</td>\n",
       "      <td>0.033333</td>\n",
       "      <td>0.366667</td>\n",
       "      <td>0.033333</td>\n",
       "      <td>0.033333</td>\n",
       "      <td>\"#bathurst1000  i present to you, the fully st...</td>\n",
       "      <td>10</td>\n",
       "      <td>12</td>\n",
       "      <td>11</td>\n",
       "    </tr>\n",
       "    <tr>\n",
       "      <th>...</th>\n",
       "      <td>...</td>\n",
       "      <td>...</td>\n",
       "      <td>...</td>\n",
       "      <td>...</td>\n",
       "      <td>...</td>\n",
       "      <td>...</td>\n",
       "      <td>...</td>\n",
       "      <td>...</td>\n",
       "      <td>...</td>\n",
       "      <td>...</td>\n",
       "      <td>...</td>\n",
       "      <td>...</td>\n",
       "      <td>...</td>\n",
       "      <td>...</td>\n",
       "    </tr>\n",
       "    <tr>\n",
       "      <th>5862</th>\n",
       "      <td>0.025000</td>\n",
       "      <td>0.274999</td>\n",
       "      <td>0.025001</td>\n",
       "      <td>0.524999</td>\n",
       "      <td>0.025000</td>\n",
       "      <td>0.025000</td>\n",
       "      <td>0.025000</td>\n",
       "      <td>0.025000</td>\n",
       "      <td>0.025000</td>\n",
       "      <td>0.025000</td>\n",
       "      <td>\"rt @dariofranchitti: this bathurst race has b...</td>\n",
       "      <td>10</td>\n",
       "      <td>12</td>\n",
       "      <td>11</td>\n",
       "    </tr>\n",
       "    <tr>\n",
       "      <th>5863</th>\n",
       "      <td>0.011111</td>\n",
       "      <td>0.011111</td>\n",
       "      <td>0.011111</td>\n",
       "      <td>0.122221</td>\n",
       "      <td>0.546803</td>\n",
       "      <td>0.011111</td>\n",
       "      <td>0.253196</td>\n",
       "      <td>0.011112</td>\n",
       "      <td>0.011111</td>\n",
       "      <td>0.011112</td>\n",
       "      <td>\"#bathurst1000 how good a commentary team is c...</td>\n",
       "      <td>10</td>\n",
       "      <td>12</td>\n",
       "      <td>11</td>\n",
       "    </tr>\n",
       "    <tr>\n",
       "      <th>5864</th>\n",
       "      <td>0.183333</td>\n",
       "      <td>0.016667</td>\n",
       "      <td>0.016667</td>\n",
       "      <td>0.016667</td>\n",
       "      <td>0.683334</td>\n",
       "      <td>0.016667</td>\n",
       "      <td>0.016667</td>\n",
       "      <td>0.016667</td>\n",
       "      <td>0.016667</td>\n",
       "      <td>0.016667</td>\n",
       "      <td>\"rt @peterdoherty7: next: a bathurst racing fa...</td>\n",
       "      <td>10</td>\n",
       "      <td>12</td>\n",
       "      <td>11</td>\n",
       "    </tr>\n",
       "    <tr>\n",
       "      <th>5865</th>\n",
       "      <td>0.167342</td>\n",
       "      <td>0.014286</td>\n",
       "      <td>0.014286</td>\n",
       "      <td>0.300000</td>\n",
       "      <td>0.157140</td>\n",
       "      <td>0.014288</td>\n",
       "      <td>0.014286</td>\n",
       "      <td>0.014286</td>\n",
       "      <td>0.289801</td>\n",
       "      <td>0.014286</td>\n",
       "      <td>\"can't believe i'm cheering for a ford but.......</td>\n",
       "      <td>10</td>\n",
       "      <td>12</td>\n",
       "      <td>11</td>\n",
       "    </tr>\n",
       "    <tr>\n",
       "      <th>5866</th>\n",
       "      <td>0.025000</td>\n",
       "      <td>0.025000</td>\n",
       "      <td>0.525000</td>\n",
       "      <td>0.025000</td>\n",
       "      <td>0.025000</td>\n",
       "      <td>0.025000</td>\n",
       "      <td>0.025000</td>\n",
       "      <td>0.025000</td>\n",
       "      <td>0.025000</td>\n",
       "      <td>0.275000</td>\n",
       "      <td>\"at nearly 8 hours, i believe that was the lon...</td>\n",
       "      <td>10</td>\n",
       "      <td>12</td>\n",
       "      <td>11</td>\n",
       "    </tr>\n",
       "  </tbody>\n",
       "</table>\n",
       "<p>5867 rows × 14 columns</p>\n",
       "</div>"
      ],
      "text/plain": [
       "        topic1    topic2    topic3    topic4    topic5    topic6    topic7  \\\n",
       "0     0.008333  0.008334  0.924998  0.008333  0.008334  0.008334  0.008333   \n",
       "1     0.009092  0.009091  0.009091  0.009091  0.918179  0.009091  0.009091   \n",
       "2     0.007693  0.007693  0.007693  0.007692  0.930764  0.007693  0.007692   \n",
       "3     0.007692  0.007693  0.007692  0.930767  0.007692  0.007693  0.007692   \n",
       "4     0.033333  0.366666  0.033333  0.033333  0.033333  0.033333  0.033333   \n",
       "...        ...       ...       ...       ...       ...       ...       ...   \n",
       "5862  0.025000  0.274999  0.025001  0.524999  0.025000  0.025000  0.025000   \n",
       "5863  0.011111  0.011111  0.011111  0.122221  0.546803  0.011111  0.253196   \n",
       "5864  0.183333  0.016667  0.016667  0.016667  0.683334  0.016667  0.016667   \n",
       "5865  0.167342  0.014286  0.014286  0.300000  0.157140  0.014288  0.014286   \n",
       "5866  0.025000  0.025000  0.525000  0.025000  0.025000  0.025000  0.025000   \n",
       "\n",
       "        topic8    topic9   topic10  \\\n",
       "0     0.008334  0.008334  0.008334   \n",
       "1     0.009092  0.009091  0.009091   \n",
       "2     0.007695  0.007693  0.007692   \n",
       "3     0.007694  0.007692  0.007692   \n",
       "4     0.366667  0.033333  0.033333   \n",
       "...        ...       ...       ...   \n",
       "5862  0.025000  0.025000  0.025000   \n",
       "5863  0.011112  0.011111  0.011112   \n",
       "5864  0.016667  0.016667  0.016667   \n",
       "5865  0.014286  0.289801  0.014286   \n",
       "5866  0.025000  0.025000  0.275000   \n",
       "\n",
       "                                                  tweet  month  day  \\\n",
       "0     \"rt @dariofranchitti: this bathurst race has b...     10   12   \n",
       "1     \"rt @wtf1couk: gp3 fans while you're waiting f...     10   12   \n",
       "2     \"rt @sally_fitz: incredible final laps of #bat...     10   12   \n",
       "3     \"rt @v8supercars: top 10 - mostert, moffat, pe...     10   12   \n",
       "4     \"#bathurst1000  i present to you, the fully st...     10   12   \n",
       "...                                                 ...    ...  ...   \n",
       "5862  \"rt @dariofranchitti: this bathurst race has b...     10   12   \n",
       "5863  \"#bathurst1000 how good a commentary team is c...     10   12   \n",
       "5864  \"rt @peterdoherty7: next: a bathurst racing fa...     10   12   \n",
       "5865  \"can't believe i'm cheering for a ford but.......     10   12   \n",
       "5866  \"at nearly 8 hours, i believe that was the lon...     10   12   \n",
       "\n",
       "      event_number  \n",
       "0               11  \n",
       "1               11  \n",
       "2               11  \n",
       "3               11  \n",
       "4               11  \n",
       "...            ...  \n",
       "5862            11  \n",
       "5863            11  \n",
       "5864            11  \n",
       "5865            11  \n",
       "5866            11  \n",
       "\n",
       "[5867 rows x 14 columns]"
      ]
     },
     "execution_count": 34,
     "metadata": {},
     "output_type": "execute_result"
    }
   ],
   "source": [
    "topics"
   ]
  },
  {
   "cell_type": "code",
   "execution_count": 35,
   "id": "e0f13045",
   "metadata": {
    "ExecuteTime": {
     "end_time": "2023-05-12T07:51:08.055177Z",
     "start_time": "2023-05-12T07:51:02.560045Z"
    }
   },
   "outputs": [
    {
     "name": "stderr",
     "output_type": "stream",
     "text": [
      "C:\\Users\\j4072\\anaconda3\\lib\\site-packages\\pyLDAvis\\_prepare.py:243: FutureWarning:\n",
      "\n",
      "In a future version of pandas all arguments of DataFrame.drop except for the argument 'labels' will be keyword-only.\n",
      "\n"
     ]
    },
    {
     "data": {
      "text/html": [
       "\n",
       "<link rel=\"stylesheet\" type=\"text/css\" href=\"https://cdn.jsdelivr.net/gh/bmabey/pyLDAvis@3.4.0/pyLDAvis/js/ldavis.v1.0.0.css\">\n",
       "\n",
       "\n",
       "<div id=\"ldavis_el382820375037792167670253035\" style=\"background-color:white;\"></div>\n",
       "<script type=\"text/javascript\">\n",
       "\n",
       "var ldavis_el382820375037792167670253035_data = {\"mdsDat\": {\"x\": [0.047692748256809046, -0.09513117375913589, 0.14035751875876276, -0.262654298296588, 0.10175181460061056, -0.25154796628302895, -0.0656852390677418, 0.04882503583396649, 0.17992784620985738, 0.1564637137464889], \"y\": [-0.10881397179085617, -0.14027615235619273, 0.001965655699453446, -0.0948913962425029, -0.0753239882029314, 0.046150007154929014, 0.3867605728644204, -0.11796872178967566, 0.0452386147354905, 0.057159379927865434], \"topics\": [1, 2, 3, 4, 5, 6, 7, 8, 9, 10], \"cluster\": [1, 1, 1, 1, 1, 1, 1, 1, 1, 1], \"Freq\": [8.009950910849094, 6.314720979545919, 15.154036137368093, 10.642116598562632, 11.723483928321201, 7.167458458615772, 7.167419532323796, 15.768180678408736, 10.019265070580948, 8.03336770542379]}, \"tinfo\": {\"Term\": [\"car\", \"win\", \"mostert\", \"chaz\", \"ford\", \"amp\", \"like\", \"whincup\", \"well\", \"lowndes\", \"amazing\", \"wow\", \"race\", \"one\", \"safety\", \"finish\", \"chazmozzie\", \"lap\", \"australia\", \"done\", \"good\", \"ever\", \"best\", \"top\", \"fpr\", \"jamie\", \"get\", \"holden\", \"last\", \"day\", \"one\", \"run\", \"another\", \"motorsport\", \"absolutely\", \"hope\", \"greatest\", \"give\", \"yet\", \"cruel\", \"trending\", \"fordracing\", \"topic\", \"thank\", \"pay\", \"free\", \"probably\", \"supercar\", \"told\", \"jack\", \"grmotorsport\", \"must\", \"pull\", \"manufacturer\", \"seton\", \"volvos\", \"future\", \"dvs\", \"glenn\", \"father\", \"amazing\", \"fuel\", \"going\", \"speedcafe\", \"jamiewhincup\", \"feel\", \"got\", \"hard\", \"congratulation\", \"laps\", \"finish\", \"year\", \"supercars\", \"last\", \"drive\", \"ever\", \"need\", \"anyone\", \"surely\", \"intense\", \"someone\", \"ready\", \"suck\", \"finishing\", \"feeling\", \"tell\", \"years\", \"finished\", \"set\", \"falcon\", \"looking\", \"miss\", \"tank\", \"shattered\", \"official\", \"hold\", \"point\", \"forget\", \"else\", \"past\", \"happening\", \"beer\", \"btcc\", \"given\", \"seat\", \"ambassador\", \"two\", \"good\", \"getting\", \"chosenone\", \"crazy\", \"watch\", \"see\", \"drive\", \"today\", \"car\", \"better\", \"third\", \"shit\", \"fuel\", \"best\", \"supercars\", \"whincup\", \"lap\", \"finish\", \"paul\", \"well\", \"australia\", \"done\", \"nissan\", \"redbullracingau\", \"job\", \"msport\", \"bad\", \"much\", \"effort\", \"nismo\", \"olivergavin\", \"backatbathurst\", \"little\", \"drama\", \"think\", \"massive\", \"aussie\", \"shame\", \"global\", \"absolute\", \"old\", \"flag\", \"tazdouglas\", \"hoping\", \"dariofranchitti\", \"dead\", \"deserved\", \"commentary\", \"terrible\", \"luck\", \"chazmozzie\", \"fpr\", \"mate\", \"shanevg\", \"next\", \"back\", \"congrats\", \"love\", \"great\", \"nickpercat\", \"podium\", \"year\", \"race\", \"better\", \"moffat\", \"win\", \"racing\", \"day\", \"lowndes\", \"get\", \"winterbottom\", \"kelly\", \"svg\", \"penalty\", \"thanks\", \"frosty\", \"home\", \"craig\", \"coulthard\", \"track\", \"support\", \"bit\", \"lane\", \"keep\", \"erebusv\", \"crowd\", \"devastated\", \"taking\", \"around\", \"cheer\", \"running\", \"boring\", \"may\", \"mistake\", \"people\", \"championship\", \"without\", \"contact\", \"davison\", \"still\", \"end\", \"percat\", \"supercars\", \"straight\", \"pit\", \"moffat\", \"whincup\", \"top\", \"team\", \"car\", \"call\", \"mostert\", \"today\", \"wow\", \"unbelievable\", \"van\", \"make\", \"say\", \"gisbergen\", \"fan\", \"exciting\", \"god\", \"insane\", \"started\", \"even\", \"stop\", \"holy\", \"shane\", \"thing\", \"mount\", \"heartbreaking\", \"crap\", \"wtf\", \"though\", \"happened\", \"glad\", \"row\", \"panorama\", \"sure\", \"smclaughlin\", \"gavin\", \"heartbreak\", \"seriously\", \"coming\", \"winner\", \"racing\", \"finish\", \"line\", \"come\", \"victory\", \"race\", \"time\", \"day\", \"motor\", \"great\", \"good\", \"feel\", \"lap\", \"supercars\", \"morris\", \"safety\", \"holden\", \"wall\", \"let\", \"weekend\", \"enough\", \"crash\", \"stall\", \"video\", \"leading\", \"cutting\", \"alone\", \"sportsbetcomau\", \"thought\", \"traffic\", \"blanchard\", \"embarrassing\", \"lights\", \"move\", \"snappytv\", \"ten\", \"remember\", \"restart\", \"break\", \"care\", \"fashion\", \"haha\", \"volvo\", \"strategy\", \"scene\", \"car\", \"top\", \"leader\", \"mountain\", \"lap\", \"race\", \"watching\", \"start\", \"right\", \"event\", \"almost\", \"craiglowndes\", \"happy\", \"daffidreynolds\", \"stalled\", \"mario\", \"kart\", \"hell\", \"everyone\", \"bastard\", \"cough\", \"trevorlong\", \"enjoy\", \"russiangp\", \"nice\", \"https\", \"worth\", \"mean\", \"left\", \"mark\", \"nothing\", \"corner\", \"week\", \"front\", \"groove\", \"skaife\", \"believe\", \"like\", \"turn\", \"new\", \"moment\", \"lost\", \"day\", \"driver\", \"channel\", \"made\", \"sport\", \"chaz\", \"ford\", \"jamie\", \"full\", \"overtaking\", \"news\", \"save\", \"please\", \"red\", \"really\", \"second\", \"record\", \"abcgrandstand\", \"pepsimaxcrew\", \"king\", \"overtakes\", \"bull\", \"foxsportsnews\", \"broken\", \"empty\", \"carnage\", \"managed\", \"short-of-fuel\", \"overtake\", \"pas\", \"deat\", \"newsaus\", \"minute\", \"blue\", \"ycuv\", \"mostert\", \"first\", \"win\", \"final\", \"whincup\", \"lap\", \"last\", \"morris\", \"paul\", \"race\", \"mountain\", \"finish\", \"great\", \"supercars\", \"lead\", \"sport\", \"driver\", \"seen\", \"look\", \"brilliant\", \"guy\", \"put\", \"work\", \"long\", \"show\", \"beauty\", \"hit\", \"live\", \"dude\", \"coverage\", \"gotta\", \"tyre\", \"lol\", \"tonight\", \"bow\", \"extraordinary\", \"thirteen\", \"memory\", \"markberetta\", \"couple\", \"yolotus\", \"griffin\", \"truedrama\", \"dqmceiaoib\", \"ben\", \"stevepizzati\", \"pitstops\", \"ever\", \"best\", \"take\", \"incredible\", \"race\", \"big\", \"amp\", \"sport\", \"motor\", \"supercars\", \"grid\", \"morris\", \"like\", \"time\", \"last\", \"chazmozzie\", \"drive\", \"great\", \"win\", \"paul\", \"would\", \"fuck\", \"hour\", \"never\", \"winston\", \"could\", \"mattzel\", \"ago\", \"epic\", \"result\", \"proud\", \"fucking\", \"yes\", \"way\", \"kid\", \"looked\", \"ztpjs\", \"watched\", \"yeah\", \"hey\", \"omg\", \"always\", \"pretty\", \"fat\", \"celebrate\", \"wine\", \"craillsy\", \"playing\", \"boys\", \"sweep\", \"awesome\", \"amp\", \"man\", \"bloody\", \"amazing\", \"race\", \"today\", \"paul\", \"morris\"], \"Freq\": [511.0, 715.0, 621.0, 448.0, 411.0, 362.0, 283.0, 516.0, 301.0, 234.0, 257.0, 232.0, 900.0, 185.0, 174.0, 415.0, 326.0, 439.0, 228.0, 227.0, 188.0, 214.0, 249.0, 189.0, 279.0, 200.0, 158.0, 133.0, 360.0, 261.0, 184.24174109764223, 76.6640131093864, 71.45046401683038, 67.72843661897203, 66.3704489993943, 60.38165814906994, 38.29211569083729, 35.107157546394916, 32.54685797035339, 32.455571672557305, 30.781184647454985, 28.65764284030575, 27.284729014596866, 24.857113860840435, 24.80552013853546, 24.11157229337503, 23.650430480046683, 21.788574400633962, 21.20496559559854, 19.983047993259994, 19.927541559088628, 19.347169507620922, 19.25353750347469, 18.76232192742903, 18.550707488238032, 18.097138223768244, 17.873772522832308, 17.62712759745677, 16.977544066208655, 16.868073137317065, 204.9818600149017, 121.11479845484016, 66.82859068884244, 72.14290331979102, 83.30466663151522, 56.61318108758901, 48.697039289739145, 40.87515622580454, 32.94889714334174, 26.15226487099375, 70.69618504894201, 40.427723973867366, 50.700543495614184, 42.14787299746884, 29.74782066179252, 25.278034640345176, 66.06182605162813, 35.36512494038816, 34.530125300847814, 34.39138619797346, 29.422541762475745, 28.45642038996668, 27.763600563289046, 26.007276476184156, 25.549626203005694, 23.542769119882262, 23.309166464214, 22.466650299925025, 21.82407919870592, 19.236262220930712, 19.109982109922576, 18.00769614158671, 16.78779521923671, 15.91917806049386, 15.255611903998055, 15.061221655076364, 14.808670798363366, 14.164052166235974, 13.599687363879559, 13.268282913420514, 13.15014956315975, 12.86339928892189, 12.32398029304389, 12.056547695211199, 11.712865591055104, 11.529686361374985, 48.26857619820234, 137.48946471320514, 40.78108933764485, 48.661780100799646, 39.178238994140216, 35.318423259402365, 56.38193358204782, 58.36142168796383, 60.68754089244263, 81.70730950947568, 32.67096665416116, 22.394792217799104, 23.479438391512264, 34.9770280623852, 35.99768053715309, 42.77690399977005, 32.46350185369142, 27.234241320795988, 23.60348233586495, 22.525271533289484, 300.9057317834816, 227.36546760381356, 226.96847251189914, 159.04596664278608, 119.13645087565867, 97.7972639161646, 87.9571049811766, 77.47435178682768, 61.296201366439895, 48.51815929864502, 46.706009612400564, 45.38715465322015, 44.94241390338521, 44.04383606587858, 43.859401134638496, 43.07019036164324, 42.35523443000898, 39.00106321062373, 38.45104594013971, 35.52621999484516, 35.1428219529312, 32.53528220431172, 31.719857739925285, 31.421079309358934, 30.929299339393335, 30.49156512360812, 29.264141163999216, 29.13774556106174, 28.629324619786246, 28.521017985174325, 76.41436844459741, 272.7448505211038, 234.38850300612003, 84.31432902727876, 100.30355082740628, 69.77747222150062, 111.69862531970148, 110.09074159911513, 81.39393089198715, 198.61681902689605, 58.53101936804509, 71.57412870815035, 87.613848200553, 152.60692159159737, 51.98739338928486, 61.354831625448654, 86.61438856604215, 51.89972724912608, 49.71711576286501, 233.97847308282266, 157.24108719838796, 126.07072343765859, 96.84528130648829, 95.20979370216956, 86.87906261091524, 74.56510300305274, 59.9214221843411, 59.81723850696857, 57.775201247760315, 52.943518241835456, 44.68151215990179, 38.43716492350366, 36.18196434110934, 36.08807200145546, 35.80261992022193, 34.898329763982275, 33.3850611881401, 31.045464315269374, 29.474484091341388, 29.30006789189747, 27.09746783019525, 27.05913918891981, 25.659532969476917, 23.970006242648157, 23.47455969647253, 22.915893782726158, 19.995824526141128, 19.701327733656917, 18.63949399702732, 77.74766106178123, 78.08343941951468, 78.59994472735846, 65.74758866786208, 229.0893925372172, 31.2676409680621, 61.28052608770631, 79.86418607218714, 133.71686683582317, 68.8872183449332, 47.723375019265475, 84.27526903618076, 33.65893259405367, 65.32026093529751, 38.05966973385125, 231.90868957452543, 147.0875665906057, 103.49066930573365, 91.54792529048495, 87.48552045310147, 69.95170897579011, 59.291615481256926, 58.82904552336061, 55.88003434691432, 50.92435426138073, 46.56531313979018, 46.59173877137297, 46.274972031805994, 44.96288858375615, 55.601205737752366, 38.77149515225225, 33.18340091163047, 32.681900324545985, 29.568868802116555, 26.11709493584564, 26.138797641185167, 25.92322497663133, 25.281019680604395, 25.03139580099137, 24.532848019960504, 24.341106278740597, 23.095058130700053, 22.41059405128697, 20.908303907736673, 20.46093496899245, 36.79738151563465, 65.56790095723841, 113.40010878573217, 235.69260517985248, 50.06168518237655, 49.329648063691614, 37.28657535388075, 236.78146567484222, 64.38274342412281, 81.82439456797339, 43.76746426415835, 69.94568751610976, 50.34952655706814, 41.90754990332523, 56.63099555884835, 55.070925380203704, 41.07351194060491, 173.69185730235338, 132.349374667433, 68.42629803275506, 60.02322681843027, 50.89522064587479, 46.506986274488256, 44.87166608823698, 42.91204579613956, 40.10526879432704, 36.23578419612726, 35.496477774453545, 34.91390361670316, 34.570739962016034, 30.740264674036936, 30.413930817763582, 29.540379126719774, 28.98080753488124, 27.790569538178882, 25.784428227047616, 26.78903644914037, 21.5769113799662, 21.43371345795577, 20.61630196600204, 20.26233752663986, 19.594763414249844, 18.88497947606574, 18.269225378456312, 17.855740841424115, 15.836660031199138, 15.408234513967285, 344.9583974505711, 119.39660830125578, 28.996084656648897, 57.42226404836396, 57.58155610993206, 55.21369484432025, 81.97253092865334, 80.29090476542319, 79.14505359978527, 67.42591549574412, 65.37180215777529, 62.06442534657291, 60.992494705153405, 58.53149054586295, 55.05378074871682, 49.95082343175503, 49.950823371819205, 42.21578676321036, 37.70602404250655, 37.43010516985378, 37.31546876108038, 28.942760160047474, 28.09380724164393, 27.909752347277177, 25.84268073285897, 24.05676549982828, 22.541087885724796, 21.531306263479056, 20.517090448914818, 19.31386493503817, 18.575011463164596, 18.158578050585277, 17.525733355009844, 15.96905919978478, 15.214944527541602, 15.143328683056133, 101.55848900623656, 226.16956621520305, 77.28112838900702, 34.63656051547579, 52.563332027828615, 28.114514339750965, 108.53387763121151, 53.030097033677784, 35.74118657515409, 28.158373694267517, 38.67242269607221, 447.95502656567464, 409.52135661319517, 199.69283479915546, 63.72661305395102, 59.803284589924495, 56.33020412245612, 50.455514306001575, 46.11157128178231, 41.86458653172947, 41.71794688251933, 41.567270979469434, 40.157318142948924, 38.755246775573056, 36.35421414174136, 35.78755512083662, 31.622688251225686, 31.193431544498388, 31.15571318097783, 29.578949370176197, 28.422559943010597, 28.24504322831073, 27.404014018893683, 24.148350491467287, 24.059095945351316, 22.767069443127234, 22.455402194172173, 22.441569908782956, 21.886927902025192, 21.2434400163337, 20.950275868430573, 543.0223704678945, 173.37323106058497, 588.2996860484631, 136.78596375276942, 350.0050018553187, 297.88141731663933, 241.87856087882022, 151.80442189417656, 125.83126706533616, 144.2449133560991, 48.92151362665802, 85.24117117047022, 74.96369325967333, 78.79361583585333, 37.17000647760668, 47.252603439391045, 38.03604177786267, 129.70563119263016, 82.15734395082853, 77.51536908110381, 54.15689450165342, 53.10288979926742, 45.39501953097617, 42.582660465064095, 39.62522123487975, 37.812867664161445, 37.64407121541283, 36.76065669782693, 35.540196804447525, 35.42393814370841, 34.30114486746135, 33.08956726428876, 32.477813751745245, 32.011208059537985, 28.264053744463368, 26.6838005189544, 26.59039060325425, 26.47685638470046, 26.43638810031766, 25.317053717162725, 25.18775243227874, 24.574183353873714, 24.512843633786385, 24.278725252129142, 23.756528786280075, 23.35401524807919, 23.033146104912348, 188.17828446797313, 190.91551792195474, 70.16946246902235, 67.6836507032505, 237.04765924821922, 43.17717817369036, 103.61431428691415, 65.17260596378499, 45.2008518827216, 102.4562493563425, 41.05767301800211, 65.77818040650835, 56.50878294866276, 44.225583655840495, 46.9604544639513, 44.67833237054618, 39.56879081361661, 42.70909618114636, 39.95884027997856, 37.7280466438194, 89.01739536932719, 83.972229657233, 75.77485004598984, 69.1897820801841, 66.45384620968653, 64.99616385910502, 62.46925762261139, 57.41525254369663, 54.9836119421519, 51.16939469069979, 50.22538975116864, 49.10150876969976, 47.14511552019941, 46.6251178028224, 44.521323280513805, 44.300877368025965, 41.39535364530605, 36.28086024126016, 30.102860518999677, 24.56305099349989, 24.340082214160386, 23.178598529640727, 21.43718366028566, 19.43308068263073, 19.16730614516658, 17.846061133747348, 17.63242359250237, 17.47224463873147, 16.952250601867892, 16.833427989092982, 107.35701590879134, 258.04790458234123, 41.00663016594583, 30.219735347439276, 51.26730296339452, 73.85672874843904, 40.07100477631027, 40.66348049079515, 41.550965579909196], \"Total\": [511.0, 715.0, 621.0, 448.0, 411.0, 362.0, 283.0, 516.0, 301.0, 234.0, 257.0, 232.0, 900.0, 185.0, 174.0, 415.0, 326.0, 439.0, 228.0, 227.0, 188.0, 214.0, 249.0, 189.0, 279.0, 200.0, 158.0, 133.0, 360.0, 261.0, 185.1167442890617, 77.5379938639377, 72.3244763575647, 68.60242950928746, 67.2444476162542, 61.25565345779934, 39.16609628275512, 35.981203068316404, 33.42105312529, 33.32960748487283, 31.655253732910374, 29.53171879933753, 28.162588511421916, 25.73111444696237, 25.679500496886824, 24.985573834039812, 24.524514213658705, 22.662520044223058, 22.07897765079516, 20.857124600496437, 20.80150418149693, 20.221226106685382, 20.127494892765416, 19.636266236604467, 19.424651090890848, 18.971083070905767, 18.747734250934496, 18.501060935697605, 17.85147557491709, 17.742006191467038, 257.0241756700363, 191.06988213943126, 93.52833890118922, 103.08307802687608, 125.22538225773435, 99.30038041938607, 85.13022212858603, 68.16857136625609, 60.28410731638688, 37.88198399508421, 415.81759342723035, 180.8350124028239, 588.7952381689295, 360.8040930428803, 151.20310629811627, 214.23355195524596, 66.93571123767765, 36.23574073524437, 35.401317180795914, 35.262081878132534, 30.293146513597296, 29.3270336516445, 28.634201021008884, 26.878025481412102, 26.42027949982763, 24.41337544265993, 24.179758578074424, 23.337279204959625, 22.694881796772435, 20.106941649907284, 19.980610366401688, 18.878678285163765, 17.658360754922903, 16.814778792826765, 16.12622394844825, 15.931828350127445, 15.679293201601913, 15.034681363749254, 14.470256027957653, 14.139094530135818, 14.020742694148693, 13.734023601508046, 13.194585493409416, 12.92716254899324, 12.583480603286954, 12.400240135630167, 54.76062345801882, 188.61659796217322, 50.11377223534817, 72.7580416672249, 62.28498252284171, 58.26072035365055, 119.12883061731792, 151.20310629811627, 206.75756106203852, 511.62183326149153, 85.4348818579398, 41.60965323717838, 47.103274041364216, 191.06988213943126, 249.81686209728537, 588.7952381689295, 516.8909042268776, 439.9127974769005, 415.81759342723035, 256.13756665396846, 301.7839011926474, 228.24371425490847, 227.8465522642272, 159.92403531167167, 120.01530997790702, 98.67535944851758, 88.83513696577933, 78.35250187814354, 62.17438016579089, 49.39630762095309, 47.58405281406794, 46.26531964190861, 45.8204198347626, 44.92195690452375, 44.73759697880706, 43.948369817172534, 43.23333811761046, 39.87921215558237, 39.329472024324126, 36.40427110997564, 36.02088539398297, 33.413492945502426, 32.597954560898025, 32.29918214840697, 31.807352629065434, 31.36957531884483, 30.1449648619811, 30.015863891756606, 29.507368334959057, 29.399080678564808, 82.63779922312175, 326.71915504752434, 279.9997639504104, 94.09900999937453, 117.82988036977386, 81.49841573298548, 149.97987430048366, 149.25635752799127, 109.87008786096311, 399.9424789986728, 76.22154963578714, 112.17583934119403, 180.8350124028239, 900.14518535733, 85.4348818579398, 156.7953311510289, 715.5621549593455, 166.26645344905663, 261.5266271338431, 234.85557154996687, 158.11806150481627, 126.94755668595695, 97.72207722955353, 96.09986978369197, 87.75586679226946, 75.4420291563685, 60.79828363889949, 60.69416185459652, 58.652004936671865, 53.82033937325203, 45.55835523796501, 39.31404210647362, 37.05888236683196, 36.96487891103198, 36.6795321005563, 35.78492936241327, 34.26190594605639, 31.922325248591253, 30.351415480931177, 30.177070612690347, 27.974408618860735, 27.936045479989417, 26.53641140890083, 24.846892345748344, 24.351376731335066, 23.79274880811923, 20.8726574432993, 20.578344875125076, 19.516326021382206, 83.61987491372726, 86.01596483707851, 96.15052156470354, 99.1675928796772, 588.7952381689295, 36.337720048339506, 100.88771728353598, 156.7953311510289, 516.8909042268776, 189.0616896018466, 106.66520804329085, 511.62183326149153, 43.41584855848827, 621.665185369024, 206.75756106203852, 232.7865494492693, 147.96545135367523, 104.36858933437917, 92.42584946973304, 88.365330944788, 70.8295041938247, 60.16946679987957, 59.706869319867344, 56.75973590558406, 51.804621983085994, 47.44324607310317, 47.47062972143032, 47.15285343849526, 45.84069488802885, 56.77398139521335, 39.6493340307533, 34.06118767491417, 33.5597538730195, 30.446670889305583, 26.99500290850648, 27.018158446340472, 26.801067643536296, 26.158890050870973, 25.909242948791476, 25.41064421633123, 25.21894765802905, 23.972965449282214, 23.28843911148238, 21.78614270668792, 21.33878714326925, 40.72119688081119, 82.43546321169404, 166.26645344905663, 415.81759342723035, 65.97067930261834, 66.3065342386946, 45.97521421475921, 900.14518535733, 130.7892525036478, 261.5266271338431, 89.74940498038812, 399.9424789986728, 188.61659796217322, 99.30038041938607, 439.9127974769005, 588.7952381689295, 317.04854496816597, 174.56596415772887, 133.2218955565221, 69.29873378594054, 60.90186585274278, 51.767733725058115, 47.37942792964267, 45.74414000790203, 43.78447048328587, 40.97819124832395, 37.10820945235435, 36.368899426830794, 35.78632130866189, 35.44315255897993, 31.612714677879453, 31.286337184858468, 30.412784709508184, 29.853212948145273, 28.6629735124506, 26.656931308981996, 27.870458519017774, 22.449349472545975, 22.306256600507915, 21.488763156203916, 21.13484685645846, 20.467271890724724, 19.7576583854081, 19.14172977895296, 18.728203918411488, 16.709119359214387, 16.281103113391783, 511.62183326149153, 189.0616896018466, 36.471906516541864, 107.12233987232214, 439.9127974769005, 900.14518535733, 82.84608316671711, 81.16446028726536, 80.0186061589988, 68.29941751927335, 66.24529741719665, 62.93805850183334, 61.86606220188457, 59.404983799205674, 55.92735133079626, 50.8243001979323, 50.824300186703276, 43.08938815659302, 38.57958850671204, 38.30360832164263, 38.18894875818729, 29.816392213935224, 28.967368721954923, 28.783325249421683, 26.71624392192073, 24.930347520320545, 23.414609673766332, 22.404892025046838, 21.390678253735576, 20.187418823952285, 19.448603373874466, 19.032157085052624, 18.399265966118545, 16.84261983210042, 16.088451765980807, 16.016847234428337, 118.91450999261811, 283.45501422571454, 93.9195306517917, 41.45356046302307, 69.46748349072442, 34.23247340317345, 261.5266271338431, 91.84580530429469, 53.93067714256307, 49.23434715041389, 194.88224013896243, 448.8351328054434, 411.30124510870394, 200.57107035286793, 64.60496979642373, 60.681455870046676, 57.20849931944998, 51.33387650826341, 46.98989839272618, 42.742986906411716, 42.59627875464668, 42.44568553392468, 41.0355384567267, 39.6335045746607, 37.2326032541783, 36.665728580427434, 32.500879979057586, 32.0717184183507, 32.03390886174145, 30.45712975574116, 29.300784638771596, 29.12323501282645, 28.282225299850925, 25.026515862374154, 24.937263827582438, 23.645321477481627, 23.333567659057696, 23.31973530701513, 22.765592693816604, 22.121722246439578, 21.82844116208781, 621.665185369024, 193.95193285159226, 715.5621549593455, 164.52508057116384, 516.8909042268776, 439.9127974769005, 360.8040930428803, 317.04854496816597, 256.13756665396846, 900.14518535733, 107.12233987232214, 415.81759342723035, 399.9424789986728, 588.7952381689295, 62.12698870239467, 194.88224013896243, 91.84580530429469, 130.58078052896093, 83.03254202816689, 78.39051682863158, 55.03202521213952, 53.97808092220728, 46.27019387138149, 43.457793093698, 40.500286624743524, 38.68796745709338, 38.51916858159141, 37.635746701705564, 36.415334709799055, 36.299031613721176, 35.176281111934195, 33.964663422282776, 33.35293115327338, 32.88633440808723, 29.139097238079994, 27.558845368233037, 27.46547047048562, 27.352003151567306, 27.31216709754907, 26.192112944633394, 26.06279335880714, 25.44923249104962, 25.387878886027007, 25.153758680453908, 24.63158540139754, 24.229050366522493, 23.90818462763205, 214.23355195524596, 249.81686209728537, 89.64580943904116, 107.0400506749496, 900.14518535733, 67.27733681363763, 362.43839935979315, 194.88224013896243, 89.74940498038812, 588.7952381689295, 74.69078359094213, 317.04854496816597, 283.45501422571454, 130.7892525036478, 360.8040930428803, 326.71915504752434, 151.20310629811627, 399.9424789986728, 715.5621549593455, 256.13756665396846, 89.89074183156825, 84.84520458945302, 76.64854171200342, 70.06283375861952, 67.32681286949831, 65.8692385857014, 63.34223223533231, 58.28830166534706, 55.857571923284674, 52.04242246703935, 51.098512501132504, 49.974495828546786, 48.018459313435706, 47.498148435886904, 45.39442609235539, 45.173889459097374, 42.26837600743051, 37.15388629396257, 30.97585045598971, 25.436087068032712, 25.213104419550508, 24.051597970156163, 22.310193637709716, 20.30604563217994, 20.040668571102128, 18.718996647972443, 18.505406703703862, 18.345213821821087, 17.82741708566716, 17.706369668486786, 133.26040500677556, 362.43839935979315, 67.32449097331747, 53.123000638790955, 257.0241756700363, 900.14518535733, 206.75756106203852, 256.13756665396846, 317.04854496816597], \"Category\": [\"Default\", \"Default\", \"Default\", \"Default\", \"Default\", \"Default\", \"Default\", \"Default\", \"Default\", \"Default\", \"Default\", \"Default\", \"Default\", \"Default\", \"Default\", \"Default\", \"Default\", \"Default\", \"Default\", \"Default\", \"Default\", \"Default\", \"Default\", \"Default\", \"Default\", \"Default\", \"Default\", \"Default\", \"Default\", \"Default\", \"Topic1\", \"Topic1\", \"Topic1\", \"Topic1\", \"Topic1\", \"Topic1\", \"Topic1\", \"Topic1\", \"Topic1\", \"Topic1\", \"Topic1\", \"Topic1\", \"Topic1\", \"Topic1\", \"Topic1\", \"Topic1\", \"Topic1\", \"Topic1\", \"Topic1\", \"Topic1\", \"Topic1\", \"Topic1\", \"Topic1\", \"Topic1\", \"Topic1\", \"Topic1\", \"Topic1\", \"Topic1\", \"Topic1\", \"Topic1\", \"Topic1\", \"Topic1\", \"Topic1\", \"Topic1\", \"Topic1\", \"Topic1\", \"Topic1\", \"Topic1\", \"Topic1\", \"Topic1\", \"Topic1\", \"Topic1\", \"Topic1\", \"Topic1\", \"Topic1\", \"Topic1\", \"Topic2\", \"Topic2\", \"Topic2\", \"Topic2\", \"Topic2\", \"Topic2\", \"Topic2\", \"Topic2\", \"Topic2\", \"Topic2\", \"Topic2\", \"Topic2\", \"Topic2\", \"Topic2\", \"Topic2\", \"Topic2\", \"Topic2\", \"Topic2\", \"Topic2\", \"Topic2\", \"Topic2\", \"Topic2\", \"Topic2\", \"Topic2\", \"Topic2\", \"Topic2\", \"Topic2\", \"Topic2\", \"Topic2\", \"Topic2\", \"Topic2\", \"Topic2\", \"Topic2\", \"Topic2\", \"Topic2\", \"Topic2\", \"Topic2\", \"Topic2\", \"Topic2\", \"Topic2\", \"Topic2\", \"Topic2\", \"Topic2\", \"Topic2\", \"Topic2\", \"Topic2\", \"Topic2\", \"Topic2\", \"Topic2\", \"Topic2\", \"Topic3\", \"Topic3\", \"Topic3\", \"Topic3\", \"Topic3\", \"Topic3\", \"Topic3\", \"Topic3\", \"Topic3\", \"Topic3\", \"Topic3\", \"Topic3\", \"Topic3\", \"Topic3\", \"Topic3\", \"Topic3\", \"Topic3\", \"Topic3\", \"Topic3\", \"Topic3\", \"Topic3\", \"Topic3\", \"Topic3\", \"Topic3\", \"Topic3\", \"Topic3\", \"Topic3\", \"Topic3\", \"Topic3\", \"Topic3\", \"Topic3\", \"Topic3\", \"Topic3\", \"Topic3\", \"Topic3\", \"Topic3\", \"Topic3\", \"Topic3\", \"Topic3\", \"Topic3\", \"Topic3\", \"Topic3\", \"Topic3\", \"Topic3\", \"Topic3\", \"Topic3\", \"Topic3\", \"Topic3\", \"Topic3\", \"Topic4\", \"Topic4\", \"Topic4\", \"Topic4\", \"Topic4\", \"Topic4\", \"Topic4\", \"Topic4\", \"Topic4\", \"Topic4\", \"Topic4\", \"Topic4\", \"Topic4\", \"Topic4\", \"Topic4\", \"Topic4\", \"Topic4\", \"Topic4\", \"Topic4\", \"Topic4\", \"Topic4\", \"Topic4\", \"Topic4\", \"Topic4\", \"Topic4\", \"Topic4\", \"Topic4\", \"Topic4\", \"Topic4\", \"Topic4\", \"Topic4\", \"Topic4\", \"Topic4\", \"Topic4\", \"Topic4\", \"Topic4\", \"Topic4\", \"Topic4\", \"Topic4\", \"Topic4\", \"Topic4\", \"Topic4\", \"Topic4\", \"Topic4\", \"Topic4\", \"Topic5\", \"Topic5\", \"Topic5\", \"Topic5\", \"Topic5\", \"Topic5\", \"Topic5\", \"Topic5\", \"Topic5\", \"Topic5\", \"Topic5\", \"Topic5\", \"Topic5\", \"Topic5\", \"Topic5\", \"Topic5\", \"Topic5\", \"Topic5\", \"Topic5\", \"Topic5\", \"Topic5\", \"Topic5\", \"Topic5\", \"Topic5\", \"Topic5\", \"Topic5\", \"Topic5\", \"Topic5\", \"Topic5\", \"Topic5\", \"Topic5\", \"Topic5\", \"Topic5\", \"Topic5\", \"Topic5\", \"Topic5\", \"Topic5\", \"Topic5\", \"Topic5\", \"Topic5\", \"Topic5\", \"Topic5\", \"Topic5\", \"Topic5\", \"Topic5\", \"Topic5\", \"Topic5\", \"Topic6\", \"Topic6\", \"Topic6\", \"Topic6\", \"Topic6\", \"Topic6\", \"Topic6\", \"Topic6\", \"Topic6\", \"Topic6\", \"Topic6\", \"Topic6\", \"Topic6\", \"Topic6\", \"Topic6\", \"Topic6\", \"Topic6\", \"Topic6\", \"Topic6\", \"Topic6\", \"Topic6\", \"Topic6\", \"Topic6\", \"Topic6\", \"Topic6\", \"Topic6\", \"Topic6\", \"Topic6\", \"Topic6\", \"Topic6\", \"Topic6\", \"Topic6\", \"Topic6\", \"Topic6\", \"Topic6\", \"Topic6\", \"Topic7\", \"Topic7\", \"Topic7\", \"Topic7\", \"Topic7\", \"Topic7\", \"Topic7\", \"Topic7\", \"Topic7\", \"Topic7\", \"Topic7\", \"Topic7\", \"Topic7\", \"Topic7\", \"Topic7\", \"Topic7\", \"Topic7\", \"Topic7\", \"Topic7\", \"Topic7\", \"Topic7\", \"Topic7\", \"Topic7\", \"Topic7\", \"Topic7\", \"Topic7\", \"Topic7\", \"Topic7\", \"Topic7\", \"Topic7\", \"Topic7\", \"Topic7\", \"Topic7\", \"Topic7\", \"Topic7\", \"Topic7\", \"Topic7\", \"Topic7\", \"Topic7\", \"Topic7\", \"Topic7\", \"Topic8\", \"Topic8\", \"Topic8\", \"Topic8\", \"Topic8\", \"Topic8\", \"Topic8\", \"Topic8\", \"Topic8\", \"Topic8\", \"Topic8\", \"Topic8\", \"Topic8\", \"Topic8\", \"Topic8\", \"Topic8\", \"Topic8\", \"Topic8\", \"Topic8\", \"Topic8\", \"Topic8\", \"Topic8\", \"Topic8\", \"Topic8\", \"Topic8\", \"Topic8\", \"Topic8\", \"Topic8\", \"Topic8\", \"Topic8\", \"Topic8\", \"Topic8\", \"Topic8\", \"Topic8\", \"Topic8\", \"Topic8\", \"Topic8\", \"Topic8\", \"Topic8\", \"Topic8\", \"Topic8\", \"Topic8\", \"Topic8\", \"Topic8\", \"Topic8\", \"Topic8\", \"Topic8\", \"Topic9\", \"Topic9\", \"Topic9\", \"Topic9\", \"Topic9\", \"Topic9\", \"Topic9\", \"Topic9\", \"Topic9\", \"Topic9\", \"Topic9\", \"Topic9\", \"Topic9\", \"Topic9\", \"Topic9\", \"Topic9\", \"Topic9\", \"Topic9\", \"Topic9\", \"Topic9\", \"Topic9\", \"Topic9\", \"Topic9\", \"Topic9\", \"Topic9\", \"Topic9\", \"Topic9\", \"Topic9\", \"Topic9\", \"Topic9\", \"Topic9\", \"Topic9\", \"Topic9\", \"Topic9\", \"Topic9\", \"Topic9\", \"Topic9\", \"Topic9\", \"Topic9\", \"Topic9\", \"Topic9\", \"Topic9\", \"Topic9\", \"Topic9\", \"Topic9\", \"Topic9\", \"Topic9\", \"Topic9\", \"Topic9\", \"Topic9\", \"Topic10\", \"Topic10\", \"Topic10\", \"Topic10\", \"Topic10\", \"Topic10\", \"Topic10\", \"Topic10\", \"Topic10\", \"Topic10\", \"Topic10\", \"Topic10\", \"Topic10\", \"Topic10\", \"Topic10\", \"Topic10\", \"Topic10\", \"Topic10\", \"Topic10\", \"Topic10\", \"Topic10\", \"Topic10\", \"Topic10\", \"Topic10\", \"Topic10\", \"Topic10\", \"Topic10\", \"Topic10\", \"Topic10\", \"Topic10\", \"Topic10\", \"Topic10\", \"Topic10\", \"Topic10\", \"Topic10\", \"Topic10\", \"Topic10\", \"Topic10\", \"Topic10\"], \"logprob\": [30.0, 29.0, 28.0, 27.0, 26.0, 25.0, 24.0, 23.0, 22.0, 21.0, 20.0, 19.0, 18.0, 17.0, 16.0, 15.0, 14.0, 13.0, 12.0, 11.0, 10.0, 9.0, 8.0, 7.0, 6.0, 5.0, 4.0, 3.0, 2.0, 1.0, -2.8604, -3.7372, -3.8076, -3.8611, -3.8814, -3.976, -4.4314, -4.5182, -4.594, -4.5968, -4.6497, -4.7212, -4.7703, -4.8635, -4.8656, -4.8939, -4.9133, -4.9953, -5.0224, -5.0818, -5.0845, -5.1141, -5.1189, -5.1448, -5.1561, -5.1809, -5.1933, -5.2072, -5.2447, -5.2512, -2.7537, -3.2799, -3.8745, -3.798, -3.6541, -4.0404, -4.191, -4.3661, -4.5817, -4.8127, -3.8182, -4.3771, -4.1507, -4.3355, -4.6839, -4.8467, -3.6482, -4.2731, -4.297, -4.301, -4.4571, -4.4905, -4.5151, -4.5805, -4.5982, -4.68, -4.69, -4.7268, -4.7558, -4.882, -4.8886, -4.948, -5.0182, -5.0713, -5.1139, -5.1267, -5.1436, -5.1881, -5.2288, -5.2535, -5.2624, -5.2845, -5.3273, -5.3492, -5.3782, -5.3939, -3.9621, -2.9153, -4.1306, -3.9539, -4.1707, -4.2744, -3.8067, -3.7722, -3.7331, -3.4357, -4.3524, -4.73, -4.6827, -4.2841, -4.2554, -4.0828, -4.3587, -4.5344, -4.6774, -4.7242, -3.0074, -3.2877, -3.2894, -3.645, -3.934, -4.1313, -4.2374, -4.3643, -4.5985, -4.8323, -4.8703, -4.899, -4.9088, -4.929, -4.9332, -4.9514, -4.9681, -5.0506, -5.0648, -5.144, -5.1548, -5.2319, -5.2573, -5.2667, -5.2825, -5.2968, -5.3379, -5.3422, -5.3598, -5.3636, -4.3781, -3.1057, -3.2572, -4.2797, -4.106, -4.4689, -3.9984, -4.0129, -4.3149, -3.4228, -4.6447, -4.4435, -4.2413, -3.6864, -4.7632, -4.5975, -4.2528, -4.7649, -4.8079, -2.9055, -3.303, -3.5239, -3.7877, -3.8047, -3.8963, -4.0491, -4.2677, -4.2695, -4.3042, -4.3915, -4.5612, -4.7117, -4.7722, -4.7748, -4.7828, -4.8083, -4.8527, -4.9253, -4.9772, -4.9832, -5.0613, -5.0627, -5.1159, -5.184, -5.2049, -5.2289, -5.3653, -5.3801, -5.4355, -4.0073, -4.003, -3.9964, -4.175, -2.9267, -4.9182, -4.2453, -3.9804, -3.465, -4.1283, -4.4954, -3.9267, -4.8445, -4.1815, -4.7216, -3.0112, -3.4665, -3.8181, -3.9407, -3.9861, -4.2097, -4.3751, -4.3829, -4.4343, -4.5272, -4.6167, -4.6161, -4.6229, -4.6517, -4.4393, -4.7999, -4.9555, -4.9707, -5.0708, -5.195, -5.1941, -5.2024, -5.2275, -5.2374, -5.2575, -5.2654, -5.3179, -5.348, -5.4174, -5.439, -4.8521, -4.2745, -3.7266, -2.995, -4.5443, -4.559, -4.8389, -2.9904, -4.2927, -4.053, -4.6787, -4.2098, -4.5386, -4.7221, -4.421, -4.4489, -4.7422, -2.8082, -3.0801, -3.7397, -3.8708, -4.0357, -4.1259, -4.1617, -4.2064, -4.274, -4.3755, -4.3961, -4.4126, -4.4225, -4.5399, -4.5506, -4.5797, -4.5989, -4.6408, -4.7157, -4.6775, -4.8939, -4.9005, -4.9394, -4.9567, -4.9902, -5.0271, -5.0603, -5.0832, -5.2032, -5.2306, -2.1221, -3.1831, -4.5983, -3.9151, -3.9123, -3.9543, -3.5591, -3.5798, -3.5942, -3.7545, -3.7854, -3.8373, -3.8547, -3.8959, -3.9572, -4.0545, -4.0545, -4.2227, -4.3357, -4.343, -4.3461, -4.6002, -4.63, -4.6365, -4.7135, -4.7851, -4.8502, -4.896, -4.9442, -5.0047, -5.0437, -5.0664, -5.1018, -5.1948, -5.2432, -5.2479, -3.3449, -2.5442, -3.6181, -4.4206, -4.0035, -4.6292, -3.2784, -3.9946, -4.3892, -4.6277, -4.3104, -2.6493, -2.739, -3.4572, -4.5993, -4.6629, -4.7227, -4.8329, -4.9229, -5.0195, -5.023, -5.0266, -5.0611, -5.0967, -5.1606, -5.1763, -5.3001, -5.3137, -5.315, -5.3669, -5.4068, -5.413, -5.4433, -5.5697, -5.5734, -5.6286, -5.6424, -5.643, -5.6681, -5.6979, -5.7118, -2.4568, -3.5985, -2.3767, -3.8355, -2.896, -3.0573, -3.2655, -3.7314, -3.919, -3.7824, -4.8637, -4.3085, -4.4369, -4.3871, -5.1384, -4.8984, -5.1154, -3.4352, -3.8918, -3.95, -4.3086, -4.3282, -4.4851, -4.549, -4.621, -4.6678, -4.6723, -4.696, -4.7298, -4.7331, -4.7653, -4.8012, -4.8199, -4.8344, -4.9589, -5.0164, -5.0199, -5.0242, -5.0257, -5.069, -5.0741, -5.0988, -5.1013, -5.1109, -5.1326, -5.1497, -5.1635, -3.0631, -3.0486, -4.0496, -4.0856, -2.8322, -4.5352, -3.6598, -4.1234, -4.4893, -3.671, -4.5855, -4.1142, -4.2661, -4.5112, -4.4512, -4.501, -4.6224, -4.5461, -4.6126, -4.6701, -3.5907, -3.6491, -3.7518, -3.8427, -3.8831, -3.9052, -3.9449, -4.0292, -4.0725, -4.1444, -4.163, -4.1857, -4.2263, -4.2374, -4.2836, -4.2886, -4.3564, -4.4883, -4.6749, -4.8783, -4.8874, -4.9363, -5.0144, -5.1126, -5.1264, -5.1978, -5.2098, -5.2189, -5.2492, -5.2562, -3.4034, -2.5264, -4.3658, -4.6711, -4.1425, -3.7774, -4.3889, -4.3742, -4.3526], \"loglift\": [30.0, 29.0, 28.0, 27.0, 26.0, 25.0, 24.0, 23.0, 22.0, 21.0, 20.0, 19.0, 18.0, 17.0, 16.0, 15.0, 14.0, 13.0, 12.0, 11.0, 10.0, 9.0, 8.0, 7.0, 6.0, 5.0, 4.0, 3.0, 2.0, 1.0, 2.5197, 2.5131, 2.5123, 2.5117, 2.5114, 2.5101, 2.5019, 2.4999, 2.498, 2.4979, 2.4965, 2.4944, 2.4928, 2.4899, 2.4899, 2.4889, 2.4882, 2.4852, 2.4841, 2.4817, 2.4816, 2.4803, 2.4801, 2.479, 2.4785, 2.4773, 2.4767, 2.4761, 2.4743, 2.474, 2.2982, 2.0686, 2.1884, 2.1676, 2.1169, 1.9626, 1.9659, 2.013, 1.9204, 2.1539, 0.7526, 1.0264, 0.0723, 0.3773, 0.8986, 0.3874, 2.7491, 2.738, 2.7374, 2.7373, 2.7331, 2.7322, 2.7314, 2.7294, 2.7288, 2.726, 2.7256, 2.7243, 2.7232, 2.718, 2.7177, 2.7151, 2.7117, 2.7076, 2.7068, 2.7061, 2.7052, 2.7026, 2.7002, 2.6987, 2.6982, 2.6968, 2.694, 2.6926, 2.6906, 2.6895, 2.6361, 2.4461, 2.5562, 2.36, 2.2987, 2.2618, 2.0142, 1.8103, 1.5365, 0.9278, 1.801, 2.1428, 2.0661, 1.0643, 0.825, 0.1402, -0.0054, -0.0198, -0.1066, 0.3312, 1.884, 1.883, 1.883, 1.8814, 1.8796, 1.878, 1.877, 1.8756, 1.8727, 1.869, 1.8683, 1.8677, 1.8676, 1.8672, 1.8671, 1.8667, 1.8664, 1.8646, 1.8643, 1.8625, 1.8622, 1.8603, 1.8596, 1.8593, 1.8589, 1.8585, 1.8572, 1.8572, 1.8567, 1.8566, 1.8086, 1.7063, 1.7091, 1.7771, 1.7259, 1.7316, 1.5922, 1.5825, 1.5869, 1.187, 1.6228, 1.4376, 1.1623, 0.1122, 1.3902, 0.9486, -0.2247, 0.7226, 0.2267, 2.2366, 2.2348, 2.2334, 2.2313, 2.231, 2.2303, 2.2287, 2.2258, 2.2258, 2.2253, 2.2239, 2.2209, 2.2178, 2.2164, 2.2163, 2.2162, 2.2153, 2.2144, 2.2125, 2.211, 2.2109, 2.2085, 2.2085, 2.2067, 2.2044, 2.2037, 2.2028, 2.1974, 2.1968, 2.1944, 2.1675, 2.1436, 2.0388, 1.8294, 1.2964, 2.0901, 1.7418, 1.5657, 0.8882, 1.2307, 1.4361, 0.4369, 1.9858, -0.0127, 0.548, 2.1398, 2.1376, 2.1351, 2.134, 2.1336, 2.1311, 2.1289, 2.1288, 2.128, 2.1264, 2.1249, 2.1249, 2.1248, 2.1242, 2.1227, 2.1212, 2.1175, 2.1171, 2.1143, 2.1105, 2.1105, 2.1103, 2.1094, 2.1091, 2.1084, 2.1081, 2.1063, 2.1052, 2.1024, 2.1016, 2.0423, 1.9146, 1.7609, 1.5759, 1.8676, 1.8478, 1.9341, 0.8082, 1.4348, 0.9816, 1.4254, 0.4, 0.8228, 1.2809, 0.0936, -0.2259, 0.0999, 2.6306, 2.629, 2.6229, 2.6211, 2.6186, 2.617, 2.6164, 2.6155, 2.6141, 2.6118, 2.6113, 2.6109, 2.6107, 2.6076, 2.6073, 2.6065, 2.606, 2.6047, 2.6023, 2.596, 2.596, 2.5957, 2.5942, 2.5935, 2.5921, 2.5904, 2.589, 2.5879, 2.582, 2.5805, 2.2415, 2.176, 2.4062, 2.0121, 0.6022, -0.1557, 2.625, 2.6248, 2.6246, 2.6228, 2.6224, 2.6216, 2.6214, 2.6208, 2.6199, 2.6183, 2.6183, 2.6151, 2.6127, 2.6126, 2.6125, 2.6059, 2.605, 2.6048, 2.6024, 2.6, 2.5976, 2.5959, 2.5939, 2.5914, 2.5897, 2.5886, 2.587, 2.5824, 2.5798, 2.5795, 2.4779, 2.4099, 2.4406, 2.456, 2.3568, 2.4387, 1.7562, 2.0864, 2.2242, 2.0769, 1.0184, 1.8452, 1.8428, 1.8428, 1.8335, 1.8326, 1.8317, 1.8299, 1.8283, 1.8264, 1.8263, 1.8263, 1.8255, 1.8248, 1.8233, 1.8229, 1.8198, 1.8194, 1.8194, 1.8179, 1.8167, 1.8166, 1.8156, 1.8115, 1.8113, 1.8093, 1.8088, 1.8088, 1.8078, 1.8067, 1.8061, 1.7119, 1.735, 1.6513, 1.6625, 1.4573, 1.4573, 1.4473, 1.1107, 1.1364, 0.0161, 1.0634, 0.2624, 0.1729, -0.1641, 1.3335, 0.4303, 0.9656, 2.2939, 2.2901, 2.2894, 2.2846, 2.2843, 2.2816, 2.2803, 2.2788, 2.2778, 2.2777, 2.2771, 2.2763, 2.2763, 2.2755, 2.2746, 2.2741, 2.2737, 2.2702, 2.2684, 2.2683, 2.2681, 2.2681, 2.2667, 2.2665, 2.2657, 2.2656, 2.2653, 2.2645, 2.2639, 2.2634, 2.171, 2.0318, 2.0557, 1.8423, 0.9664, 1.8571, 1.0485, 1.2053, 1.6148, 0.552, 1.7023, 0.7279, 0.688, 1.2164, 0.2616, 0.311, 0.9601, 0.0638, -0.5846, 0.3853, 2.5118, 2.5112, 2.5101, 2.509, 2.5085, 2.5082, 2.5077, 2.5065, 2.5058, 2.5046, 2.5043, 2.5039, 2.5032, 2.503, 2.5021, 2.5021, 2.5007, 2.4978, 2.493, 2.4866, 2.4863, 2.4846, 2.4816, 2.4776, 2.477, 2.4738, 2.4732, 2.4728, 2.4712, 2.471, 2.3054, 2.1819, 2.0258, 1.9575, 0.9094, 0.0211, 0.8807, 0.6812, 0.4894]}, \"token.table\": {\"Topic\": [8, 3, 1, 10, 7, 6, 10, 1, 10, 2, 9, 10, 1, 2, 4, 3, 3, 8, 10, 2, 3, 5, 3, 3, 7, 9, 2, 7, 9, 9, 1, 2, 9, 2, 3, 3, 9, 4, 6, 3, 5, 10, 8, 4, 9, 10, 6, 9, 8, 2, 8, 4, 5, 2, 4, 6, 6, 8, 10, 4, 7, 9, 8, 3, 8, 9, 4, 2, 7, 9, 10, 3, 5, 3, 5, 3, 3, 8, 9, 10, 1, 8, 4, 7, 7, 10, 4, 9, 9, 4, 7, 10, 5, 6, 2, 5, 4, 1, 6, 7, 3, 4, 10, 3, 4, 5, 6, 7, 3, 8, 3, 4, 3, 9, 3, 1, 2, 8, 9, 7, 8, 9, 1, 3, 2, 6, 8, 4, 6, 7, 6, 10, 4, 5, 7, 1, 9, 7, 5, 9, 2, 5, 6, 10, 1, 1, 5, 2, 5, 8, 1, 2, 5, 8, 2, 2, 6, 8, 3, 1, 8, 1, 2, 8, 1, 3, 8, 1, 7, 4, 10, 10, 1, 2, 4, 8, 1, 5, 4, 2, 8, 5, 1, 2, 5, 1, 3, 5, 1, 5, 2, 5, 1, 2, 5, 9, 3, 5, 6, 8, 9, 1, 5, 9, 9, 1, 7, 9, 6, 5, 2, 7, 1, 5, 5, 5, 7, 10, 9, 2, 6, 5, 4, 1, 3, 10, 7, 5, 9, 5, 2, 1, 8, 1, 4, 5, 3, 7, 4, 4, 10, 8, 4, 2, 5, 6, 8, 1, 5, 1, 5, 8, 9, 2, 4, 5, 8, 2, 6, 6, 7, 6, 6, 7, 9, 2, 5, 3, 9, 9, 9, 9, 10, 2, 5, 7, 3, 9, 4, 3, 5, 4, 7, 5, 3, 10, 8, 1, 7, 7, 9, 3, 2, 3, 10, 4, 7, 9, 8, 2, 4, 2, 3, 4, 5, 6, 7, 2, 5, 8, 9, 10, 4, 5, 8, 5, 9, 1, 5, 6, 8, 6, 3, 3, 1, 2, 10, 5, 7, 8, 8, 3, 6, 7, 2, 3, 3, 3, 7, 2, 3, 3, 10, 1, 8, 8, 8, 5, 8, 2, 2, 5, 8, 9, 10, 1, 4, 4, 8, 2, 4, 5, 4, 5, 6, 9, 10, 8, 3, 5, 10, 2, 10, 1, 10, 1, 9, 3, 5, 6, 8, 9, 10, 3, 5, 2, 8, 8, 8, 3, 6, 6, 10, 7, 5, 1, 4, 7, 6, 8, 5, 6, 2, 8, 2, 3, 5, 9, 5, 2, 1, 3, 5, 3, 5, 2, 2, 5, 8, 9, 7, 5, 6, 2, 1, 9, 1, 5, 7, 8, 9, 6, 6, 7, 7, 5, 9, 4, 10, 5, 3, 4, 6, 2, 1, 1, 2, 3, 4, 5, 7, 8, 9, 4, 5, 2, 4, 10, 5, 9, 4, 2, 3, 3, 4, 5, 2, 6, 3, 1, 4, 5, 3, 2, 4, 9, 5, 6, 5, 7, 9, 2, 3, 4, 5, 10, 1, 9, 4, 6, 1, 4, 6, 1, 7, 9, 6, 7, 2, 4, 9, 5, 5, 5, 6, 6, 6, 1, 6, 2, 9, 10, 7, 10, 7, 6, 3, 2, 4, 8, 3, 8, 9, 10, 5, 10, 10, 4, 4, 9, 7, 10, 5, 5, 8, 10, 1, 3, 5, 10, 2, 10, 1, 9, 10], \"Freq\": [0.9840159334517765, 0.9716585146973232, 0.981493674788498, 0.9778977663006269, 0.9812017235071937, 0.9780273221748679, 0.95627741776405, 0.7975903413193934, 0.1984249141818979, 0.9677231947726449, 0.28694531314481125, 0.7118451037630894, 0.9816870245832596, 0.9658971857571981, 0.960994536951663, 0.9779531212363909, 0.9945509375407401, 0.18760261158390512, 0.8029391775791139, 0.08667829640898744, 0.7467668613697379, 0.16002147029351527, 0.9820948861289094, 0.9827382426122525, 0.9659664355719184, 0.9822175342280164, 0.9465543657994407, 0.857759074198194, 0.142959845699699, 0.9743587190550185, 0.08806451179997854, 0.14410556476360126, 0.7645600797179956, 0.386259093269094, 0.608650692424027, 0.34186846699522927, 0.6391453948171678, 0.9714270291167856, 0.9864272636178846, 0.3576605193895242, 0.05647271358781961, 0.5647271358781961, 0.9492931773600893, 0.9797858346166239, 0.9609082865960795, 0.9535873827548251, 0.9463044674907749, 0.9950183154234679, 0.984991042839321, 0.9094639620163815, 0.966583692075025, 0.7831241615419867, 0.20729757217287884, 0.1602746299493625, 0.16418376726520062, 0.6743261869820739, 0.9771698009769206, 0.9614316537180106, 0.9480721629914717, 0.9581913589263907, 0.6675236045124333, 0.31521947990864907, 0.9981393328097482, 0.8355800257878655, 0.02754659425674282, 0.1377329712837141, 0.965167856374137, 0.6734650751612091, 0.04123255562211484, 0.1924185929032026, 0.08246511124422969, 0.24130351832901045, 0.7389920248825945, 0.0736717049054536, 0.9086176938339278, 0.9828053681643324, 0.7369870323907026, 0.1406975243654978, 0.006699882112642752, 0.10719811380228403, 0.5474079565748118, 0.4478792371975732, 0.9735438923895555, 0.9457677298248418, 0.9688666801038248, 0.9868035731949377, 0.9847578186461654, 0.9544858046713008, 0.9642130504321735, 0.9888835012993017, 0.9850955284582537, 0.9726887005621603, 0.9853294013348936, 0.9837325609843471, 0.6261541453543408, 0.3532151589178332, 0.9631688339801296, 0.9601073164310052, 0.9623607134556043, 0.9931826629130216, 0.9563406483854412, 0.9327925936324896, 0.05979439702772369, 0.19118512156091547, 0.05735553646827464, 0.31354359935990134, 0.022942214587309856, 0.4167835650027957, 0.9620180395889221, 0.9428476742801041, 0.9661557669830854, 0.9711072034568674, 0.9962845509145757, 0.9541317583940068, 0.98351281631965, 0.19840862224649777, 0.3835900030098957, 0.1521132770556483, 0.26454482966199705, 0.577054116128717, 0.41373691345077823, 0.9885945107161876, 0.9729171782397185, 0.9919769788463909, 0.9675018861415388, 0.971419727932558, 0.9556058086905167, 0.8216284083996126, 0.17680611319991665, 0.96660488112537, 0.9919917156828886, 0.9846471678994126, 0.9780653650461659, 0.9900858757469178, 0.9809746910519893, 0.11669507307250629, 0.8775469495052474, 0.984976809521667, 0.9881610051252154, 0.9797217423021207, 0.9449472888925209, 0.9805637832263139, 0.9616524200070357, 0.9356819315864143, 0.9581779995193608, 0.5740159278269198, 0.4229591047145725, 0.9840925414952415, 0.1641087176877047, 0.8326997897487239, 0.1707479460279866, 0.057717615558756034, 0.5675565529944343, 0.20441655510392762, 0.9426977243913066, 0.9673329619387662, 0.10311833301142484, 0.8919735805488248, 0.9816566846309037, 0.002431307981418114, 0.9968362723814268, 0.9819949931478605, 0.9311803596819805, 0.967724548814701, 0.06428576848081881, 0.8357149902506446, 0.09642865272122822, 0.9605542846209485, 0.9499709759823428, 0.986869964230557, 0.9900382750734968, 0.9805001368720137, 0.6332761534426525, 0.18317905264870113, 0.1779453654301668, 0.9906358628704565, 0.9601160203720498, 0.9446747330160434, 0.992928945028951, 0.8181383713732949, 0.1795913498136501, 0.9882887194642113, 0.972730120600653, 0.9282779538449104, 0.9556980419040223, 0.9523022300681134, 0.9888949538708149, 0.9866148794834453, 0.7163604185335114, 0.2779906101771835, 0.7263411676393143, 0.26508801738661103, 0.575588771822859, 0.2231874829517208, 0.19969406369364495, 0.9665603902757327, 0.4975715520347624, 0.1750251690574541, 0.03250467425352719, 0.18752696684727227, 0.1075154609924361, 0.9702268953654042, 0.4418215797645208, 0.5489298415256167, 0.9823478962987346, 0.9614689315491967, 0.9323457731164444, 0.9812468247686463, 0.9403538869194396, 0.9701106070030202, 0.9271976730180862, 0.9860010129777068, 0.6014501870622344, 0.39607695245561775, 0.963915470614879, 0.9833206800283026, 0.974717947893945, 0.982855575746917, 0.9865218123674787, 0.941511524625484, 0.990828117619722, 0.9816605116898349, 0.9885629550950962, 0.9795014274288267, 0.9746174213716964, 0.9915387599357046, 0.9626821278940365, 0.36434960329411636, 0.6352762313846132, 0.9844681429516328, 0.9642085262437325, 0.9589049489364398, 0.997152778055862, 0.6628049242379025, 0.11978402245263299, 0.20762563891789718, 0.9931557437207013, 0.983781376552649, 0.9814738067352283, 0.9926109099394466, 0.991311133848175, 0.9818433014642778, 0.9738974145335556, 0.06137580028327717, 0.1295711339313629, 0.13184431171963243, 0.6774069809043184, 0.6863420881908907, 0.29037549884999225, 0.11640666170327632, 0.08037602831892889, 0.6707240983855445, 0.13026459762033302, 0.14486457798739402, 0.09657638532492935, 0.14486457798739402, 0.5955543761703976, 0.19192854634087045, 0.7951325491264633, 0.9701357336096409, 0.9817360511386614, 0.985191490603532, 0.9768700371521951, 0.7973046467967462, 0.20109011003280766, 0.22737373873615183, 0.7579124624538394, 0.9794764750234888, 0.9831079025282963, 0.9594359144311488, 0.9894657997770165, 0.9875646101763738, 0.9740139830075896, 0.9509219013624014, 0.14606014415354765, 0.8179368072598668, 0.7372343244369002, 0.25484643313868155, 0.9963570310709667, 0.9196759922756448, 0.060504999491818735, 0.40622047732041205, 0.5687086682485769, 0.9953925284736226, 0.3861893290853771, 0.6089908650961716, 0.9546632103288675, 0.9675973920429747, 0.983781376335294, 0.9411802551724237, 0.95195668315654, 0.9714725216393116, 0.09564393929393968, 0.892676766743437, 0.978809836850309, 0.9659155626400394, 0.9819284098939552, 0.950570232678193, 0.9663706232421285, 0.953456578268284, 0.9445051199262944, 0.07015515015178957, 0.38904219629628756, 0.5102192738311968, 0.02551096369155984, 0.23032358732465652, 0.7629468830129247, 0.050465457905212965, 0.12931773588210824, 0.4794218500995232, 0.2081700138590035, 0.13247182700118404, 0.1045578898895804, 0.02091157797791608, 0.8734605263083408, 0.4902539466374713, 0.501396081788323, 0.9912185397281608, 0.968844666103768, 0.5321018945995544, 0.457420926936459, 0.975356079011216, 0.9905990242790864, 0.9811115098749782, 0.9396067231412031, 0.9860207470664636, 0.9848302773153425, 0.14474028124440727, 0.8443183072590423, 0.9788755283947973, 0.9434069345281925, 0.8589124017986077, 0.13497194885406694, 0.973190695368182, 0.22303403802772134, 0.7740593084491506, 0.9877258707586323, 0.9942220360443579, 0.976933902900345, 0.9301619553313583, 0.9876249709607782, 0.9726507964993623, 0.9518859558361304, 0.993967351287694, 0.9624151296604659, 0.9845887256166499, 0.9887699485736456, 0.9838396770725193, 0.9727082806594026, 0.919436529142091, 0.08979549661714431, 0.11322040877813848, 0.4919231553808775, 0.14835777701962974, 0.1600702331001268, 0.9735391855862149, 0.9913867092890929, 0.9666810752085649, 0.9668945186087686, 0.1310912125876975, 0.6655400023683103, 0.1915948491666348, 0.6046325721550911, 0.22797621573060814, 0.15859215007346653, 0.9620136517357153, 0.9266722189838422, 0.97893380435827, 0.641849443007106, 0.17829151194641835, 0.16937693634909742, 0.9566757765884172, 0.9412737666474053, 0.9786126563368753, 0.9785020649846088, 0.9439823535530654, 0.9818800352754874, 0.1699725805224006, 0.2632908600248951, 0.06110125443615708, 0.15997419343284763, 0.2632908600248951, 0.08220896051410226, 0.31275100251015214, 0.6796319862239845, 0.9547504985534025, 0.9860016233323753, 0.9747648380971361, 0.9826173377158098, 0.991540162850107, 0.9414399007461355, 0.9772549423784399, 0.9799697551031649, 0.9872703836283426, 0.9649066184377306, 0.9930615452228263, 0.9664932719035016, 0.9727854498174279, 0.9967578779720342, 0.9740156676449578, 0.9845490201848384, 0.9213134942718942, 0.9536312232138267, 0.9894998625109148, 0.4700793226107535, 0.35255949195806513, 0.1678854723609834, 0.9955523276349836, 0.937260391873231, 0.969381563517495, 0.9781385473075506, 0.9661965453413184, 0.9863673222100537, 0.8486811637776419, 0.14427579784219913, 0.9515438886906825, 0.4882887754214775, 0.4882887754214775, 0.9589828696883269, 0.9876473312552343, 0.936513895678382, 0.9594140553307582, 0.9687677000927772, 0.9573122417964454, 0.6984657557589421, 0.29102739823289253, 0.07183825468147935, 0.1539391171745986, 0.20012085232697818, 0.24117128357353781, 0.33353475387829695, 0.9874968075076703, 0.9820833625569291, 0.9834186438526078, 0.9856530766896745, 0.9906573409327812, 0.9492736880756711, 0.9068084064131418, 0.08138024160117939, 0.9755507174131253, 0.11007845276695571, 0.8531080089439068, 0.9575609375952338, 0.9778516250359641, 0.9707658264425036, 0.08661754833242681, 0.07303048192734024, 0.030570899411444755, 0.38892977584560273, 0.09341108153497009, 0.018682216306994015, 0.13417228075022974, 0.17323509666485362, 0.9665757567508622, 0.9516654035466475, 0.9886637782784643, 0.9885549295106473, 0.9601064655425127, 0.21194521103543534, 0.7808507774989724, 0.9554743836648993, 0.9627167683308678, 0.9597766239888817, 0.33750461523863656, 0.4500061536515154, 0.20625282042361123, 0.9830676653611119, 0.979983853291807, 0.9864254027896939, 0.9715863668295689, 0.9941408103505234, 0.9836230785049338, 0.9784208192222419, 0.5287234641105569, 0.43259192518136474, 0.9830525214929118, 0.9623157718775471, 0.9806180935701738, 0.4893368436234086, 0.16056365181393095, 0.33641907999109344, 0.2950315320352259, 0.19829988218761088, 0.18379013471046862, 0.12575114480189958, 0.19346329969523013, 0.9511309958341164, 0.9730485496775443, 0.36496024205279326, 0.62942418556931, 0.958718691254165, 0.9877441748050703, 0.9588850181707749, 0.9793003165149442, 0.97261934951494, 0.9847218868591465, 0.17035860261397898, 0.8198507750797738, 0.8765422482232745, 0.10956778102790932, 0.9715980279183364, 0.9934751569042455, 0.98688696145931, 0.8047814595744083, 0.17400680207014232, 0.976128979378416, 0.9611172581426456, 0.9488124601386081, 0.9812589103005511, 0.6007478072283557, 0.37761290740068076, 0.9689430525562523, 0.989787288253393, 0.9895122556922549, 0.9782998970255783, 0.9851696477745076, 0.9974024419806707, 0.06190861502556896, 0.25924232541957, 0.6771254768421604, 0.12158272960221447, 0.8217315517942771, 0.05590010556423654, 0.9615900007092356, 0.8006263012134982, 0.1940912245366056, 0.9802929499712081, 0.9925358414868825, 0.9718954620191941, 0.9725483347895131, 0.9822926933421888, 0.9900908390183578, 0.9966211559425141, 0.9631412186959631, 0.9620476260335682, 0.9684964111840547, 0.2211961028370818, 0.48663142624157996, 0.20460639512430068, 0.08294853856390567, 0.9512088355115258, 0.9787902542481046, 0.9874015602168028, 0.959221816933602, 0.9699923174903257], \"Term\": [\"abcgrandstand\", \"absolute\", \"absolutely\", \"ago\", \"almost\", \"alone\", \"always\", \"amazing\", \"amazing\", \"ambassador\", \"amp\", \"amp\", \"another\", \"anyone\", \"around\", \"aussie\", \"australia\", \"awesome\", \"awesome\", \"back\", \"back\", \"back\", \"backatbathurst\", \"bad\", \"bastard\", \"beauty\", \"beer\", \"believe\", \"believe\", \"ben\", \"best\", \"best\", \"best\", \"better\", \"better\", \"big\", \"big\", \"bit\", \"blanchard\", \"bloody\", \"bloody\", \"bloody\", \"blue\", \"boring\", \"bow\", \"boys\", \"break\", \"brilliant\", \"broken\", \"btcc\", \"bull\", \"call\", \"call\", \"car\", \"car\", \"car\", \"care\", \"carnage\", \"celebrate\", \"championship\", \"channel\", \"channel\", \"chaz\", \"chazmozzie\", \"chazmozzie\", \"chazmozzie\", \"cheer\", \"chosenone\", \"chosenone\", \"chosenone\", \"chosenone\", \"come\", \"come\", \"coming\", \"coming\", \"commentary\", \"congrats\", \"congrats\", \"congrats\", \"congrats\", \"congratulation\", \"congratulation\", \"contact\", \"corner\", \"cough\", \"could\", \"coulthard\", \"couple\", \"coverage\", \"craig\", \"craiglowndes\", \"craillsy\", \"crap\", \"crash\", \"crazy\", \"crazy\", \"crowd\", \"cruel\", \"cutting\", \"daffidreynolds\", \"dariofranchitti\", \"davison\", \"davison\", \"day\", \"day\", \"day\", \"day\", \"day\", \"dead\", \"deat\", \"deserved\", \"devastated\", \"done\", \"dqmceiaoib\", \"drama\", \"drive\", \"drive\", \"drive\", \"drive\", \"driver\", \"driver\", \"dude\", \"dvs\", \"effort\", \"else\", \"embarrassing\", \"empty\", \"end\", \"end\", \"enjoy\", \"enough\", \"epic\", \"erebusv\", \"even\", \"event\", \"ever\", \"ever\", \"everyone\", \"exciting\", \"extraordinary\", \"falcon\", \"fan\", \"fashion\", \"fat\", \"father\", \"feel\", \"feel\", \"feeling\", \"final\", \"final\", \"finish\", \"finish\", \"finish\", \"finish\", \"finished\", \"finishing\", \"first\", \"first\", \"flag\", \"ford\", \"ford\", \"fordracing\", \"forget\", \"foxsportsnews\", \"fpr\", \"fpr\", \"fpr\", \"free\", \"front\", \"frosty\", \"fuck\", \"fucking\", \"fuel\", \"fuel\", \"fuel\", \"full\", \"future\", \"gavin\", \"get\", \"getting\", \"getting\", \"gisbergen\", \"give\", \"given\", \"glad\", \"glenn\", \"global\", \"god\", \"going\", \"going\", \"good\", \"good\", \"got\", \"got\", \"got\", \"gotta\", \"great\", \"great\", \"great\", \"great\", \"great\", \"greatest\", \"grid\", \"grid\", \"griffin\", \"grmotorsport\", \"groove\", \"guy\", \"haha\", \"happened\", \"happening\", \"happy\", \"hard\", \"hard\", \"heartbreak\", \"heartbreaking\", \"hell\", \"hey\", \"hit\", \"hold\", \"holden\", \"holy\", \"home\", \"hope\", \"hoping\", \"hour\", \"https\", \"incredible\", \"incredible\", \"insane\", \"intense\", \"jack\", \"jamie\", \"jamiewhincup\", \"jamiewhincup\", \"jamiewhincup\", \"job\", \"kart\", \"keep\", \"kelly\", \"kid\", \"king\", \"lane\", \"lap\", \"lap\", \"lap\", \"lap\", \"laps\", \"laps\", \"last\", \"last\", \"last\", \"last\", \"lead\", \"lead\", \"lead\", \"lead\", \"leader\", \"leader\", \"leading\", \"left\", \"let\", \"lights\", \"like\", \"like\", \"line\", \"line\", \"little\", \"live\", \"lol\", \"long\", \"look\", \"looked\", \"looking\", \"lost\", \"lost\", \"love\", \"love\", \"lowndes\", \"luck\", \"luck\", \"made\", \"made\", \"make\", \"man\", \"man\", \"managed\", \"manufacturer\", \"mario\", \"mark\", \"markberetta\", \"massive\", \"mate\", \"mate\", \"mattzel\", \"may\", \"mean\", \"memory\", \"minute\", \"miss\", \"mistake\", \"moffat\", \"moffat\", \"moffat\", \"moffat\", \"moment\", \"moment\", \"morris\", \"morris\", \"morris\", \"morris\", \"morris\", \"mostert\", \"mostert\", \"mostert\", \"motor\", \"motor\", \"motorsport\", \"mount\", \"mountain\", \"mountain\", \"move\", \"msport\", \"much\", \"must\", \"need\", \"never\", \"new\", \"new\", \"news\", \"newsaus\", \"next\", \"next\", \"nice\", \"nickpercat\", \"nickpercat\", \"nismo\", \"nissan\", \"nothing\", \"official\", \"old\", \"olivergavin\", \"omg\", \"one\", \"overtake\", \"overtakes\", \"overtaking\", \"panorama\", \"pas\", \"past\", \"paul\", \"paul\", \"paul\", \"paul\", \"paul\", \"pay\", \"penalty\", \"people\", \"pepsimaxcrew\", \"percat\", \"percat\", \"percat\", \"pit\", \"pit\", \"pit\", \"pitstops\", \"playing\", \"please\", \"podium\", \"podium\", \"podium\", \"point\", \"pretty\", \"probably\", \"proud\", \"pull\", \"put\", \"race\", \"race\", \"race\", \"race\", \"race\", \"race\", \"racing\", \"racing\", \"ready\", \"really\", \"record\", \"red\", \"redbullracingau\", \"remember\", \"restart\", \"result\", \"right\", \"row\", \"run\", \"running\", \"russiangp\", \"safety\", \"save\", \"say\", \"scene\", \"seat\", \"second\", \"see\", \"see\", \"see\", \"seen\", \"seriously\", \"set\", \"seton\", \"shame\", \"shane\", \"shanevg\", \"shanevg\", \"shattered\", \"shit\", \"shit\", \"short-of-fuel\", \"show\", \"skaife\", \"smclaughlin\", \"snappytv\", \"someone\", \"speedcafe\", \"speedcafe\", \"sport\", \"sport\", \"sport\", \"sport\", \"sport\", \"sportsbetcomau\", \"stall\", \"stalled\", \"start\", \"started\", \"stevepizzati\", \"still\", \"still\", \"stop\", \"straight\", \"straight\", \"strategy\", \"suck\", \"supercar\", \"supercars\", \"supercars\", \"supercars\", \"supercars\", \"supercars\", \"supercars\", \"supercars\", \"supercars\", \"support\", \"sure\", \"surely\", \"svg\", \"sweep\", \"take\", \"take\", \"taking\", \"tank\", \"tazdouglas\", \"team\", \"team\", \"team\", \"tell\", \"ten\", \"terrible\", \"thank\", \"thanks\", \"thing\", \"think\", \"third\", \"third\", \"thirteen\", \"though\", \"thought\", \"time\", \"time\", \"time\", \"today\", \"today\", \"today\", \"today\", \"today\", \"told\", \"tonight\", \"top\", \"top\", \"topic\", \"track\", \"traffic\", \"trending\", \"trevorlong\", \"truedrama\", \"turn\", \"turn\", \"two\", \"two\", \"tyre\", \"unbelievable\", \"van\", \"victory\", \"victory\", \"video\", \"volvo\", \"volvos\", \"wall\", \"watch\", \"watch\", \"watched\", \"watching\", \"way\", \"week\", \"weekend\", \"well\", \"whincup\", \"whincup\", \"whincup\", \"win\", \"win\", \"win\", \"wine\", \"winner\", \"winner\", \"winston\", \"winterbottom\", \"without\", \"work\", \"worth\", \"would\", \"wow\", \"wtf\", \"ycuv\", \"yeah\", \"year\", \"year\", \"year\", \"year\", \"years\", \"yes\", \"yet\", \"yolotus\", \"ztpjs\"]}, \"R\": 30, \"lambda.step\": 0.01, \"plot.opts\": {\"xlab\": \"PC1\", \"ylab\": \"PC2\"}, \"topic.order\": [1, 2, 3, 4, 5, 6, 7, 8, 9, 10]};\n",
       "\n",
       "function LDAvis_load_lib(url, callback){\n",
       "  var s = document.createElement('script');\n",
       "  s.src = url;\n",
       "  s.async = true;\n",
       "  s.onreadystatechange = s.onload = callback;\n",
       "  s.onerror = function(){console.warn(\"failed to load library \" + url);};\n",
       "  document.getElementsByTagName(\"head\")[0].appendChild(s);\n",
       "}\n",
       "\n",
       "if(typeof(LDAvis) !== \"undefined\"){\n",
       "   // already loaded: just create the visualization\n",
       "   !function(LDAvis){\n",
       "       new LDAvis(\"#\" + \"ldavis_el382820375037792167670253035\", ldavis_el382820375037792167670253035_data);\n",
       "   }(LDAvis);\n",
       "}else if(typeof define === \"function\" && define.amd){\n",
       "   // require.js is available: use it to load d3/LDAvis\n",
       "   require.config({paths: {d3: \"https://d3js.org/d3.v5\"}});\n",
       "   require([\"d3\"], function(d3){\n",
       "      window.d3 = d3;\n",
       "      LDAvis_load_lib(\"https://cdn.jsdelivr.net/gh/bmabey/pyLDAvis@3.4.0/pyLDAvis/js/ldavis.v3.0.0.js\", function(){\n",
       "        new LDAvis(\"#\" + \"ldavis_el382820375037792167670253035\", ldavis_el382820375037792167670253035_data);\n",
       "      });\n",
       "    });\n",
       "}else{\n",
       "    // require.js not available: dynamically load d3 & LDAvis\n",
       "    LDAvis_load_lib(\"https://d3js.org/d3.v5.js\", function(){\n",
       "         LDAvis_load_lib(\"https://cdn.jsdelivr.net/gh/bmabey/pyLDAvis@3.4.0/pyLDAvis/js/ldavis.v3.0.0.js\", function(){\n",
       "                 new LDAvis(\"#\" + \"ldavis_el382820375037792167670253035\", ldavis_el382820375037792167670253035_data);\n",
       "            })\n",
       "         });\n",
       "}\n",
       "</script>"
      ],
      "text/plain": [
       "PreparedData(topic_coordinates=              x         y  topics  cluster       Freq\n",
       "topic                                                \n",
       "0      0.047693 -0.108814       1        1   8.009951\n",
       "1     -0.095131 -0.140276       2        1   6.314721\n",
       "2      0.140358  0.001966       3        1  15.154036\n",
       "3     -0.262654 -0.094891       4        1  10.642117\n",
       "4      0.101752 -0.075324       5        1  11.723484\n",
       "5     -0.251548  0.046150       6        1   7.167458\n",
       "6     -0.065685  0.386761       7        1   7.167420\n",
       "7      0.048825 -0.117969       8        1  15.768181\n",
       "8      0.179928  0.045239       9        1  10.019265\n",
       "9      0.156464  0.057159      10        1   8.033368, topic_info=         Term        Freq       Total Category  logprob  loglift\n",
       "156       car  511.000000  511.000000  Default  30.0000  30.0000\n",
       "1322      win  715.000000  715.000000  Default  29.0000  29.0000\n",
       "769   mostert  621.000000  621.000000  Default  28.0000  28.0000\n",
       "185      chaz  448.000000  448.000000  Default  27.0000  27.0000\n",
       "435      ford  411.000000  411.000000  Default  26.0000  26.0000\n",
       "...       ...         ...         ...      ...      ...      ...\n",
       "34    amazing   51.267303  257.024176  Topic10  -4.1425   0.9094\n",
       "938      race   73.856729  900.145185  Topic10  -3.7774   0.0211\n",
       "1221    today   40.071005  206.757561  Topic10  -4.3889   0.8807\n",
       "862      paul   40.663480  256.137567  Topic10  -4.3742   0.6812\n",
       "766    morris   41.550966  317.048545  Topic10  -4.3526   0.4894\n",
       "\n",
       "[480 rows x 6 columns], token_table=      Topic      Freq           Term\n",
       "term                                \n",
       "0         8  0.984016  abcgrandstand\n",
       "1         3  0.971659       absolute\n",
       "2         1  0.981494     absolutely\n",
       "16       10  0.977898            ago\n",
       "26        7  0.981202         almost\n",
       "...     ...       ...            ...\n",
       "1361      2  0.951209          years\n",
       "1367     10  0.978790            yes\n",
       "1368      1  0.987402            yet\n",
       "1370      9  0.959222        yolotus\n",
       "1374     10  0.969992          ztpjs\n",
       "\n",
       "[545 rows x 3 columns], R=30, lambda_step=0.01, plot_opts={'xlab': 'PC1', 'ylab': 'PC2'}, topic_order=[1, 2, 3, 4, 5, 6, 7, 8, 9, 10])"
      ]
     },
     "execution_count": 35,
     "metadata": {},
     "output_type": "execute_result"
    }
   ],
   "source": [
    "import pyLDAvis.lda_model\n",
    " \n",
    "pyLDAvis.enable_notebook()\n",
    "\n",
    "# The parameters wee need,\n",
    "## LDA model: lda_model\n",
    "## vectorized model: data_vectorized\n",
    "## matrix of token counts: vectoriser\n",
    "\n",
    "panel = pyLDAvis.lda_model.prepare(lda_model, data_vectorized, vectoriser, sort_topics = False)\n",
    "panel"
   ]
  },
  {
   "cell_type": "code",
   "execution_count": null,
   "id": "613aa43f",
   "metadata": {},
   "outputs": [],
   "source": []
  }
 ],
 "metadata": {
  "kernelspec": {
   "display_name": "Python 3 (ipykernel)",
   "language": "python",
   "name": "python3"
  },
  "language_info": {
   "codemirror_mode": {
    "name": "ipython",
    "version": 3
   },
   "file_extension": ".py",
   "mimetype": "text/x-python",
   "name": "python",
   "nbconvert_exporter": "python",
   "pygments_lexer": "ipython3",
   "version": "3.9.16"
  },
  "toc": {
   "base_numbering": 1,
   "nav_menu": {},
   "number_sections": true,
   "sideBar": true,
   "skip_h1_title": false,
   "title_cell": "Table of Contents",
   "title_sidebar": "Contents",
   "toc_cell": false,
   "toc_position": {},
   "toc_section_display": true,
   "toc_window_display": false
  }
 },
 "nbformat": 4,
 "nbformat_minor": 5
}
