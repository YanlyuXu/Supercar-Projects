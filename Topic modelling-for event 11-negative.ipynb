{
 "cells": [
  {
   "cell_type": "code",
   "execution_count": 1,
   "id": "cf713d7b",
   "metadata": {
    "ExecuteTime": {
     "end_time": "2023-05-12T08:53:23.989786Z",
     "start_time": "2023-05-12T08:53:18.250543Z"
    }
   },
   "outputs": [
    {
     "data": {
      "text/html": [
       "        <script type=\"text/javascript\">\n",
       "        window.PlotlyConfig = {MathJaxConfig: 'local'};\n",
       "        if (window.MathJax && window.MathJax.Hub && window.MathJax.Hub.Config) {window.MathJax.Hub.Config({SVG: {font: \"STIX-Web\"}});}\n",
       "        if (typeof require !== 'undefined') {\n",
       "        require.undef(\"plotly\");\n",
       "        requirejs.config({\n",
       "            paths: {\n",
       "                'plotly': ['https://cdn.plot.ly/plotly-2.12.1.min']\n",
       "            }\n",
       "        });\n",
       "        require(['plotly'], function(Plotly) {\n",
       "            window._Plotly = Plotly;\n",
       "        });\n",
       "        }\n",
       "        </script>\n",
       "        "
      ]
     },
     "metadata": {},
     "output_type": "display_data"
    }
   ],
   "source": [
    "import pandas as pd \n",
    "import numpy as np\n",
    "from scipy.stats import pearsonr\n",
    "\n",
    "import matplotlib.pyplot as plt\n",
    "import seaborn as sns\n",
    "color = sns.color_palette()\n",
    "%matplotlib inline\n",
    "import plotly.offline as py\n",
    "py.init_notebook_mode(connected=True)\n",
    "import plotly.graph_objs as go\n",
    "import plotly.tools as tls\n",
    "import plotly.express as px\n",
    "from wordcloud import WordCloud"
   ]
  },
  {
   "cell_type": "code",
   "execution_count": 2,
   "id": "e2c31244",
   "metadata": {
    "ExecuteTime": {
     "end_time": "2023-05-12T08:53:24.083866Z",
     "start_time": "2023-05-12T08:53:23.994779Z"
    }
   },
   "outputs": [],
   "source": [
    "#import the dataset\n",
    "df = pd.read_csv('tweets_sport.csv')"
   ]
  },
  {
   "cell_type": "code",
   "execution_count": 3,
   "id": "6393f4e0",
   "metadata": {
    "ExecuteTime": {
     "end_time": "2023-05-12T08:53:24.163176Z",
     "start_time": "2023-05-12T08:53:24.087841Z"
    }
   },
   "outputs": [
    {
     "name": "stdout",
     "output_type": "stream",
     "text": [
      "<class 'pandas.core.frame.DataFrame'>\n",
      "Int64Index: 13522 entries, 0 to 13522\n",
      "Data columns (total 14 columns):\n",
      " #   Column            Non-Null Count  Dtype  \n",
      "---  ------            --------------  -----  \n",
      " 0   id                13522 non-null  float64\n",
      " 1   text              13522 non-null  object \n",
      " 2   event_number      13522 non-null  int64  \n",
      " 3   player_dummy      13522 non-null  int64  \n",
      " 4   team_dummy        13522 non-null  int64  \n",
      " 5   weekday           13522 non-null  int64  \n",
      " 6   month             13522 non-null  int64  \n",
      " 7   day               13522 non-null  int64  \n",
      " 8   time              13522 non-null  object \n",
      " 9   user_screen_name  13522 non-null  object \n",
      " 10  retweets          13522 non-null  float64\n",
      " 11  likes             13522 non-null  float64\n",
      " 12  comments          13522 non-null  float64\n",
      " 13  Unnamed: 13       1 non-null      object \n",
      "dtypes: float64(4), int64(6), object(4)\n",
      "memory usage: 1.5+ MB\n"
     ]
    }
   ],
   "source": [
    "df = df.replace(' ',np.nan)\n",
    "df.dropna(subset=['likes'], inplace=True) ###\n",
    "df.info()"
   ]
  },
  {
   "cell_type": "code",
   "execution_count": 4,
   "id": "bf71f7f4",
   "metadata": {
    "ExecuteTime": {
     "end_time": "2023-05-12T08:53:24.193032Z",
     "start_time": "2023-05-12T08:53:24.167579Z"
    }
   },
   "outputs": [
    {
     "data": {
      "text/plain": [
       "id                      0\n",
       "text                    0\n",
       "event_number            0\n",
       "player_dummy            0\n",
       "team_dummy              0\n",
       "weekday                 0\n",
       "month                   0\n",
       "day                     0\n",
       "time                    0\n",
       "user_screen_name        0\n",
       "retweets                0\n",
       "likes                   0\n",
       "comments                0\n",
       "Unnamed: 13         13521\n",
       "dtype: int64"
      ]
     },
     "execution_count": 4,
     "metadata": {},
     "output_type": "execute_result"
    }
   ],
   "source": [
    "df.isnull().sum()"
   ]
  },
  {
   "cell_type": "code",
   "execution_count": 5,
   "id": "708509b1",
   "metadata": {
    "ExecuteTime": {
     "end_time": "2023-05-12T08:53:24.224462Z",
     "start_time": "2023-05-12T08:53:24.195283Z"
    },
    "scrolled": true
   },
   "outputs": [
    {
     "name": "stdout",
     "output_type": "stream",
     "text": [
      "<class 'pandas.core.frame.DataFrame'>\n",
      "Int64Index: 13522 entries, 0 to 13522\n",
      "Data columns (total 13 columns):\n",
      " #   Column            Non-Null Count  Dtype  \n",
      "---  ------            --------------  -----  \n",
      " 0   id                13522 non-null  float64\n",
      " 1   text              13522 non-null  object \n",
      " 2   event_number      13522 non-null  int64  \n",
      " 3   player_dummy      13522 non-null  int64  \n",
      " 4   team_dummy        13522 non-null  int64  \n",
      " 5   weekday           13522 non-null  int64  \n",
      " 6   month             13522 non-null  int64  \n",
      " 7   day               13522 non-null  int64  \n",
      " 8   time              13522 non-null  object \n",
      " 9   user_screen_name  13522 non-null  object \n",
      " 10  retweets          13522 non-null  float64\n",
      " 11  likes             13522 non-null  float64\n",
      " 12  comments          13522 non-null  float64\n",
      "dtypes: float64(4), int64(6), object(3)\n",
      "memory usage: 1.4+ MB\n"
     ]
    }
   ],
   "source": [
    "df.dropna(subset=['likes'], inplace=True)\n",
    "df.drop(['Unnamed: 13'], axis=1, inplace=True)\n",
    "df.info()"
   ]
  },
  {
   "cell_type": "code",
   "execution_count": null,
   "id": "30c059bc",
   "metadata": {},
   "outputs": [],
   "source": []
  },
  {
   "cell_type": "code",
   "execution_count": 6,
   "id": "d5faab27",
   "metadata": {
    "ExecuteTime": {
     "end_time": "2023-05-12T08:53:27.654497Z",
     "start_time": "2023-05-12T08:53:24.226610Z"
    }
   },
   "outputs": [
    {
     "name": "stderr",
     "output_type": "stream",
     "text": [
      "[nltk_data] Downloading package stopwords to\n",
      "[nltk_data]     C:\\Users\\j4072\\AppData\\Roaming\\nltk_data...\n",
      "[nltk_data]   Package stopwords is already up-to-date!\n"
     ]
    },
    {
     "data": {
      "image/png": "[encoded data removed]",
      "text/plain": [
       "<Figure size 640x480 with 1 Axes>"
      ]
     },
     "metadata": {},
     "output_type": "display_data"
    }
   ],
   "source": [
    "import nltk\n",
    "nltk.download('stopwords')\n",
    "from nltk.corpus import stopwords\n",
    "\n",
    "\n",
    "# Create stopword list:\n",
    "stop_words = set(stopwords.words('english'))\n",
    "stop_words.update([\"rt\", \"bathurst\",\"bathurst1000\", \"adelaide\",\"http\",\"tas\",\"tcm\",\"darwin\",\"coateshire\",\"sandown\",\"clipsal\",\"sydney\", \"townsville\"])\n",
    "textt = \" \".join(review for review in df.text)\n",
    "\n",
    "\n",
    "# Create word cloud\n",
    "wordcloud = WordCloud(stopwords=stop_words).generate(textt)\n",
    "plt.imshow(wordcloud, interpolation='bilinear')\n",
    "plt.axis(\"off\")\n",
    "plt.savefig('wordcloud11.png')\n",
    "plt.show()"
   ]
  },
  {
   "cell_type": "code",
   "execution_count": 7,
   "id": "bda4ad5e",
   "metadata": {
    "ExecuteTime": {
     "end_time": "2023-05-12T08:53:27.685024Z",
     "start_time": "2023-05-12T08:53:27.656612Z"
    }
   },
   "outputs": [
    {
     "name": "stderr",
     "output_type": "stream",
     "text": [
      "C:\\Users\\j4072\\AppData\\Local\\Temp\\ipykernel_4912\\2413311232.py:2: SettingWithCopyWarning:\n",
      "\n",
      "\n",
      "A value is trying to be set on a copy of a slice from a DataFrame\n",
      "\n",
      "See the caveats in the documentation: https://pandas.pydata.org/pandas-docs/stable/user_guide/indexing.html#returning-a-view-versus-a-copy\n",
      "\n"
     ]
    },
    {
     "data": {
      "text/plain": [
       "9619"
      ]
     },
     "execution_count": 7,
     "metadata": {},
     "output_type": "execute_result"
    }
   ],
   "source": [
    "event_11 = df[df['event_number'] == 11]\n",
    "event_11.dropna(inplace=True) # drop rows containing NaN values\n",
    "len(event_11)"
   ]
  },
  {
   "cell_type": "code",
   "execution_count": 8,
   "id": "33045f1a",
   "metadata": {
    "ExecuteTime": {
     "end_time": "2023-05-12T08:53:27.717037Z",
     "start_time": "2023-05-12T08:53:27.689361Z"
    }
   },
   "outputs": [],
   "source": [
    "from vaderSentiment.vaderSentiment import SentimentIntensityAnalyzer\n",
    "\n",
    "sentiment = SentimentIntensityAnalyzer()\n"
   ]
  },
  {
   "cell_type": "code",
   "execution_count": 9,
   "id": "e1b2ca30",
   "metadata": {
    "ExecuteTime": {
     "end_time": "2023-05-12T08:53:33.015185Z",
     "start_time": "2023-05-12T08:53:27.719131Z"
    }
   },
   "outputs": [
    {
     "name": "stderr",
     "output_type": "stream",
     "text": [
      "C:\\Users\\j4072\\AppData\\Local\\Temp\\ipykernel_4912\\334461600.py:5: SettingWithCopyWarning:\n",
      "\n",
      "\n",
      "A value is trying to be set on a copy of a slice from a DataFrame.\n",
      "Try using .loc[row_indexer,col_indexer] = value instead\n",
      "\n",
      "See the caveats in the documentation: https://pandas.pydata.org/pandas-docs/stable/user_guide/indexing.html#returning-a-view-versus-a-copy\n",
      "\n",
      "C:\\Users\\j4072\\AppData\\Local\\Temp\\ipykernel_4912\\334461600.py:5: SettingWithCopyWarning:\n",
      "\n",
      "\n",
      "A value is trying to be set on a copy of a slice from a DataFrame.\n",
      "Try using .loc[row_indexer,col_indexer] = value instead\n",
      "\n",
      "See the caveats in the documentation: https://pandas.pydata.org/pandas-docs/stable/user_guide/indexing.html#returning-a-view-versus-a-copy\n",
      "\n",
      "C:\\Users\\j4072\\AppData\\Local\\Temp\\ipykernel_4912\\334461600.py:5: SettingWithCopyWarning:\n",
      "\n",
      "\n",
      "A value is trying to be set on a copy of a slice from a DataFrame.\n",
      "Try using .loc[row_indexer,col_indexer] = value instead\n",
      "\n",
      "See the caveats in the documentation: https://pandas.pydata.org/pandas-docs/stable/user_guide/indexing.html#returning-a-view-versus-a-copy\n",
      "\n",
      "C:\\Users\\j4072\\AppData\\Local\\Temp\\ipykernel_4912\\334461600.py:5: SettingWithCopyWarning:\n",
      "\n",
      "\n",
      "A value is trying to be set on a copy of a slice from a DataFrame.\n",
      "Try using .loc[row_indexer,col_indexer] = value instead\n",
      "\n",
      "See the caveats in the documentation: https://pandas.pydata.org/pandas-docs/stable/user_guide/indexing.html#returning-a-view-versus-a-copy\n",
      "\n"
     ]
    },
    {
     "data": {
      "text/html": [
       "<div>\n",
       "<style scoped>\n",
       "    .dataframe tbody tr th:only-of-type {\n",
       "        vertical-align: middle;\n",
       "    }\n",
       "\n",
       "    .dataframe tbody tr th {\n",
       "        vertical-align: top;\n",
       "    }\n",
       "\n",
       "    .dataframe thead th {\n",
       "        text-align: right;\n",
       "    }\n",
       "</style>\n",
       "<table border=\"1\" class=\"dataframe\">\n",
       "  <thead>\n",
       "    <tr style=\"text-align: right;\">\n",
       "      <th></th>\n",
       "      <th>id</th>\n",
       "      <th>text</th>\n",
       "      <th>event_number</th>\n",
       "      <th>player_dummy</th>\n",
       "      <th>team_dummy</th>\n",
       "      <th>weekday</th>\n",
       "      <th>month</th>\n",
       "      <th>day</th>\n",
       "      <th>time</th>\n",
       "      <th>user_screen_name</th>\n",
       "      <th>retweets</th>\n",
       "      <th>likes</th>\n",
       "      <th>comments</th>\n",
       "      <th>neg</th>\n",
       "      <th>neu</th>\n",
       "      <th>pos</th>\n",
       "      <th>compound</th>\n",
       "    </tr>\n",
       "  </thead>\n",
       "  <tbody>\n",
       "    <tr>\n",
       "      <th>0</th>\n",
       "      <td>5.210000e+17</td>\n",
       "      <td>\"rt @dariofranchitti: this bathurst race has b...</td>\n",
       "      <td>11</td>\n",
       "      <td>0</td>\n",
       "      <td>0</td>\n",
       "      <td>7</td>\n",
       "      <td>10</td>\n",
       "      <td>12</td>\n",
       "      <td>7:28</td>\n",
       "      <td>007_dot</td>\n",
       "      <td>0.0</td>\n",
       "      <td>0.0</td>\n",
       "      <td>0.0</td>\n",
       "      <td>0.0</td>\n",
       "      <td>0.644</td>\n",
       "      <td>0.356</td>\n",
       "      <td>0.8881</td>\n",
       "    </tr>\n",
       "    <tr>\n",
       "      <th>1</th>\n",
       "      <td>5.210000e+17</td>\n",
       "      <td>\"rt @wtf1couk: gp3 fans while you're waiting f...</td>\n",
       "      <td>11</td>\n",
       "      <td>0</td>\n",
       "      <td>0</td>\n",
       "      <td>7</td>\n",
       "      <td>10</td>\n",
       "      <td>12</td>\n",
       "      <td>7:28</td>\n",
       "      <td>007_dot</td>\n",
       "      <td>0.0</td>\n",
       "      <td>0.0</td>\n",
       "      <td>0.0</td>\n",
       "      <td>0.0</td>\n",
       "      <td>0.862</td>\n",
       "      <td>0.138</td>\n",
       "      <td>0.4939</td>\n",
       "    </tr>\n",
       "    <tr>\n",
       "      <th>2</th>\n",
       "      <td>5.210000e+17</td>\n",
       "      <td>\"rt @sally_fitz: incredible final laps of #bat...</td>\n",
       "      <td>11</td>\n",
       "      <td>1</td>\n",
       "      <td>0</td>\n",
       "      <td>7</td>\n",
       "      <td>10</td>\n",
       "      <td>12</td>\n",
       "      <td>7:31</td>\n",
       "      <td>007cnt</td>\n",
       "      <td>0.0</td>\n",
       "      <td>0.0</td>\n",
       "      <td>0.0</td>\n",
       "      <td>0.0</td>\n",
       "      <td>0.833</td>\n",
       "      <td>0.167</td>\n",
       "      <td>0.5574</td>\n",
       "    </tr>\n",
       "    <tr>\n",
       "      <th>3</th>\n",
       "      <td>5.210000e+17</td>\n",
       "      <td>\"rt @v8supercars: top 10 - mostert, moffat, pe...</td>\n",
       "      <td>11</td>\n",
       "      <td>0</td>\n",
       "      <td>0</td>\n",
       "      <td>7</td>\n",
       "      <td>10</td>\n",
       "      <td>12</td>\n",
       "      <td>9:04</td>\n",
       "      <td>007pixxx</td>\n",
       "      <td>0.0</td>\n",
       "      <td>0.0</td>\n",
       "      <td>0.0</td>\n",
       "      <td>0.0</td>\n",
       "      <td>0.893</td>\n",
       "      <td>0.107</td>\n",
       "      <td>0.2023</td>\n",
       "    </tr>\n",
       "    <tr>\n",
       "      <th>4</th>\n",
       "      <td>5.210000e+17</td>\n",
       "      <td>\"#bathurst1000  i present to you, the fully st...</td>\n",
       "      <td>11</td>\n",
       "      <td>0</td>\n",
       "      <td>0</td>\n",
       "      <td>7</td>\n",
       "      <td>10</td>\n",
       "      <td>12</td>\n",
       "      <td>10:20</td>\n",
       "      <td>007pixxx</td>\n",
       "      <td>0.0</td>\n",
       "      <td>0.0</td>\n",
       "      <td>0.0</td>\n",
       "      <td>0.0</td>\n",
       "      <td>0.871</td>\n",
       "      <td>0.129</td>\n",
       "      <td>0.1970</td>\n",
       "    </tr>\n",
       "    <tr>\n",
       "      <th>...</th>\n",
       "      <td>...</td>\n",
       "      <td>...</td>\n",
       "      <td>...</td>\n",
       "      <td>...</td>\n",
       "      <td>...</td>\n",
       "      <td>...</td>\n",
       "      <td>...</td>\n",
       "      <td>...</td>\n",
       "      <td>...</td>\n",
       "      <td>...</td>\n",
       "      <td>...</td>\n",
       "      <td>...</td>\n",
       "      <td>...</td>\n",
       "      <td>...</td>\n",
       "      <td>...</td>\n",
       "      <td>...</td>\n",
       "      <td>...</td>\n",
       "    </tr>\n",
       "    <tr>\n",
       "      <th>122</th>\n",
       "      <td>5.210000e+17</td>\n",
       "      <td>\"to put what happened to svg into perspective,...</td>\n",
       "      <td>11</td>\n",
       "      <td>0</td>\n",
       "      <td>0</td>\n",
       "      <td>7</td>\n",
       "      <td>10</td>\n",
       "      <td>12</td>\n",
       "      <td>7:09</td>\n",
       "      <td>4theloveofindy</td>\n",
       "      <td>0.0</td>\n",
       "      <td>0.0</td>\n",
       "      <td>0.0</td>\n",
       "      <td>0.0</td>\n",
       "      <td>1.000</td>\n",
       "      <td>0.000</td>\n",
       "      <td>0.0000</td>\n",
       "    </tr>\n",
       "    <tr>\n",
       "      <th>123</th>\n",
       "      <td>5.210000e+17</td>\n",
       "      <td>\"big day: charlotte, bathurst, fuji, motegi an...</td>\n",
       "      <td>11</td>\n",
       "      <td>0</td>\n",
       "      <td>0</td>\n",
       "      <td>7</td>\n",
       "      <td>10</td>\n",
       "      <td>12</td>\n",
       "      <td>18:09</td>\n",
       "      <td>4theloveofindy</td>\n",
       "      <td>0.0</td>\n",
       "      <td>1.0</td>\n",
       "      <td>0.0</td>\n",
       "      <td>0.0</td>\n",
       "      <td>1.000</td>\n",
       "      <td>0.000</td>\n",
       "      <td>0.0000</td>\n",
       "    </tr>\n",
       "    <tr>\n",
       "      <th>124</th>\n",
       "      <td>5.210000e+17</td>\n",
       "      <td>\"blanchard in the wall. safety car throws a mo...</td>\n",
       "      <td>11</td>\n",
       "      <td>0</td>\n",
       "      <td>0</td>\n",
       "      <td>7</td>\n",
       "      <td>10</td>\n",
       "      <td>12</td>\n",
       "      <td>7:03</td>\n",
       "      <td>4theloveofindy</td>\n",
       "      <td>0.0</td>\n",
       "      <td>0.0</td>\n",
       "      <td>0.0</td>\n",
       "      <td>0.0</td>\n",
       "      <td>0.865</td>\n",
       "      <td>0.135</td>\n",
       "      <td>0.4215</td>\n",
       "    </tr>\n",
       "    <tr>\n",
       "      <th>128</th>\n",
       "      <td>5.210000e+17</td>\n",
       "      <td>\"more real than most reality tv #bathurst1000\"</td>\n",
       "      <td>11</td>\n",
       "      <td>0</td>\n",
       "      <td>0</td>\n",
       "      <td>7</td>\n",
       "      <td>10</td>\n",
       "      <td>12</td>\n",
       "      <td>7:09</td>\n",
       "      <td>50shadesofteal</td>\n",
       "      <td>0.0</td>\n",
       "      <td>0.0</td>\n",
       "      <td>0.0</td>\n",
       "      <td>0.0</td>\n",
       "      <td>1.000</td>\n",
       "      <td>0.000</td>\n",
       "      <td>0.0000</td>\n",
       "    </tr>\n",
       "    <tr>\n",
       "      <th>129</th>\n",
       "      <td>5.210000e+17</td>\n",
       "      <td>\"rt @tasmania: the magical binalong bay near s...</td>\n",
       "      <td>11</td>\n",
       "      <td>0</td>\n",
       "      <td>0</td>\n",
       "      <td>7</td>\n",
       "      <td>10</td>\n",
       "      <td>12</td>\n",
       "      <td>9:16</td>\n",
       "      <td>53pamela</td>\n",
       "      <td>0.0</td>\n",
       "      <td>0.0</td>\n",
       "      <td>0.0</td>\n",
       "      <td>0.0</td>\n",
       "      <td>0.913</td>\n",
       "      <td>0.087</td>\n",
       "      <td>0.2023</td>\n",
       "    </tr>\n",
       "  </tbody>\n",
       "</table>\n",
       "<p>100 rows × 17 columns</p>\n",
       "</div>"
      ],
      "text/plain": [
       "               id                                               text  \\\n",
       "0    5.210000e+17  \"rt @dariofranchitti: this bathurst race has b...   \n",
       "1    5.210000e+17  \"rt @wtf1couk: gp3 fans while you're waiting f...   \n",
       "2    5.210000e+17  \"rt @sally_fitz: incredible final laps of #bat...   \n",
       "3    5.210000e+17  \"rt @v8supercars: top 10 - mostert, moffat, pe...   \n",
       "4    5.210000e+17  \"#bathurst1000  i present to you, the fully st...   \n",
       "..            ...                                                ...   \n",
       "122  5.210000e+17  \"to put what happened to svg into perspective,...   \n",
       "123  5.210000e+17  \"big day: charlotte, bathurst, fuji, motegi an...   \n",
       "124  5.210000e+17  \"blanchard in the wall. safety car throws a mo...   \n",
       "128  5.210000e+17     \"more real than most reality tv #bathurst1000\"   \n",
       "129  5.210000e+17  \"rt @tasmania: the magical binalong bay near s...   \n",
       "\n",
       "     event_number  player_dummy  team_dummy  weekday  month  day   time  \\\n",
       "0              11             0           0        7     10   12   7:28   \n",
       "1              11             0           0        7     10   12   7:28   \n",
       "2              11             1           0        7     10   12   7:31   \n",
       "3              11             0           0        7     10   12   9:04   \n",
       "4              11             0           0        7     10   12  10:20   \n",
       "..            ...           ...         ...      ...    ...  ...    ...   \n",
       "122            11             0           0        7     10   12   7:09   \n",
       "123            11             0           0        7     10   12  18:09   \n",
       "124            11             0           0        7     10   12   7:03   \n",
       "128            11             0           0        7     10   12   7:09   \n",
       "129            11             0           0        7     10   12   9:16   \n",
       "\n",
       "    user_screen_name  retweets  likes  comments  neg    neu    pos  compound  \n",
       "0            007_dot       0.0    0.0       0.0  0.0  0.644  0.356    0.8881  \n",
       "1            007_dot       0.0    0.0       0.0  0.0  0.862  0.138    0.4939  \n",
       "2             007cnt       0.0    0.0       0.0  0.0  0.833  0.167    0.5574  \n",
       "3           007pixxx       0.0    0.0       0.0  0.0  0.893  0.107    0.2023  \n",
       "4           007pixxx       0.0    0.0       0.0  0.0  0.871  0.129    0.1970  \n",
       "..               ...       ...    ...       ...  ...    ...    ...       ...  \n",
       "122   4theloveofindy       0.0    0.0       0.0  0.0  1.000  0.000    0.0000  \n",
       "123   4theloveofindy       0.0    1.0       0.0  0.0  1.000  0.000    0.0000  \n",
       "124   4theloveofindy       0.0    0.0       0.0  0.0  0.865  0.135    0.4215  \n",
       "128   50shadesofteal       0.0    0.0       0.0  0.0  1.000  0.000    0.0000  \n",
       "129         53pamela       0.0    0.0       0.0  0.0  0.913  0.087    0.2023  \n",
       "\n",
       "[100 rows x 17 columns]"
      ]
     },
     "execution_count": 9,
     "metadata": {},
     "output_type": "execute_result"
    }
   ],
   "source": [
    "from nltk.sentiment.vader import SentimentIntensityAnalyzer\n",
    "sentiment = SentimentIntensityAnalyzer()\n",
    "\n",
    "\n",
    "event_11[['neg', 'neu', 'pos', 'compound']] = event_11['text'].apply(lambda x: pd.Series(sentiment.polarity_scores(x)))\n",
    "event_11.head(100)"
   ]
  },
  {
   "cell_type": "code",
   "execution_count": 10,
   "id": "7e22f720",
   "metadata": {
    "ExecuteTime": {
     "end_time": "2023-05-12T08:53:33.046750Z",
     "start_time": "2023-05-12T08:53:33.021503Z"
    }
   },
   "outputs": [],
   "source": [
    "event_11 = event_11[event_11['compound'] != 0]"
   ]
  },
  {
   "cell_type": "code",
   "execution_count": 11,
   "id": "7f6cea3f",
   "metadata": {
    "ExecuteTime": {
     "end_time": "2023-05-12T08:53:33.062536Z",
     "start_time": "2023-05-12T08:53:33.052023Z"
    }
   },
   "outputs": [],
   "source": [
    "event_11['sentiment'] = event_11['compound'].apply(lambda rating : +1 if rating > 0 else -1)"
   ]
  },
  {
   "cell_type": "code",
   "execution_count": 12,
   "id": "f969a143",
   "metadata": {
    "ExecuteTime": {
     "end_time": "2023-05-12T08:53:33.078376Z",
     "start_time": "2023-05-12T08:53:33.065497Z"
    }
   },
   "outputs": [
    {
     "name": "stdout",
     "output_type": "stream",
     "text": [
      "negative samples: 1592\n",
      "postitive samples: 4275\n"
     ]
    }
   ],
   "source": [
    "print(\"negative samples:\",len(event_11[event_11[\"sentiment\"]==-1]))\n",
    "print(\"postitive samples:\",len(event_11[event_11[\"sentiment\"]==1]))"
   ]
  },
  {
   "cell_type": "code",
   "execution_count": 13,
   "id": "8f0e4f9e",
   "metadata": {
    "ExecuteTime": {
     "end_time": "2023-05-12T08:53:33.093560Z",
     "start_time": "2023-05-12T08:53:33.080673Z"
    }
   },
   "outputs": [],
   "source": [
    "positive_11 = event_11[event_11['sentiment'] == 1]\n",
    "negative_11 = event_11[event_11['sentiment'] == -1]"
   ]
  },
  {
   "cell_type": "code",
   "execution_count": 14,
   "id": "8dfb68c8",
   "metadata": {
    "ExecuteTime": {
     "end_time": "2023-05-12T08:53:33.108943Z",
     "start_time": "2023-05-12T08:53:33.095936Z"
    },
    "scrolled": true
   },
   "outputs": [],
   "source": [
    "# df['event_number'].value_counts()"
   ]
  },
  {
   "cell_type": "code",
   "execution_count": 15,
   "id": "eaa52f75",
   "metadata": {
    "ExecuteTime": {
     "end_time": "2023-05-12T08:53:33.124269Z",
     "start_time": "2023-05-12T08:53:33.111101Z"
    }
   },
   "outputs": [
    {
     "name": "stdout",
     "output_type": "stream",
     "text": [
      "['\"this is why i watch #v8sc no words...\"', '\"this #f1 has no last to 1st, roos on track, holes in the track, turn 2 crashes, fuel running out, etc. bit boring after #bathurst1000\"', '\"he is gunna run outta fuel!!\\n its my biggest fear when driving my supercar each morning!\\n#bathurst1000\"']\n"
     ]
    }
   ],
   "source": [
    "text=negative_11['text']\n",
    "\n",
    "#Change the text to lower case\n",
    "text = text.map(lambda text: text.lower())\n",
    "#Convert data from pandas format to list values  \n",
    "text=text.values.tolist()\n",
    "\n",
    "#print the first 3 tweets\n",
    "print(text[:3])"
   ]
  },
  {
   "cell_type": "code",
   "execution_count": 16,
   "id": "5eb54e36",
   "metadata": {
    "ExecuteTime": {
     "end_time": "2023-05-12T08:53:33.169533Z",
     "start_time": "2023-05-12T08:53:33.126423Z"
    }
   },
   "outputs": [
    {
     "name": "stderr",
     "output_type": "stream",
     "text": [
      "[nltk_data] Downloading package wordnet to\n",
      "[nltk_data]     C:\\Users\\j4072\\AppData\\Roaming\\nltk_data...\n",
      "[nltk_data]   Package wordnet is already up-to-date!\n"
     ]
    },
    {
     "data": {
      "text/plain": [
       "True"
      ]
     },
     "execution_count": 16,
     "metadata": {},
     "output_type": "execute_result"
    }
   ],
   "source": [
    "import nltk\n",
    "nltk.download('wordnet')"
   ]
  },
  {
   "cell_type": "code",
   "execution_count": 17,
   "id": "9a4d27c3",
   "metadata": {
    "ExecuteTime": {
     "end_time": "2023-05-12T08:53:33.185051Z",
     "start_time": "2023-05-12T08:53:33.172949Z"
    }
   },
   "outputs": [
    {
     "name": "stderr",
     "output_type": "stream",
     "text": [
      "[nltk_data] Downloading package vader_lexicon to\n",
      "[nltk_data]     C:\\Users\\j4072\\AppData\\Roaming\\nltk_data...\n",
      "[nltk_data]   Package vader_lexicon is already up-to-date!\n"
     ]
    },
    {
     "data": {
      "text/plain": [
       "True"
      ]
     },
     "execution_count": 17,
     "metadata": {},
     "output_type": "execute_result"
    }
   ],
   "source": [
    "import nltk\n",
    "nltk.download('vader_lexicon')"
   ]
  },
  {
   "cell_type": "code",
   "execution_count": 18,
   "id": "4a51d481",
   "metadata": {
    "ExecuteTime": {
     "end_time": "2023-05-12T08:53:35.056379Z",
     "start_time": "2023-05-12T08:53:33.187173Z"
    }
   },
   "outputs": [],
   "source": [
    "# Conduct lemmatization for the words in the text\n",
    "from nltk.stem import WordNetLemmatizer\n",
    "\n",
    "tokens=[]\n",
    "for sent in text:\n",
    "    temp=[WordNetLemmatizer().lemmatize(word) for word in sent.split(\" \")]\n",
    "    tokens.append(temp)"
   ]
  },
  {
   "cell_type": "code",
   "execution_count": 19,
   "id": "f5016f14",
   "metadata": {
    "ExecuteTime": {
     "end_time": "2023-05-12T08:53:35.072270Z",
     "start_time": "2023-05-12T08:53:35.058304Z"
    }
   },
   "outputs": [],
   "source": [
    "# Customized the stopwords\n",
    "from sklearn.feature_extraction import text \n",
    "# my_additional_stop_words = [\"bathurst\",\"adelaide\",\"http\",\"tas\",\"tcm\",\"darwin\",\"coateshire\",\"sandown\",\"clipsal\",\"sydney\", \"townsville\"]\n",
    "# stop_words = text.ENGLISH_STOP_WORDS.union(my_additional_stop_words)\n",
    "\n",
    "# my_additional_stop_words = [\"bathurst\",\"adelaide\",\"http\",\"tas\",\"tcm\",\"darwin\",\"coateshire\",\"sandown\",\"clipsal\",\"sydney\", \"townsville\"]\n",
    "#stop_words = text.ENGLISH_STOP_WORDS  #.union(my_additional_stop_words)\n",
    "stop_words = list(stop_words)"
   ]
  },
  {
   "cell_type": "markdown",
   "id": "de7d606e",
   "metadata": {},
   "source": [
    "Topic modelling for whole event 11"
   ]
  },
  {
   "cell_type": "code",
   "execution_count": 23,
   "id": "a9add0b4",
   "metadata": {
    "ExecuteTime": {
     "end_time": "2023-05-12T08:53:55.480687Z",
     "start_time": "2023-05-12T08:53:54.611354Z"
    }
   },
   "outputs": [
    {
     "name": "stderr",
     "output_type": "stream",
     "text": [
      "C:\\Users\\j4072\\AppData\\Local\\Temp\\ipykernel_4912\\1862261783.py:4: SettingWithCopyWarning:\n",
      "\n",
      "\n",
      "A value is trying to be set on a copy of a slice from a DataFrame\n",
      "\n",
      "See the caveats in the documentation: https://pandas.pydata.org/pandas-docs/stable/user_guide/indexing.html#returning-a-view-versus-a-copy\n",
      "\n",
      "C:\\Users\\j4072\\AppData\\Local\\Temp\\ipykernel_4912\\1862261783.py:5: SettingWithCopyWarning:\n",
      "\n",
      "\n",
      "A value is trying to be set on a copy of a slice from a DataFrame.\n",
      "Try using .loc[row_indexer,col_indexer] = value instead\n",
      "\n",
      "See the caveats in the documentation: https://pandas.pydata.org/pandas-docs/stable/user_guide/indexing.html#returning-a-view-versus-a-copy\n",
      "\n"
     ]
    },
    {
     "data": {
      "text/html": [
       "<div>\n",
       "<style scoped>\n",
       "    .dataframe tbody tr th:only-of-type {\n",
       "        vertical-align: middle;\n",
       "    }\n",
       "\n",
       "    .dataframe tbody tr th {\n",
       "        vertical-align: top;\n",
       "    }\n",
       "\n",
       "    .dataframe thead th {\n",
       "        text-align: right;\n",
       "    }\n",
       "</style>\n",
       "<table border=\"1\" class=\"dataframe\">\n",
       "  <thead>\n",
       "    <tr style=\"text-align: right;\">\n",
       "      <th></th>\n",
       "      <th>id</th>\n",
       "      <th>text</th>\n",
       "      <th>event_number</th>\n",
       "      <th>player_dummy</th>\n",
       "      <th>team_dummy</th>\n",
       "      <th>weekday</th>\n",
       "      <th>month</th>\n",
       "      <th>day</th>\n",
       "      <th>time</th>\n",
       "      <th>user_screen_name</th>\n",
       "      <th>retweets</th>\n",
       "      <th>likes</th>\n",
       "      <th>comments</th>\n",
       "      <th>neg</th>\n",
       "      <th>neu</th>\n",
       "      <th>pos</th>\n",
       "      <th>compound</th>\n",
       "      <th>sentiment</th>\n",
       "    </tr>\n",
       "  </thead>\n",
       "  <tbody>\n",
       "    <tr>\n",
       "      <th>7</th>\n",
       "      <td>5.210000e+17</td>\n",
       "      <td>\"this is why i watch #v8sc no words...\"</td>\n",
       "      <td>11</td>\n",
       "      <td>0</td>\n",
       "      <td>0</td>\n",
       "      <td>7</td>\n",
       "      <td>10</td>\n",
       "      <td>12</td>\n",
       "      <td>7:19</td>\n",
       "      <td>038d017c</td>\n",
       "      <td>0.0</td>\n",
       "      <td>0.0</td>\n",
       "      <td>0.0</td>\n",
       "      <td>0.268</td>\n",
       "      <td>0.732</td>\n",
       "      <td>0.000</td>\n",
       "      <td>-0.2960</td>\n",
       "      <td>-1</td>\n",
       "    </tr>\n",
       "    <tr>\n",
       "      <th>13</th>\n",
       "      <td>5.210000e+17</td>\n",
       "      <td>\"this #f1 has no last to 1st, roos on track, h...</td>\n",
       "      <td>11</td>\n",
       "      <td>0</td>\n",
       "      <td>0</td>\n",
       "      <td>7</td>\n",
       "      <td>10</td>\n",
       "      <td>12</td>\n",
       "      <td>11:38</td>\n",
       "      <td>11shirt</td>\n",
       "      <td>1.0</td>\n",
       "      <td>0.0</td>\n",
       "      <td>1.0</td>\n",
       "      <td>0.170</td>\n",
       "      <td>0.830</td>\n",
       "      <td>0.000</td>\n",
       "      <td>-0.5423</td>\n",
       "      <td>-1</td>\n",
       "    </tr>\n",
       "    <tr>\n",
       "      <th>19</th>\n",
       "      <td>5.210000e+17</td>\n",
       "      <td>\"he is gunna run outta fuel!!\\n its my biggest...</td>\n",
       "      <td>11</td>\n",
       "      <td>0</td>\n",
       "      <td>0</td>\n",
       "      <td>7</td>\n",
       "      <td>10</td>\n",
       "      <td>12</td>\n",
       "      <td>7:31</td>\n",
       "      <td>12bobleeswagger</td>\n",
       "      <td>0.0</td>\n",
       "      <td>0.0</td>\n",
       "      <td>0.0</td>\n",
       "      <td>0.203</td>\n",
       "      <td>0.797</td>\n",
       "      <td>0.000</td>\n",
       "      <td>-0.6219</td>\n",
       "      <td>-1</td>\n",
       "    </tr>\n",
       "    <tr>\n",
       "      <th>43</th>\n",
       "      <td>5.210000e+17</td>\n",
       "      <td>\"rt @redbullracingau: terrible bad luck for @t...</td>\n",
       "      <td>11</td>\n",
       "      <td>1</td>\n",
       "      <td>1</td>\n",
       "      <td>7</td>\n",
       "      <td>10</td>\n",
       "      <td>12</td>\n",
       "      <td>7:13</td>\n",
       "      <td>1sparkey</td>\n",
       "      <td>0.0</td>\n",
       "      <td>0.0</td>\n",
       "      <td>0.0</td>\n",
       "      <td>0.349</td>\n",
       "      <td>0.396</td>\n",
       "      <td>0.255</td>\n",
       "      <td>-0.3818</td>\n",
       "      <td>-1</td>\n",
       "    </tr>\n",
       "    <tr>\n",
       "      <th>58</th>\n",
       "      <td>5.210000e+17</td>\n",
       "      <td>\"no podium for you #bathurst1000\"</td>\n",
       "      <td>11</td>\n",
       "      <td>0</td>\n",
       "      <td>0</td>\n",
       "      <td>7</td>\n",
       "      <td>10</td>\n",
       "      <td>12</td>\n",
       "      <td>7:34</td>\n",
       "      <td>2lapsdown</td>\n",
       "      <td>0.0</td>\n",
       "      <td>0.0</td>\n",
       "      <td>0.0</td>\n",
       "      <td>0.355</td>\n",
       "      <td>0.645</td>\n",
       "      <td>0.000</td>\n",
       "      <td>-0.2960</td>\n",
       "      <td>-1</td>\n",
       "    </tr>\n",
       "    <tr>\n",
       "      <th>...</th>\n",
       "      <td>...</td>\n",
       "      <td>...</td>\n",
       "      <td>...</td>\n",
       "      <td>...</td>\n",
       "      <td>...</td>\n",
       "      <td>...</td>\n",
       "      <td>...</td>\n",
       "      <td>...</td>\n",
       "      <td>...</td>\n",
       "      <td>...</td>\n",
       "      <td>...</td>\n",
       "      <td>...</td>\n",
       "      <td>...</td>\n",
       "      <td>...</td>\n",
       "      <td>...</td>\n",
       "      <td>...</td>\n",
       "      <td>...</td>\n",
       "      <td>...</td>\n",
       "    </tr>\n",
       "    <tr>\n",
       "      <th>944</th>\n",
       "      <td>5.210000e+17</td>\n",
       "      <td>\"have the v8 supercars race controllers not he...</td>\n",
       "      <td>11</td>\n",
       "      <td>0</td>\n",
       "      <td>0</td>\n",
       "      <td>7</td>\n",
       "      <td>10</td>\n",
       "      <td>12</td>\n",
       "      <td>7:22</td>\n",
       "      <td>am_baker</td>\n",
       "      <td>0.0</td>\n",
       "      <td>0.0</td>\n",
       "      <td>0.0</td>\n",
       "      <td>0.139</td>\n",
       "      <td>0.861</td>\n",
       "      <td>0.000</td>\n",
       "      <td>-0.3446</td>\n",
       "      <td>-1</td>\n",
       "    </tr>\n",
       "    <tr>\n",
       "      <th>946</th>\n",
       "      <td>5.210000e+17</td>\n",
       "      <td>\"i'm going to cry unhappy tears  #bathurst1000\"</td>\n",
       "      <td>11</td>\n",
       "      <td>0</td>\n",
       "      <td>0</td>\n",
       "      <td>7</td>\n",
       "      <td>10</td>\n",
       "      <td>12</td>\n",
       "      <td>8:05</td>\n",
       "      <td>amandabourke80</td>\n",
       "      <td>0.0</td>\n",
       "      <td>1.0</td>\n",
       "      <td>0.0</td>\n",
       "      <td>0.661</td>\n",
       "      <td>0.339</td>\n",
       "      <td>0.000</td>\n",
       "      <td>-0.7783</td>\n",
       "      <td>-1</td>\n",
       "    </tr>\n",
       "    <tr>\n",
       "      <th>952</th>\n",
       "      <td>5.210000e+17</td>\n",
       "      <td>\"geez what a crazy race #bathurst1000\"</td>\n",
       "      <td>11</td>\n",
       "      <td>0</td>\n",
       "      <td>0</td>\n",
       "      <td>7</td>\n",
       "      <td>10</td>\n",
       "      <td>12</td>\n",
       "      <td>7:06</td>\n",
       "      <td>amandar327</td>\n",
       "      <td>0.0</td>\n",
       "      <td>1.0</td>\n",
       "      <td>1.0</td>\n",
       "      <td>0.375</td>\n",
       "      <td>0.625</td>\n",
       "      <td>0.000</td>\n",
       "      <td>-0.3400</td>\n",
       "      <td>-1</td>\n",
       "    </tr>\n",
       "    <tr>\n",
       "      <th>954</th>\n",
       "      <td>5.210000e+17</td>\n",
       "      <td>\"rt @wadey_80: this is the craziest race i hav...</td>\n",
       "      <td>11</td>\n",
       "      <td>0</td>\n",
       "      <td>0</td>\n",
       "      <td>7</td>\n",
       "      <td>10</td>\n",
       "      <td>12</td>\n",
       "      <td>7:31</td>\n",
       "      <td>amandar327</td>\n",
       "      <td>0.0</td>\n",
       "      <td>0.0</td>\n",
       "      <td>0.0</td>\n",
       "      <td>0.107</td>\n",
       "      <td>0.893</td>\n",
       "      <td>0.000</td>\n",
       "      <td>-0.0516</td>\n",
       "      <td>-1</td>\n",
       "    </tr>\n",
       "    <tr>\n",
       "      <th>955</th>\n",
       "      <td>5.210000e+17</td>\n",
       "      <td>\"i've missed my sunday arvo nap. damn you #bat...</td>\n",
       "      <td>11</td>\n",
       "      <td>0</td>\n",
       "      <td>0</td>\n",
       "      <td>7</td>\n",
       "      <td>10</td>\n",
       "      <td>12</td>\n",
       "      <td>7:53</td>\n",
       "      <td>amandar327</td>\n",
       "      <td>0.0</td>\n",
       "      <td>1.0</td>\n",
       "      <td>0.0</td>\n",
       "      <td>0.380</td>\n",
       "      <td>0.620</td>\n",
       "      <td>0.000</td>\n",
       "      <td>-0.5994</td>\n",
       "      <td>-1</td>\n",
       "    </tr>\n",
       "  </tbody>\n",
       "</table>\n",
       "<p>100 rows × 18 columns</p>\n",
       "</div>"
      ],
      "text/plain": [
       "               id                                               text  \\\n",
       "7    5.210000e+17            \"this is why i watch #v8sc no words...\"   \n",
       "13   5.210000e+17  \"this #f1 has no last to 1st, roos on track, h...   \n",
       "19   5.210000e+17  \"he is gunna run outta fuel!!\\n its my biggest...   \n",
       "43   5.210000e+17  \"rt @redbullracingau: terrible bad luck for @t...   \n",
       "58   5.210000e+17                  \"no podium for you #bathurst1000\"   \n",
       "..            ...                                                ...   \n",
       "944  5.210000e+17  \"have the v8 supercars race controllers not he...   \n",
       "946  5.210000e+17    \"i'm going to cry unhappy tears  #bathurst1000\"   \n",
       "952  5.210000e+17             \"geez what a crazy race #bathurst1000\"   \n",
       "954  5.210000e+17  \"rt @wadey_80: this is the craziest race i hav...   \n",
       "955  5.210000e+17  \"i've missed my sunday arvo nap. damn you #bat...   \n",
       "\n",
       "     event_number  player_dummy  team_dummy  weekday  month  day   time  \\\n",
       "7              11             0           0        7     10   12   7:19   \n",
       "13             11             0           0        7     10   12  11:38   \n",
       "19             11             0           0        7     10   12   7:31   \n",
       "43             11             1           1        7     10   12   7:13   \n",
       "58             11             0           0        7     10   12   7:34   \n",
       "..            ...           ...         ...      ...    ...  ...    ...   \n",
       "944            11             0           0        7     10   12   7:22   \n",
       "946            11             0           0        7     10   12   8:05   \n",
       "952            11             0           0        7     10   12   7:06   \n",
       "954            11             0           0        7     10   12   7:31   \n",
       "955            11             0           0        7     10   12   7:53   \n",
       "\n",
       "    user_screen_name  retweets  likes  comments    neg    neu    pos  \\\n",
       "7           038d017c       0.0    0.0       0.0  0.268  0.732  0.000   \n",
       "13           11shirt       1.0    0.0       1.0  0.170  0.830  0.000   \n",
       "19   12bobleeswagger       0.0    0.0       0.0  0.203  0.797  0.000   \n",
       "43          1sparkey       0.0    0.0       0.0  0.349  0.396  0.255   \n",
       "58         2lapsdown       0.0    0.0       0.0  0.355  0.645  0.000   \n",
       "..               ...       ...    ...       ...    ...    ...    ...   \n",
       "944         am_baker       0.0    0.0       0.0  0.139  0.861  0.000   \n",
       "946   amandabourke80       0.0    1.0       0.0  0.661  0.339  0.000   \n",
       "952       amandar327       0.0    1.0       1.0  0.375  0.625  0.000   \n",
       "954       amandar327       0.0    0.0       0.0  0.107  0.893  0.000   \n",
       "955       amandar327       0.0    1.0       0.0  0.380  0.620  0.000   \n",
       "\n",
       "     compound  sentiment  \n",
       "7     -0.2960         -1  \n",
       "13    -0.5423         -1  \n",
       "19    -0.6219         -1  \n",
       "43    -0.3818         -1  \n",
       "58    -0.2960         -1  \n",
       "..        ...        ...  \n",
       "944   -0.3446         -1  \n",
       "946   -0.7783         -1  \n",
       "952   -0.3400         -1  \n",
       "954   -0.0516         -1  \n",
       "955   -0.5994         -1  \n",
       "\n",
       "[100 rows x 18 columns]"
      ]
     },
     "execution_count": 23,
     "metadata": {},
     "output_type": "execute_result"
    }
   ],
   "source": [
    "from nltk.sentiment.vader import SentimentIntensityAnalyzer\n",
    "sentiment = SentimentIntensityAnalyzer()\n",
    "\n",
    "negative_11.dropna(inplace=True)  # drop rows containing NaN values\n",
    "negative_11[['neg', 'neu', 'pos', 'compound']] = negative_11['text'].apply(lambda x: pd.Series(sentiment.polarity_scores(x)))\n",
    "negative_11.head(100)"
   ]
  },
  {
   "cell_type": "code",
   "execution_count": 24,
   "id": "9f5fe6e1",
   "metadata": {
    "ExecuteTime": {
     "end_time": "2023-05-12T08:54:12.513525Z",
     "start_time": "2023-05-12T08:54:10.492571Z"
    }
   },
   "outputs": [
    {
     "name": "stderr",
     "output_type": "stream",
     "text": [
      "<timed exec>:6: SettingWithCopyWarning:\n",
      "\n",
      "\n",
      "A value is trying to be set on a copy of a slice from a DataFrame.\n",
      "Try using .loc[row_indexer,col_indexer] = value instead\n",
      "\n",
      "See the caveats in the documentation: https://pandas.pydata.org/pandas-docs/stable/user_guide/indexing.html#returning-a-view-versus-a-copy\n",
      "\n"
     ]
    },
    {
     "name": "stdout",
     "output_type": "stream",
     "text": [
      "CPU times: total: 1.36 s\n",
      "Wall time: 2 s\n"
     ]
    }
   ],
   "source": [
    "%%time\n",
    "from sklearn.feature_extraction.text import CountVectorizer\n",
    "from sklearn.decomposition import LatentDirichletAllocation\n",
    "\n",
    "# Set how many topics we need\n",
    "NUM_TOPICS = 10\n",
    "negative_11['tokens']=tokens\n",
    "text_train = list(negative_11['tokens'].apply(lambda x: ' '.join(x)))\n",
    "\n",
    "# Convert a collection of text documents to a matrix of token counts.\n",
    "## min_df: ignore terms that have a document frequency strictly lower than the given threshold\n",
    "## max_df: ignore terms that have a document frequency strictly higher than the given threshold\n",
    "## stop_words: ‘english’, list\n",
    "## lowercase: Convert all characters to lowercase before tokenizing.\n",
    "## token_pattern: Regular expression denoting what constitutes a “token”\n",
    "vectoriser = CountVectorizer(min_df=5, max_df=0.9,\n",
    "                             stop_words=stop_words,lowercase=True,\n",
    "                             token_pattern='[a-zA-Z\\-][a-zA-Z\\-]{2,}')\n",
    "\n",
    "data_vectorized= vectoriser.fit_transform(text_train)\n",
    "\n",
    "# Build a Latent Dirichlet Allocation Model\n",
    "lda_model = LatentDirichletAllocation(n_components=NUM_TOPICS, max_iter=10, random_state=0, learning_method='online')\n",
    "lda_Z = lda_model.fit_transform(data_vectorized)\n",
    " \n",
    "#text = \"mclaughlin: we can win front row qualifying only the start for volvo says young gun\"\n",
    "#x = lda_model.transform(vectorizer.transform([text]))[0]\n",
    "#print(x, x.sum())"
   ]
  },
  {
   "cell_type": "code",
   "execution_count": 25,
   "id": "4b79e8e3",
   "metadata": {
    "ExecuteTime": {
     "end_time": "2023-05-12T08:54:18.461593Z",
     "start_time": "2023-05-12T08:54:18.445681Z"
    }
   },
   "outputs": [
    {
     "name": "stdout",
     "output_type": "stream",
     "text": [
      "(1592, 10)\n"
     ]
    }
   ],
   "source": [
    "print(lda_Z.shape)"
   ]
  },
  {
   "cell_type": "markdown",
   "id": "300fdeb3",
   "metadata": {},
   "source": [
    "Show the top 10 most frequent words in each topic\n"
   ]
  },
  {
   "cell_type": "code",
   "execution_count": 26,
   "id": "3a5a2b62",
   "metadata": {
    "ExecuteTime": {
     "end_time": "2023-05-12T08:54:20.548180Z",
     "start_time": "2023-05-12T08:54:20.517596Z"
    }
   },
   "outputs": [
    {
     "name": "stdout",
     "output_type": "stream",
     "text": [
      "LDA Model:\n",
      "Topic 1:\n",
      "[('bad', 46.10683377720546), ('shanevg', 42.443158546698264), ('luck', 36.61797351415651), ('redbullracingau', 33.11169106054975), ('shame', 30.250483561504986), ('year', 26.453833733056676), ('teknoautosports', 26.333676998486187), ('bastard', 25.727612538179876), ('way', 25.506624178198077), ('terrible', 24.802613841847784)]\n",
      "Topic 2:\n",
      "[('van', 58.156815724910395), ('gisbergen', 53.57390767854927), ('finish', 40.958024607213986), ('day', 39.430698763251236), ('shane', 35.82507735697097), ('race', 34.08090487109309), ('heartbreaking', 34.01522234870479), ('redbullracingau', 31.648907628015927), ('come', 30.313068049635106), ('jamie', 26.118782678678663)]\n",
      "Topic 3:\n",
      "[('race', 91.61153792707817), ('today', 35.069519576263005), ('crazy', 34.756530589469286), ('absolutely', 21.608350289385683), ('channel', 20.384693265211613), ('man', 20.221241852748005), ('gutted', 19.251410400432942), ('turn', 18.080060791140628), ('first', 16.090655021106635), ('thought', 15.963030420540784)]\n",
      "Topic 4:\n",
      "[('whincup', 99.97370345591362), ('fuel', 41.57785442987863), ('amp', 36.15454307521347), ('stop', 30.976764767955384), ('team', 26.547389006429594), ('lap', 20.043174213799972), ('ford', 19.091416398078128), ('poor', 18.88136066223023), ('wow', 17.54302640830023), ('nissan', 17.496083657253376)]\n",
      "Topic 5:\n",
      "[('car', 54.12916740497281), ('racing', 48.54331405850529), ('motor', 42.37021429145177), ('whincup', 38.21441638691558), ('insane', 35.2924203438871), ('feel', 32.931367468282), ('like', 31.93460067423277), ('say', 28.535422174214283), ('hard', 27.18829919496997), ('crap', 26.621244387261967)]\n",
      "Topic 6:\n",
      "[('lap', 76.49822455985853), ('last', 75.21903468064721), ('svg', 51.57733798177835), ('supercars', 49.116686443498914), ('stalled', 40.65306020461466), ('make', 35.07180500145649), ('unbelievable', 31.42653320635456), ('pit', 29.67002769675746), ('van', 29.249966907395557), ('started', 28.927029915859507)]\n",
      "Topic 7:\n",
      "[('fuck', 73.46998024811651), ('pit', 53.64242202588298), ('supercars', 48.906529413343385), ('lowndes', 39.494498590904925), ('lane', 36.70338820627384), ('holden', 36.33610176478563), ('fpr', 32.15826854003982), ('penalty', 30.816847833879677), ('craig', 30.50116783948073), ('well', 26.93766833243669)]\n",
      "Topic 8:\n",
      "[('one', 47.19009394554072), ('winterbottom', 42.77829227808481), ('going', 34.779695212689255), ('hell', 31.652655043567343), ('lowndes', 24.286602663106294), ('car', 23.068625606170936), ('winston', 22.773770767866885), ('mistake', 21.60976335616533), ('wtf', 20.713941291743545), ('whincup', 20.621609065941268)]\n",
      "Topic 9:\n",
      "[('mostert', 51.31053240316942), ('get', 45.49227986963262), ('race', 37.30373650720239), ('finish', 24.375606312753675), ('top', 23.31148647498262), ('supercars', 19.33374317558482), ('take', 18.237619384849058), ('watching', 18.11592924631603), ('never', 17.286680497022346), ('much', 17.222377209403533)]\n",
      "Topic 10:\n",
      "[('lowndes', 65.76672563926137), ('penalty', 50.253981458949454), ('stall', 35.0777901596369), ('let', 34.09114892717622), ('ever', 33.2131596041847), ('cruel', 33.06726200326515), ('enough', 32.810461725935674), ('sportsbetcomau', 30.944353660644218), ('alone', 30.56043992894141), ('leading', 29.760958885573658)]\n",
      "====================\n"
     ]
    }
   ],
   "source": [
    "def print_topics(model, vectoriser, top_n=10):\n",
    "    for idx, topic in enumerate(model.components_):\n",
    "        print(\"Topic %d:\" % (idx+1))\n",
    "        feature_names = vectoriser.get_feature_names_out()\n",
    "        print([(feature_names[i], topic[i])\n",
    "                        for i in topic.argsort()[:-top_n - 1:-1]])\n",
    "\n",
    "print(\"LDA Model:\")\n",
    "print_topics(lda_model, vectoriser)\n",
    "print(\"=\" * 20)"
   ]
  },
  {
   "cell_type": "code",
   "execution_count": 27,
   "id": "ef63b7dd",
   "metadata": {
    "ExecuteTime": {
     "end_time": "2023-05-12T09:08:44.212718Z",
     "start_time": "2023-05-12T09:08:44.041657Z"
    }
   },
   "outputs": [
    {
     "name": "stdout",
     "output_type": "stream",
     "text": [
      "[0.91818147 0.00909114 0.00909096 0.00909091 0.00909098 0.00909091\n",
      " 0.00909091 0.00909091 0.00909091 0.00909091]\n"
     ]
    }
   ],
   "source": [
    "x = lda_model.transform(data_vectorized)\n",
    "print(x[3])"
   ]
  },
  {
   "cell_type": "code",
   "execution_count": 30,
   "id": "b37c014d",
   "metadata": {
    "ExecuteTime": {
     "end_time": "2023-05-12T09:09:38.221373Z",
     "start_time": "2023-05-12T09:09:38.153411Z"
    }
   },
   "outputs": [],
   "source": [
    "import pandas as pd\n",
    "import numpy as np\n",
    "\n",
    "topics=pd.DataFrame(x)\n",
    "topics.columns=['topic1','topic2','topic3','topic4','topic5','topic6','topic7','topic8','topic9','topic10']\n",
    "\n",
    "topics['tweet']=negative_11['text']\n",
    "topics['month']=negative_11['month']\n",
    "topics['day']=negative_11['day']\n",
    "topics['event_number']=negative_11['event_number']\n",
    "pd.DataFrame(topics).to_csv('tweets_by_topics_all_new.csv',index=False)"
   ]
  },
  {
   "cell_type": "code",
   "execution_count": 31,
   "id": "8b79bb24",
   "metadata": {
    "ExecuteTime": {
     "end_time": "2023-05-12T09:09:44.010636Z",
     "start_time": "2023-05-12T09:09:43.959174Z"
    }
   },
   "outputs": [
    {
     "data": {
      "text/html": [
       "<div>\n",
       "<style scoped>\n",
       "    .dataframe tbody tr th:only-of-type {\n",
       "        vertical-align: middle;\n",
       "    }\n",
       "\n",
       "    .dataframe tbody tr th {\n",
       "        vertical-align: top;\n",
       "    }\n",
       "\n",
       "    .dataframe thead th {\n",
       "        text-align: right;\n",
       "    }\n",
       "</style>\n",
       "<table border=\"1\" class=\"dataframe\">\n",
       "  <thead>\n",
       "    <tr style=\"text-align: right;\">\n",
       "      <th></th>\n",
       "      <th>topic1</th>\n",
       "      <th>topic2</th>\n",
       "      <th>topic3</th>\n",
       "      <th>topic4</th>\n",
       "      <th>topic5</th>\n",
       "      <th>topic6</th>\n",
       "      <th>topic7</th>\n",
       "      <th>topic8</th>\n",
       "      <th>topic9</th>\n",
       "      <th>topic10</th>\n",
       "      <th>tweet</th>\n",
       "      <th>month</th>\n",
       "      <th>day</th>\n",
       "      <th>event_number</th>\n",
       "    </tr>\n",
       "  </thead>\n",
       "  <tbody>\n",
       "    <tr>\n",
       "      <th>0</th>\n",
       "      <td>0.033333</td>\n",
       "      <td>0.699991</td>\n",
       "      <td>0.033333</td>\n",
       "      <td>0.033333</td>\n",
       "      <td>0.033342</td>\n",
       "      <td>0.033333</td>\n",
       "      <td>0.033333</td>\n",
       "      <td>0.033333</td>\n",
       "      <td>0.033333</td>\n",
       "      <td>0.033333</td>\n",
       "      <td>NaN</td>\n",
       "      <td>NaN</td>\n",
       "      <td>NaN</td>\n",
       "      <td>NaN</td>\n",
       "    </tr>\n",
       "    <tr>\n",
       "      <th>1</th>\n",
       "      <td>0.010000</td>\n",
       "      <td>0.010000</td>\n",
       "      <td>0.010002</td>\n",
       "      <td>0.909993</td>\n",
       "      <td>0.010000</td>\n",
       "      <td>0.010004</td>\n",
       "      <td>0.010000</td>\n",
       "      <td>0.010000</td>\n",
       "      <td>0.010000</td>\n",
       "      <td>0.010000</td>\n",
       "      <td>NaN</td>\n",
       "      <td>NaN</td>\n",
       "      <td>NaN</td>\n",
       "      <td>NaN</td>\n",
       "    </tr>\n",
       "    <tr>\n",
       "      <th>2</th>\n",
       "      <td>0.016667</td>\n",
       "      <td>0.016667</td>\n",
       "      <td>0.016667</td>\n",
       "      <td>0.308644</td>\n",
       "      <td>0.390105</td>\n",
       "      <td>0.184582</td>\n",
       "      <td>0.016667</td>\n",
       "      <td>0.016669</td>\n",
       "      <td>0.016667</td>\n",
       "      <td>0.016667</td>\n",
       "      <td>NaN</td>\n",
       "      <td>NaN</td>\n",
       "      <td>NaN</td>\n",
       "      <td>NaN</td>\n",
       "    </tr>\n",
       "    <tr>\n",
       "      <th>3</th>\n",
       "      <td>0.918181</td>\n",
       "      <td>0.009091</td>\n",
       "      <td>0.009091</td>\n",
       "      <td>0.009091</td>\n",
       "      <td>0.009091</td>\n",
       "      <td>0.009091</td>\n",
       "      <td>0.009091</td>\n",
       "      <td>0.009091</td>\n",
       "      <td>0.009091</td>\n",
       "      <td>0.009091</td>\n",
       "      <td>NaN</td>\n",
       "      <td>NaN</td>\n",
       "      <td>NaN</td>\n",
       "      <td>NaN</td>\n",
       "    </tr>\n",
       "    <tr>\n",
       "      <th>4</th>\n",
       "      <td>0.050000</td>\n",
       "      <td>0.550000</td>\n",
       "      <td>0.050000</td>\n",
       "      <td>0.050000</td>\n",
       "      <td>0.050000</td>\n",
       "      <td>0.050000</td>\n",
       "      <td>0.050000</td>\n",
       "      <td>0.050000</td>\n",
       "      <td>0.050000</td>\n",
       "      <td>0.050000</td>\n",
       "      <td>NaN</td>\n",
       "      <td>NaN</td>\n",
       "      <td>NaN</td>\n",
       "      <td>NaN</td>\n",
       "    </tr>\n",
       "    <tr>\n",
       "      <th>...</th>\n",
       "      <td>...</td>\n",
       "      <td>...</td>\n",
       "      <td>...</td>\n",
       "      <td>...</td>\n",
       "      <td>...</td>\n",
       "      <td>...</td>\n",
       "      <td>...</td>\n",
       "      <td>...</td>\n",
       "      <td>...</td>\n",
       "      <td>...</td>\n",
       "      <td>...</td>\n",
       "      <td>...</td>\n",
       "      <td>...</td>\n",
       "      <td>...</td>\n",
       "    </tr>\n",
       "    <tr>\n",
       "      <th>1587</th>\n",
       "      <td>0.050000</td>\n",
       "      <td>0.050000</td>\n",
       "      <td>0.550000</td>\n",
       "      <td>0.050000</td>\n",
       "      <td>0.050000</td>\n",
       "      <td>0.050000</td>\n",
       "      <td>0.050000</td>\n",
       "      <td>0.050000</td>\n",
       "      <td>0.050000</td>\n",
       "      <td>0.050000</td>\n",
       "      <td>\"what a day! dramas at #bathurst1000 &amp;amp; now...</td>\n",
       "      <td>10.0</td>\n",
       "      <td>12.0</td>\n",
       "      <td>11.0</td>\n",
       "    </tr>\n",
       "    <tr>\n",
       "      <th>1588</th>\n",
       "      <td>0.014289</td>\n",
       "      <td>0.158201</td>\n",
       "      <td>0.157143</td>\n",
       "      <td>0.014286</td>\n",
       "      <td>0.014286</td>\n",
       "      <td>0.014286</td>\n",
       "      <td>0.014286</td>\n",
       "      <td>0.157142</td>\n",
       "      <td>0.441796</td>\n",
       "      <td>0.014286</td>\n",
       "      <td>NaN</td>\n",
       "      <td>NaN</td>\n",
       "      <td>NaN</td>\n",
       "      <td>NaN</td>\n",
       "    </tr>\n",
       "    <tr>\n",
       "      <th>1589</th>\n",
       "      <td>0.050000</td>\n",
       "      <td>0.050000</td>\n",
       "      <td>0.050000</td>\n",
       "      <td>0.050000</td>\n",
       "      <td>0.050000</td>\n",
       "      <td>0.050000</td>\n",
       "      <td>0.050000</td>\n",
       "      <td>0.550000</td>\n",
       "      <td>0.050000</td>\n",
       "      <td>0.050000</td>\n",
       "      <td>NaN</td>\n",
       "      <td>NaN</td>\n",
       "      <td>NaN</td>\n",
       "      <td>NaN</td>\n",
       "    </tr>\n",
       "    <tr>\n",
       "      <th>1590</th>\n",
       "      <td>0.025000</td>\n",
       "      <td>0.025005</td>\n",
       "      <td>0.025000</td>\n",
       "      <td>0.274993</td>\n",
       "      <td>0.025000</td>\n",
       "      <td>0.275001</td>\n",
       "      <td>0.025000</td>\n",
       "      <td>0.274999</td>\n",
       "      <td>0.025000</td>\n",
       "      <td>0.025003</td>\n",
       "      <td>NaN</td>\n",
       "      <td>NaN</td>\n",
       "      <td>NaN</td>\n",
       "      <td>NaN</td>\n",
       "    </tr>\n",
       "    <tr>\n",
       "      <th>1591</th>\n",
       "      <td>0.016667</td>\n",
       "      <td>0.683334</td>\n",
       "      <td>0.183332</td>\n",
       "      <td>0.016667</td>\n",
       "      <td>0.016667</td>\n",
       "      <td>0.016667</td>\n",
       "      <td>0.016667</td>\n",
       "      <td>0.016667</td>\n",
       "      <td>0.016667</td>\n",
       "      <td>0.016667</td>\n",
       "      <td>NaN</td>\n",
       "      <td>NaN</td>\n",
       "      <td>NaN</td>\n",
       "      <td>NaN</td>\n",
       "    </tr>\n",
       "  </tbody>\n",
       "</table>\n",
       "<p>1592 rows × 14 columns</p>\n",
       "</div>"
      ],
      "text/plain": [
       "        topic1    topic2    topic3    topic4    topic5    topic6    topic7  \\\n",
       "0     0.033333  0.699991  0.033333  0.033333  0.033342  0.033333  0.033333   \n",
       "1     0.010000  0.010000  0.010002  0.909993  0.010000  0.010004  0.010000   \n",
       "2     0.016667  0.016667  0.016667  0.308644  0.390105  0.184582  0.016667   \n",
       "3     0.918181  0.009091  0.009091  0.009091  0.009091  0.009091  0.009091   \n",
       "4     0.050000  0.550000  0.050000  0.050000  0.050000  0.050000  0.050000   \n",
       "...        ...       ...       ...       ...       ...       ...       ...   \n",
       "1587  0.050000  0.050000  0.550000  0.050000  0.050000  0.050000  0.050000   \n",
       "1588  0.014289  0.158201  0.157143  0.014286  0.014286  0.014286  0.014286   \n",
       "1589  0.050000  0.050000  0.050000  0.050000  0.050000  0.050000  0.050000   \n",
       "1590  0.025000  0.025005  0.025000  0.274993  0.025000  0.275001  0.025000   \n",
       "1591  0.016667  0.683334  0.183332  0.016667  0.016667  0.016667  0.016667   \n",
       "\n",
       "        topic8    topic9   topic10  \\\n",
       "0     0.033333  0.033333  0.033333   \n",
       "1     0.010000  0.010000  0.010000   \n",
       "2     0.016669  0.016667  0.016667   \n",
       "3     0.009091  0.009091  0.009091   \n",
       "4     0.050000  0.050000  0.050000   \n",
       "...        ...       ...       ...   \n",
       "1587  0.050000  0.050000  0.050000   \n",
       "1588  0.157142  0.441796  0.014286   \n",
       "1589  0.550000  0.050000  0.050000   \n",
       "1590  0.274999  0.025000  0.025003   \n",
       "1591  0.016667  0.016667  0.016667   \n",
       "\n",
       "                                                  tweet  month   day  \\\n",
       "0                                                   NaN    NaN   NaN   \n",
       "1                                                   NaN    NaN   NaN   \n",
       "2                                                   NaN    NaN   NaN   \n",
       "3                                                   NaN    NaN   NaN   \n",
       "4                                                   NaN    NaN   NaN   \n",
       "...                                                 ...    ...   ...   \n",
       "1587  \"what a day! dramas at #bathurst1000 &amp; now...   10.0  12.0   \n",
       "1588                                                NaN    NaN   NaN   \n",
       "1589                                                NaN    NaN   NaN   \n",
       "1590                                                NaN    NaN   NaN   \n",
       "1591                                                NaN    NaN   NaN   \n",
       "\n",
       "      event_number  \n",
       "0              NaN  \n",
       "1              NaN  \n",
       "2              NaN  \n",
       "3              NaN  \n",
       "4              NaN  \n",
       "...            ...  \n",
       "1587          11.0  \n",
       "1588           NaN  \n",
       "1589           NaN  \n",
       "1590           NaN  \n",
       "1591           NaN  \n",
       "\n",
       "[1592 rows x 14 columns]"
      ]
     },
     "execution_count": 31,
     "metadata": {},
     "output_type": "execute_result"
    }
   ],
   "source": [
    "topics"
   ]
  },
  {
   "cell_type": "code",
   "execution_count": 32,
   "id": "e0f13045",
   "metadata": {
    "ExecuteTime": {
     "end_time": "2023-05-12T09:09:52.188261Z",
     "start_time": "2023-05-12T09:09:46.322481Z"
    }
   },
   "outputs": [
    {
     "name": "stderr",
     "output_type": "stream",
     "text": [
      "C:\\Users\\j4072\\anaconda3\\lib\\site-packages\\pyLDAvis\\_prepare.py:243: FutureWarning:\n",
      "\n",
      "In a future version of pandas all arguments of DataFrame.drop except for the argument 'labels' will be keyword-only.\n",
      "\n"
     ]
    },
    {
     "data": {
      "text/html": [
       "\n",
       "<link rel=\"stylesheet\" type=\"text/css\" href=\"https://cdn.jsdelivr.net/gh/bmabey/pyLDAvis@3.4.0/pyLDAvis/js/ldavis.v1.0.0.css\">\n",
       "\n",
       "\n",
       "<div id=\"ldavis_el491229207679231369872556187\" style=\"background-color:white;\"></div>\n",
       "<script type=\"text/javascript\">\n",
       "\n",
       "var ldavis_el491229207679231369872556187_data = {\"mdsDat\": {\"x\": [0.19141659884636952, 0.23074782188664741, 0.13972613471724815, 0.00242561477777208, 0.04435259602778257, -0.10843597403270257, -0.21663780678135558, -0.1435984824640715, 0.08848244225601078, -0.22847894523370066], \"y\": [-0.12592356574546015, -0.04062449945173018, -0.10763788769764263, 0.20773915359828937, 0.16177508359179385, 0.10315949492053136, -0.17204687243016958, 0.18976402580876645, -0.023332319228002746, -0.19287261336637537], \"topics\": [1, 2, 3, 4, 5, 6, 7, 8, 9, 10], \"cluster\": [1, 1, 1, 1, 1, 1, 1, 1, 1, 1], \"Freq\": [7.67912936663127, 10.161207341044628, 7.630309443576818, 9.552497386149552, 13.058713528216556, 13.703946572609244, 9.792455614996726, 9.736286029800835, 8.588736034158552, 10.096718682815814]}, \"tinfo\": {\"Term\": [\"race\", \"whincup\", \"lowndes\", \"fuck\", \"van\", \"last\", \"penalty\", \"lap\", \"pit\", \"bad\", \"mostert\", \"gisbergen\", \"redbullracingau\", \"shanevg\", \"get\", \"one\", \"car\", \"luck\", \"crazy\", \"svg\", \"winterbottom\", \"finish\", \"fuel\", \"supercars\", \"today\", \"day\", \"racing\", \"shame\", \"motor\", \"amp\", \"luck\", \"shame\", \"year\", \"bastard\", \"terrible\", \"great\", \"cough\", \"massive\", \"way\", \"performance\", \"next\", \"least\", \"nothing\", \"arrogance\", \"quote\", \"jesus\", \"old\", \"awful\", \"feeling\", \"bad\", \"might\", \"teknoautosports\", \"jamiewhincup\", \"driver\", \"shanevg\", \"redbullracingau\", \"commentator\", \"kiwi\", \"fordfaithful\", \"tekno\", \"day\", \"mate\", \"chaz\", \"gisbergen\", \"shane\", \"heartbreaking\", \"come\", \"across\", \"choke\", \"think\", \"podium\", \"wall\", \"incredible\", \"stuck\", \"epic\", \"missed\", \"high\", \"hey\", \"tragic\", \"tough\", \"whole\", \"awesome\", \"kidding\", \"grid\", \"help\", \"lost\", \"row\", \"words\", \"omg\", \"home\", \"effort\", \"miss\", \"mate\", \"van\", \"jamie\", \"day\", \"finish\", \"redbullracingau\", \"bloody\", \"line\", \"time\", \"race\", \"back\", \"feel\", \"right\", \"today\", \"absolutely\", \"channel\", \"man\", \"gutted\", \"thought\", \"damage\", \"mountain\", \"worse\", \"found\", \"always\", \"post\", \"onqocjtpjj\", \"investigation\", \"jonathanlea\", \"best\", \"coming\", \"control\", \"ridiculous\", \"sucks\", \"branded\", \"tonight\", \"intense\", \"lee\", \"holdsworth\", \"many\", \"russell\", \"turn\", \"happened\", \"chosenone\", \"crazy\", \"race\", \"first\", \"end\", \"shanevg\", \"seen\", \"stop\", \"team\", \"nissan\", \"wow\", \"heartbreak\", \"news\", \"ten\", \"another\", \"damn\", \"running\", \"absolute\", \"dirty\", \"skaife\", \"heartbroken\", \"god\", \"happy\", \"earlier\", \"vangisbergen\", \"wincup\", \"erebus\", \"obviously\", \"already\", \"making\", \"battle\", \"happen\", \"blame\", \"msport\", \"lose\", \"shy\", \"suck\", \"bit\", \"amp\", \"fuel\", \"whincup\", \"even\", \"two\", \"poor\", \"track\", \"run\", \"ford\", \"sad\", \"lap\", \"jamie\", \"shit\", \"race\", \"motor\", \"say\", \"crap\", \"like\", \"empty\", \"panorama\", \"mount\", \"son\", \"fitzysa\", \"sorry\", \"fan\", \"safety\", \"really\", \"anyone\", \"left\", \"failure\", \"starter\", \"percat\", \"need\", \"came\", \"got\", \"devastated\", \"people\", \"fighting\", \"forget\", \"erebusv\", \"holdenmsport\", \"tank\", \"someone\", \"gavin\", \"racing\", \"insane\", \"driving\", \"hard\", \"feel\", \"close\", \"sport\", \"car\", \"look\", \"holy\", \"whincup\", \"day\", \"supercars\", \"get\", \"lap\", \"finish\", \"fuel\", \"svg\", \"make\", \"started\", \"dead\", \"giz\", \"paul\", \"want\", \"believe\", \"guy\", \"little\", \"ripper\", \"chazscar\", \"freak\", \"heart\", \"garage\", \"yep\", \"dutto\", \"comment\", \"asked\", \"bay\", \"webb\", \"dont\", \"last\", \"speak\", \"imagine\", \"set\", \"gis\", \"script\", \"thing\", \"fence\", \"stalled\", \"chazmozzie\", \"lap\", \"lead\", \"start\", \"unbelievable\", \"morris\", \"supercars\", \"drive\", \"pit\", \"van\", \"car\", \"see\", \"fuck\", \"lane\", \"holden\", \"fpr\", \"craig\", \"well\", \"final\", \"done\", \"video\", \"bullshit\", \"australia\", \"leader\", \"snappytv\", \"disaster\", \"red\", \"bull\", \"ingall\", \"serious\", \"yeah\", \"error\", \"amazing\", \"woman\", \"theblock\", \"boy\", \"tension\", \"con\", \"wey\", \"pay\", \"spun\", \"para\", \"chaz\", \"pit\", \"dumqi\", \"drama\", \"penalty\", \"supercars\", \"lowndes\", \"ford\", \"bloody\", \"race\", \"winterbottom\", \"winston\", \"mistake\", \"made\", \"going\", \"wide\", \"pepsi\", \"cutting\", \"block\", \"seriously\", \"max\", \"big\", \"wtf\", \"playing\", \"corner\", \"hour\", \"weekend\", \"karma\", \"twist\", \"front\", \"rape\", \"something\", \"hurt\", \"accused\", \"bugger\", \"probably\", \"quarterback\", \"foridastate\", \"mark\", \"que\", \"one\", \"hell\", \"give\", \"went\", \"still\", \"speedcafe\", \"car\", \"laps\", \"lowndes\", \"whincup\", \"told\", \"start\", \"supercars\", \"run\", \"amp\", \"top\", \"watching\", \"never\", \"win\", \"fucked\", \"know\", \"aussiepride\", \"fitz\", \"sally\", \"yes\", \"better\", \"russiangp\", \"winner\", \"exciting\", \"incident\", \"life\", \"mostert\", \"desperate\", \"conserving\", \"art\", \"sure\", \"exhausted\", \"fire\", \"coffee\", \"mtv\", \"wba\", \"qcrm\", \"income\", \"zlkyx\", \"care\", \"much\", \"get\", \"could\", \"around\", \"take\", \"victory\", \"would\", \"finish\", \"race\", \"line\", \"morris\", \"unbelievable\", \"crazy\", \"supercars\", \"motorsport\", \"stall\", \"let\", \"ever\", \"cruel\", \"enough\", \"sportsbetcomau\", \"alone\", \"leading\", \"craiglowndes\", \"embarrassing\", \"lights\", \"traffic\", \"frosty\", \"moffat\", \"fucking\", \"contact\", \"cop\", \"flag\", \"wrong\", \"craziest\", \"black\", \"worst\", \"mean\", \"finished\", \"petrolhedonist\", \"shit\", \"seen\", \"call\", \"third\", \"penalty\", \"lowndes\", \"yet\", \"drive\", \"supercars\", \"holy\"], \"Freq\": [182.0, 147.0, 122.0, 66.0, 83.0, 78.0, 76.0, 106.0, 77.0, 55.0, 55.0, 51.0, 64.0, 63.0, 59.0, 51.0, 92.0, 38.0, 49.0, 49.0, 41.0, 81.0, 51.0, 166.0, 34.0, 65.0, 52.0, 31.0, 39.0, 43.0, 37.295463038530514, 30.810164607542244, 26.943270845865467, 26.20361342815353, 25.26150081571184, 23.601593753057468, 22.090282634466675, 21.794838784860918, 25.97853643943212, 19.03843660026346, 12.257097838738355, 8.984796799550324, 8.992224005507214, 8.560166528580355, 7.941380410019326, 6.946647568306686, 6.574467129394007, 6.20185176937724, 5.04351735966038, 46.95988199064726, 11.106365581487886, 26.82089102462081, 17.10179386409091, 17.30938052942907, 43.2284230640156, 33.72430890023327, 3.802332404226862, 4.023583682380814, 3.510010009447104, 4.7794806269870795, 9.067447156674131, 4.135387858226155, 4.061087589914228, 50.14393844441938, 33.53144378665119, 31.837461360124536, 28.372330565519043, 16.42221163570486, 14.522514732220289, 14.440880717844644, 12.664328856286968, 12.113461175644334, 11.988228049500197, 10.381285044476078, 9.317923195948762, 8.221502931266967, 7.886106740901089, 6.700910944925663, 6.448865643787775, 6.433383716977774, 6.246230924600714, 5.9717037507022965, 5.422821199414227, 4.98618985443297, 4.513790989129708, 24.44390251501364, 4.066402436131583, 5.541010705207738, 7.0646946454604045, 16.600169412815042, 5.85434813018968, 10.320771050133438, 11.314257181116465, 54.43343437501359, 24.446576470419146, 36.90622202637235, 38.335763689895686, 29.622645513457165, 14.33659640721923, 16.190461261521342, 14.297548468063189, 31.898938681869947, 10.980672322952582, 13.684572034629877, 9.510671967146292, 34.06063725761451, 20.986719802126885, 19.79826502624979, 19.639515795110167, 18.69758451981869, 15.503804878305747, 14.301103291151977, 13.733034718386998, 12.53235203874415, 11.446052564340384, 10.759465384964528, 9.925443254196555, 9.925444066581182, 9.925404135759612, 9.031057091753752, 8.77505598856726, 7.9080169010920365, 7.516763902438663, 7.499201381687286, 6.620151649712485, 6.229053751857543, 5.890695060848817, 4.958186265527846, 4.765574353156039, 4.737863461033284, 4.553026736877607, 5.2132889373862366, 17.55993237556296, 8.816897833224708, 10.267179139179722, 33.75665235922928, 88.97605098811867, 15.627757965703145, 10.832585532915669, 8.00557477404507, 6.0596679560417295, 28.453358248134677, 24.38480505020121, 16.0708305069401, 16.113949241988596, 15.75593925850156, 15.521559561571355, 14.727675132771754, 10.88740636601151, 9.904141837739898, 9.824563791361356, 8.912668471354339, 8.451714308812166, 8.0696122390974, 8.039743550912362, 8.249881299753872, 7.802078190177191, 7.464900581911014, 6.960583590910812, 6.845832361703919, 6.497542381905251, 6.343445013831247, 6.218576693538145, 6.118947956529387, 6.116353698817583, 5.655078831906756, 5.624209620682412, 5.594956394411227, 5.29213031080769, 5.2870236152697245, 12.63571592114638, 11.369895927821695, 33.20934817185449, 38.19086970973617, 91.82971885968344, 11.441041665373724, 8.869376372744872, 17.343261091307774, 10.620475280237972, 13.491468864466032, 17.536205420676172, 8.660004790769085, 18.41043183841396, 11.373173706056926, 10.085877608797194, 9.646824184444931, 38.9785284465464, 26.25119517453617, 24.490245069180652, 29.378273431598245, 22.262400936766227, 22.141152005731943, 21.06005731746421, 18.60732934724357, 16.992671123701577, 14.835227720921866, 11.278726610401652, 11.324212234570515, 10.697901912930476, 10.708907827417942, 10.485573396375209, 10.419156956643503, 9.922756010412327, 9.294877256497577, 8.44067070336114, 8.103554780507103, 22.996276777093627, 7.193324020233186, 7.1570915958226475, 6.843661286120586, 6.798861057923436, 6.7864008367203965, 6.404074189984847, 6.116496621006766, 6.0833766204108075, 5.6683081336424435, 44.657478834154176, 32.46730358404664, 12.269415117308387, 25.011907806143885, 30.29525021555233, 11.645171359027064, 15.519116174182239, 49.79619118679497, 9.750968344466324, 19.707741481548137, 35.155397278839686, 18.92550204183001, 19.636588868169493, 13.6804592146316, 14.884134054820992, 13.16871348042487, 12.52184260746569, 49.04198314918853, 33.34780229450204, 27.505082061250278, 26.210912679375692, 23.104459482828435, 22.213712961138928, 20.575813446814085, 20.387222986300504, 19.12958449052523, 15.697452466946444, 15.046967246170274, 13.987365975448661, 11.707904547547807, 11.619082163352521, 11.225608729434255, 10.863248955185774, 10.120835799836811, 10.120778181572959, 10.120868663032384, 10.034536349633024, 9.51543908514021, 9.458045495424225, 71.52153980125473, 8.552265971114148, 9.143998048445098, 7.945937183011896, 7.7660356040618, 6.533592031170299, 6.201525245666363, 5.709559462479747, 38.65470323850392, 23.875332119036806, 72.73784934640918, 22.939894526409784, 22.30763681771917, 29.881718837213896, 21.25719113213461, 46.702288314240704, 20.463696274876337, 28.211556766547307, 27.812144641772672, 19.96443902612462, 10.40503772247599, 66.10590712181641, 33.02451917947959, 32.69404674289901, 28.934967807627817, 27.443962302621372, 24.237640936455897, 20.785847162441105, 17.993184828707008, 17.50984079341763, 16.964335660948517, 16.145463670550015, 15.972409317335831, 14.238454881496235, 12.788927914957245, 11.315764641133768, 8.279025529140055, 7.800775964136212, 7.3861439127812805, 7.061149106704516, 6.957216873980459, 6.947805321114822, 6.572762653145728, 6.276921250035446, 5.729176119720784, 5.53843106600983, 5.356911156690401, 5.237958716986014, 4.543417563037328, 4.507296604793585, 4.515649551262678, 19.296643396133735, 48.26571282933218, 5.137836420979196, 9.23774733276122, 27.728000930636213, 44.00451014319882, 35.53586984583409, 14.474495078069111, 8.478176325732049, 8.691855074488826, 40.184725030507984, 21.393039962078706, 20.29960412624327, 18.140708310062642, 32.67106783228897, 14.365647514144971, 13.265857595173522, 13.024620339155272, 12.001632702974403, 11.955854129522379, 11.560828414937044, 10.820349030991327, 19.458094065461967, 8.696617645206857, 8.702347260229493, 8.31757518951029, 8.143571281551631, 7.63098449378911, 7.315552581457381, 7.129954290075545, 7.03898424713371, 6.984120043598509, 7.0716540962328365, 6.8946701848699306, 6.872978508667603, 6.664536545103779, 6.056950018583973, 6.056955417989854, 5.761207476399793, 5.717599180316302, 44.32904747665377, 29.733614215892697, 12.940300312872006, 10.801157271702198, 10.48549508413059, 13.533414400216211, 21.67001830717345, 8.922093784697642, 22.81415171035487, 19.371359768515287, 8.542957430733722, 10.723221168723795, 13.930057367049743, 8.996015401683833, 9.25931784946603, 22.162839281776296, 17.22328727329398, 16.434898820462656, 16.240482331196926, 14.324382088038176, 13.846148590569706, 11.457416992371721, 10.463420035433924, 10.46342978999103, 10.361161303304423, 9.565643935316158, 8.52821297389527, 7.983003233623332, 7.823591657530468, 7.0147111403405376, 6.891252999986051, 48.78226381377365, 6.339511451515231, 6.339269657615368, 6.262913553057281, 6.046246636714992, 5.970462681963886, 5.937306144486604, 5.0543031535232155, 5.052099402418738, 5.05204343818407, 5.0505865527480385, 5.049921276396981, 5.047438506078676, 4.802841001408258, 16.373764004786487, 43.25069910896819, 14.715190543000116, 13.888391884076972, 17.33898126755638, 12.4514277680613, 12.323805172076991, 23.17452581521034, 35.46563698141321, 13.11269738730085, 14.08280183965062, 15.90040873382546, 14.736825005460009, 18.38109479528354, 7.362853407718269, 33.64427000695475, 32.6979497321075, 31.855841101218317, 31.7159058813437, 31.469600232412734, 29.679754198067464, 29.311529826178447, 28.544721085773322, 27.035232729268724, 26.69305966472693, 25.658360211801103, 25.658407476384657, 24.034981563993398, 18.32017505118278, 18.027123664927785, 12.296142516770015, 12.266757124599232, 11.843946238125952, 10.571644442081089, 9.439588099194454, 9.749755403393154, 8.923933267708437, 8.235085266403162, 5.512085812947012, 5.348852745126378, 25.123785167822724, 14.095954628784202, 6.478362100567452, 9.642790390422507, 48.20025758278539, 63.07904417042466, 7.819103289402904, 12.9687974869722, 23.44360676569361, 10.034745541403089], \"Total\": [182.0, 147.0, 122.0, 66.0, 83.0, 78.0, 76.0, 106.0, 77.0, 55.0, 55.0, 51.0, 64.0, 63.0, 59.0, 51.0, 92.0, 38.0, 49.0, 49.0, 41.0, 81.0, 51.0, 166.0, 34.0, 65.0, 52.0, 31.0, 39.0, 43.0, 38.14362026411426, 31.734968665876654, 27.791245587395856, 27.05131449720082, 26.10978688942601, 24.448649922812752, 22.936802845105117, 22.64308402785574, 27.076721120896483, 19.885549128096418, 13.125390253698836, 9.83175291851326, 9.840030395767007, 9.408555097823392, 8.78788976523728, 7.7953734246704975, 7.421055522785654, 7.05589701087884, 5.891176523153797, 55.19230485514119, 13.753967056612936, 33.549411142603, 22.993209241902463, 23.80796537328229, 63.24134819539644, 64.10180436879011, 7.345395575918725, 9.209766531952106, 8.252668194269752, 11.931040176521172, 65.56754768315255, 16.20377689031648, 24.1141400537111, 51.09404709173467, 34.39406396353086, 32.709160020798755, 29.24085981590363, 17.27764858965671, 15.378101014187692, 15.302619177705447, 13.523070844675653, 12.968632208176835, 12.851656306848184, 11.239625553331493, 10.173063497234237, 9.082053411887436, 8.741390207872966, 7.556057037312791, 7.3042418911919595, 7.288626746781961, 7.109766559445527, 6.828343431940147, 6.28078924605454, 5.841939608568638, 5.369281292937832, 29.184655254518344, 4.9217309435149765, 6.8495595455012825, 8.89319632741668, 21.037097040632265, 7.6507390112830205, 13.805972475418175, 16.20377689031648, 83.01764732701966, 36.58304818875309, 65.56754768315255, 81.10947945876552, 64.10180436879011, 24.618400374879748, 30.06427642791919, 28.934095664912363, 182.50583199270147, 22.583085140157102, 44.75157809279482, 20.254587296185658, 34.93844125550365, 21.839793572940874, 20.650644330579393, 20.49156440196387, 19.550813160769824, 16.356083488945053, 15.152524940315482, 14.585924288641984, 13.384696942702815, 12.297232739310497, 11.62310594140702, 10.776445415909489, 10.776614795391097, 10.776689210317311, 9.882193645891581, 9.627113286475945, 8.760453306053426, 8.368661245887164, 8.365035022112554, 7.475413467489947, 7.082737577682273, 6.742009916953424, 5.8095276787214125, 5.6171970329745875, 5.5896040818265735, 5.404482522800269, 6.1966111830353166, 22.340928764765128, 11.497679877811345, 13.682962193818971, 49.2557440289004, 182.50583199270147, 29.409855164799772, 20.36571532483481, 63.24134819539644, 21.00705779026802, 29.32692710591119, 25.244985461257, 16.92856219467335, 16.975821614511307, 16.613382289967717, 16.378923392951183, 15.587244598157412, 11.749603205475543, 10.761558381542544, 10.68125789987078, 9.76952297810927, 9.30826497858302, 8.926981555415725, 8.89967837104341, 9.154844074944588, 8.662868873215928, 8.321737373508508, 7.81708557133705, 7.704553763017377, 7.356224261273603, 7.202496820262176, 7.077168151832646, 6.97568501744121, 6.9748622105922715, 6.514865318326271, 6.481660551938109, 6.453491205366532, 6.14930381869266, 6.1435435899407995, 14.753861506567597, 13.409891188244801, 43.40923534027191, 51.486155992175824, 147.9550442086258, 15.214178479918868, 11.524814096206121, 30.798038714059345, 15.763196950397457, 23.88760203511167, 42.16324869133337, 13.54083654840598, 106.70577926299156, 36.58304818875309, 35.97072163617246, 182.50583199270147, 39.83548861949672, 27.120188399375227, 25.34751182893258, 30.458450787000167, 23.119682303655605, 22.997658241067622, 21.917895688276396, 19.463778557384433, 17.84903037900703, 15.695023854365543, 12.135642055272639, 12.189968183601522, 11.558321182715229, 11.571372528660456, 11.342296803516708, 11.279025255685035, 10.779775859499287, 10.151779079247188, 9.297389750527444, 8.96167216947999, 25.509756718235828, 8.049866227854634, 8.015851598961738, 7.702315786883039, 7.655349617243612, 7.647432528054841, 7.267420896255726, 6.972800819316374, 6.940907483819347, 6.527094044362278, 52.10663906230472, 39.01686674831991, 14.315751024986675, 31.3404203444694, 44.75157809279482, 14.535178805439715, 21.062237423413933, 92.15893413514368, 12.307331532601827, 34.020214432262115, 147.9550442086258, 65.56754768315255, 166.48594206538206, 59.548503842913576, 106.70577926299156, 81.10947945876552, 51.486155992175824, 49.90978027590918, 34.20978873651947, 28.359410713542673, 27.06507189021432, 23.96127813928096, 23.067209691199658, 21.429774750521403, 21.240616059531007, 19.98321283313492, 16.552444337609387, 15.900382132498285, 14.842248540824976, 12.561079907058996, 12.473218547236316, 12.079788595147566, 11.718397327594579, 10.974152580504525, 10.974147354950386, 10.974326149500948, 10.894307654050277, 10.369178898764613, 10.314702936030564, 78.64133669144564, 9.406098734824292, 10.059399351313333, 8.800098161915159, 8.619674817189154, 7.3916076952612695, 7.055847892492529, 6.56348401271591, 46.17469765569715, 29.31005027491051, 106.70577926299156, 29.740607723138815, 33.790540881945844, 50.11768763550745, 36.09794611431087, 166.48594206538206, 40.306007419520654, 77.2816240189285, 83.01764732701966, 92.15893413514368, 16.68322996201664, 66.97615267333241, 33.88301771612758, 33.556479613797705, 29.79362617125901, 28.3024425798622, 25.096217237610077, 21.64939350265008, 18.86056673936107, 18.373560504926516, 17.828134901812824, 17.00435578283951, 16.8331991544085, 15.11497357599745, 13.649738432935573, 12.466474553527558, 9.143368590916525, 8.66065983400166, 8.245639392390755, 7.932108075677287, 7.816965147819233, 7.809868110899955, 7.456775540466446, 7.136509675734796, 6.58830587546032, 6.39951499106829, 6.2157118206344055, 6.227593445785861, 5.402478749779143, 5.365968847465586, 5.3763441315346086, 24.1141400537111, 77.2816240189285, 6.231553805245497, 13.873402152965573, 76.69380815313517, 166.48594206538206, 122.10556185066673, 42.16324869133337, 24.618400374879748, 182.50583199270147, 41.03935260924329, 22.250703786333922, 21.155252910722503, 18.995147245193305, 34.29449654682295, 15.220220275477374, 14.120308855529219, 13.88075612264125, 12.859786997292586, 12.820606586424395, 12.415362365816133, 11.681848631229734, 21.296458690240765, 9.551030186533621, 9.561209058016319, 9.172441240092368, 8.999495897161696, 8.487314922998635, 8.17139531853886, 7.985337868205589, 7.8935966792042915, 7.840758172369927, 7.941026601881716, 7.749250667599576, 7.727687742520641, 7.519628423427886, 6.911604384659718, 6.911616353076397, 6.615838662802128, 6.571968741948759, 51.74601700067188, 35.48970644538167, 16.825396391518325, 13.878043402869865, 15.856069076388982, 25.86851369044912, 92.15893413514368, 13.636246714996926, 122.10556185066673, 147.9550442086258, 14.625875493800056, 33.790540881945844, 166.48594206538206, 23.88760203511167, 43.40923534027191, 23.02027201425002, 18.10549001006844, 17.290456685629845, 17.10236361071042, 15.17775104563646, 14.70417843605245, 12.310751173658362, 11.316601295922268, 11.316714235345655, 11.21526244472313, 10.422212480074165, 9.382041846793781, 8.838624449001177, 8.677543763776342, 7.868112564790091, 7.7457664099908285, 55.20295013983397, 7.193439467718609, 7.193226164533111, 7.11658911369362, 6.908405336987907, 6.823876187260688, 6.7911274310043925, 5.918628968429494, 5.918571451258965, 5.918572140279014, 5.918601681808505, 5.918454051840028, 5.918533270747891, 5.656374561865853, 19.737103372760323, 59.548503842913576, 18.81052341432768, 18.69435506823633, 26.636793259164, 18.49949368589696, 21.247521965869236, 81.10947945876552, 182.50583199270147, 30.06427642791919, 36.09794611431087, 50.11768763550745, 49.2557440289004, 166.48594206538206, 12.03097850460815, 34.49700513501688, 33.55208848631626, 32.70954608151084, 32.56977708945673, 32.326261906977656, 30.53229365873554, 30.164079903469272, 29.397344145137918, 27.888976519019437, 27.545472452621258, 26.51078036870611, 26.5108336524669, 24.919291981711797, 19.174421828789672, 18.880812716504625, 13.150251086382541, 13.120173317734345, 12.699235395994029, 11.424781042057347, 10.2920040131529, 10.63240911757113, 9.840806016129097, 9.089144393336595, 6.3645095057799, 6.201449517947802, 35.97072163617246, 21.00705779026802, 10.102298598360877, 15.20996447518112, 76.69380815313517, 122.10556185066673, 12.905411650039609, 40.306007419520654, 166.48594206538206, 34.020214432262115], \"Category\": [\"Default\", \"Default\", \"Default\", \"Default\", \"Default\", \"Default\", \"Default\", \"Default\", \"Default\", \"Default\", \"Default\", \"Default\", \"Default\", \"Default\", \"Default\", \"Default\", \"Default\", \"Default\", \"Default\", \"Default\", \"Default\", \"Default\", \"Default\", \"Default\", \"Default\", \"Default\", \"Default\", \"Default\", \"Default\", \"Default\", \"Topic1\", \"Topic1\", \"Topic1\", \"Topic1\", \"Topic1\", \"Topic1\", \"Topic1\", \"Topic1\", \"Topic1\", \"Topic1\", \"Topic1\", \"Topic1\", \"Topic1\", \"Topic1\", \"Topic1\", \"Topic1\", \"Topic1\", \"Topic1\", \"Topic1\", \"Topic1\", \"Topic1\", \"Topic1\", \"Topic1\", \"Topic1\", \"Topic1\", \"Topic1\", \"Topic1\", \"Topic1\", \"Topic1\", \"Topic1\", \"Topic1\", \"Topic1\", \"Topic1\", \"Topic2\", \"Topic2\", \"Topic2\", \"Topic2\", \"Topic2\", \"Topic2\", \"Topic2\", \"Topic2\", \"Topic2\", \"Topic2\", \"Topic2\", \"Topic2\", \"Topic2\", \"Topic2\", \"Topic2\", \"Topic2\", \"Topic2\", \"Topic2\", \"Topic2\", \"Topic2\", \"Topic2\", \"Topic2\", \"Topic2\", \"Topic2\", \"Topic2\", \"Topic2\", \"Topic2\", \"Topic2\", \"Topic2\", \"Topic2\", \"Topic2\", \"Topic2\", \"Topic2\", \"Topic2\", \"Topic2\", \"Topic2\", \"Topic2\", \"Topic2\", \"Topic2\", \"Topic2\", \"Topic2\", \"Topic2\", \"Topic3\", \"Topic3\", \"Topic3\", \"Topic3\", \"Topic3\", \"Topic3\", \"Topic3\", \"Topic3\", \"Topic3\", \"Topic3\", \"Topic3\", \"Topic3\", \"Topic3\", \"Topic3\", \"Topic3\", \"Topic3\", \"Topic3\", \"Topic3\", \"Topic3\", \"Topic3\", \"Topic3\", \"Topic3\", \"Topic3\", \"Topic3\", \"Topic3\", \"Topic3\", \"Topic3\", \"Topic3\", \"Topic3\", \"Topic3\", \"Topic3\", \"Topic3\", \"Topic3\", \"Topic3\", \"Topic3\", \"Topic3\", \"Topic4\", \"Topic4\", \"Topic4\", \"Topic4\", \"Topic4\", \"Topic4\", \"Topic4\", \"Topic4\", \"Topic4\", \"Topic4\", \"Topic4\", \"Topic4\", \"Topic4\", \"Topic4\", \"Topic4\", \"Topic4\", \"Topic4\", \"Topic4\", \"Topic4\", \"Topic4\", \"Topic4\", \"Topic4\", \"Topic4\", \"Topic4\", \"Topic4\", \"Topic4\", \"Topic4\", \"Topic4\", \"Topic4\", \"Topic4\", \"Topic4\", \"Topic4\", \"Topic4\", \"Topic4\", \"Topic4\", \"Topic4\", \"Topic4\", \"Topic4\", \"Topic4\", \"Topic4\", \"Topic4\", \"Topic4\", \"Topic4\", \"Topic4\", \"Topic4\", \"Topic5\", \"Topic5\", \"Topic5\", \"Topic5\", \"Topic5\", \"Topic5\", \"Topic5\", \"Topic5\", \"Topic5\", \"Topic5\", \"Topic5\", \"Topic5\", \"Topic5\", \"Topic5\", \"Topic5\", \"Topic5\", \"Topic5\", \"Topic5\", \"Topic5\", \"Topic5\", \"Topic5\", \"Topic5\", \"Topic5\", \"Topic5\", \"Topic5\", \"Topic5\", \"Topic5\", \"Topic5\", \"Topic5\", \"Topic5\", \"Topic5\", \"Topic5\", \"Topic5\", \"Topic5\", \"Topic5\", \"Topic5\", \"Topic5\", \"Topic5\", \"Topic5\", \"Topic5\", \"Topic5\", \"Topic5\", \"Topic5\", \"Topic5\", \"Topic5\", \"Topic5\", \"Topic5\", \"Topic6\", \"Topic6\", \"Topic6\", \"Topic6\", \"Topic6\", \"Topic6\", \"Topic6\", \"Topic6\", \"Topic6\", \"Topic6\", \"Topic6\", \"Topic6\", \"Topic6\", \"Topic6\", \"Topic6\", \"Topic6\", \"Topic6\", \"Topic6\", \"Topic6\", \"Topic6\", \"Topic6\", \"Topic6\", \"Topic6\", \"Topic6\", \"Topic6\", \"Topic6\", \"Topic6\", \"Topic6\", \"Topic6\", \"Topic6\", \"Topic6\", \"Topic6\", \"Topic6\", \"Topic6\", \"Topic6\", \"Topic6\", \"Topic6\", \"Topic6\", \"Topic6\", \"Topic6\", \"Topic6\", \"Topic6\", \"Topic6\", \"Topic7\", \"Topic7\", \"Topic7\", \"Topic7\", \"Topic7\", \"Topic7\", \"Topic7\", \"Topic7\", \"Topic7\", \"Topic7\", \"Topic7\", \"Topic7\", \"Topic7\", \"Topic7\", \"Topic7\", \"Topic7\", \"Topic7\", \"Topic7\", \"Topic7\", \"Topic7\", \"Topic7\", \"Topic7\", \"Topic7\", \"Topic7\", \"Topic7\", \"Topic7\", \"Topic7\", \"Topic7\", \"Topic7\", \"Topic7\", \"Topic7\", \"Topic7\", \"Topic7\", \"Topic7\", \"Topic7\", \"Topic7\", \"Topic7\", \"Topic7\", \"Topic7\", \"Topic7\", \"Topic8\", \"Topic8\", \"Topic8\", \"Topic8\", \"Topic8\", \"Topic8\", \"Topic8\", \"Topic8\", \"Topic8\", \"Topic8\", \"Topic8\", \"Topic8\", \"Topic8\", \"Topic8\", \"Topic8\", \"Topic8\", \"Topic8\", \"Topic8\", \"Topic8\", \"Topic8\", \"Topic8\", \"Topic8\", \"Topic8\", \"Topic8\", \"Topic8\", \"Topic8\", \"Topic8\", \"Topic8\", \"Topic8\", \"Topic8\", \"Topic8\", \"Topic8\", \"Topic8\", \"Topic8\", \"Topic8\", \"Topic8\", \"Topic8\", \"Topic8\", \"Topic8\", \"Topic8\", \"Topic8\", \"Topic8\", \"Topic8\", \"Topic8\", \"Topic8\", \"Topic9\", \"Topic9\", \"Topic9\", \"Topic9\", \"Topic9\", \"Topic9\", \"Topic9\", \"Topic9\", \"Topic9\", \"Topic9\", \"Topic9\", \"Topic9\", \"Topic9\", \"Topic9\", \"Topic9\", \"Topic9\", \"Topic9\", \"Topic9\", \"Topic9\", \"Topic9\", \"Topic9\", \"Topic9\", \"Topic9\", \"Topic9\", \"Topic9\", \"Topic9\", \"Topic9\", \"Topic9\", \"Topic9\", \"Topic9\", \"Topic9\", \"Topic9\", \"Topic9\", \"Topic9\", \"Topic9\", \"Topic9\", \"Topic9\", \"Topic9\", \"Topic9\", \"Topic9\", \"Topic9\", \"Topic9\", \"Topic9\", \"Topic9\", \"Topic9\", \"Topic10\", \"Topic10\", \"Topic10\", \"Topic10\", \"Topic10\", \"Topic10\", \"Topic10\", \"Topic10\", \"Topic10\", \"Topic10\", \"Topic10\", \"Topic10\", \"Topic10\", \"Topic10\", \"Topic10\", \"Topic10\", \"Topic10\", \"Topic10\", \"Topic10\", \"Topic10\", \"Topic10\", \"Topic10\", \"Topic10\", \"Topic10\", \"Topic10\", \"Topic10\", \"Topic10\", \"Topic10\", \"Topic10\", \"Topic10\", \"Topic10\", \"Topic10\", \"Topic10\", \"Topic10\", \"Topic10\"], \"logprob\": [30.0, 29.0, 28.0, 27.0, 26.0, 25.0, 24.0, 23.0, 22.0, 21.0, 20.0, 19.0, 18.0, 17.0, 16.0, 15.0, 14.0, 13.0, 12.0, 11.0, 10.0, 9.0, 8.0, 7.0, 6.0, 5.0, 4.0, 3.0, 2.0, 1.0, -2.8047, -2.9957, -3.1298, -3.1576, -3.1942, -3.2622, -3.3284, -3.3419, -3.1663, -3.4771, -3.9174, -4.228, -4.2272, -4.2764, -4.3514, -4.4853, -4.5403, -4.5987, -4.8054, -2.5742, -4.016, -3.1343, -3.5843, -3.5723, -2.657, -2.9053, -5.0879, -5.0314, -5.1679, -4.8592, -4.2188, -5.0039, -5.0221, -2.7887, -3.1911, -3.243, -3.3582, -3.905, -4.0279, -4.0335, -4.1648, -4.2093, -4.2197, -4.3636, -4.4717, -4.5968, -4.6385, -4.8014, -4.8397, -4.8421, -4.8716, -4.9166, -5.013, -5.0969, -5.1965, -3.5072, -5.3008, -4.9914, -4.7485, -3.8942, -4.9364, -4.3694, -4.2775, -2.7066, -3.5071, -3.0952, -3.0572, -3.3151, -4.0408, -3.9192, -4.0435, -3.241, -4.3075, -4.0873, -4.4512, -2.889, -3.3733, -3.4316, -3.4396, -3.4888, -3.6761, -3.7568, -3.7973, -3.8888, -3.9795, -4.0414, -4.122, -4.122, -4.1221, -4.2165, -4.2452, -4.3493, -4.4, -4.4024, -4.527, -4.5879, -4.6438, -4.8161, -4.8557, -4.8616, -4.9014, -4.7659, -3.5515, -4.2405, -4.0882, -2.898, -1.9288, -3.6681, -4.0346, -4.337, -4.6155, -3.2936, -3.4479, -3.8648, -3.8621, -3.8846, -3.8996, -3.9521, -4.2542, -4.3489, -4.3569, -4.4544, -4.5075, -4.5537, -4.5574, -4.5316, -4.5874, -4.6316, -4.7016, -4.7182, -4.7704, -4.7944, -4.8143, -4.8304, -4.8309, -4.9093, -4.9147, -4.92, -4.9756, -4.9766, -4.1053, -4.2109, -3.139, -2.9992, -2.1219, -4.2046, -4.4592, -3.7886, -4.279, -4.0398, -3.7776, -4.4831, -3.7289, -4.2106, -4.3307, -4.3752, -3.2915, -3.6868, -3.7562, -3.5742, -3.8516, -3.857, -3.9071, -4.0309, -4.1217, -4.2575, -4.5316, -4.5275, -4.5844, -4.5834, -4.6045, -4.6108, -4.6596, -4.725, -4.8214, -4.8622, -3.8191, -4.9813, -4.9864, -5.0312, -5.0377, -5.0396, -5.0975, -5.1435, -5.1489, -5.2196, -3.1555, -3.4742, -4.4474, -3.7351, -3.5435, -4.4996, -4.2124, -3.0465, -4.6771, -3.9735, -3.3947, -4.014, -3.9771, -4.3385, -4.2542, -4.3766, -4.427, -3.11, -3.4957, -3.6883, -3.7365, -3.8627, -3.902, -3.9786, -3.9878, -4.0515, -4.2492, -4.2915, -4.3646, -4.5424, -4.5501, -4.5845, -4.6173, -4.6881, -4.6881, -4.6881, -4.6967, -4.7498, -4.7558, -2.7327, -4.8565, -4.7896, -4.93, -4.9529, -5.1257, -5.1779, -5.2606, -3.348, -3.8299, -2.7158, -3.8698, -3.8978, -3.6055, -3.946, -3.1589, -3.9841, -3.663, -3.6772, -4.0088, -4.6604, -2.4754, -3.1694, -3.1794, -3.3016, -3.3545, -3.4787, -3.6324, -3.7766, -3.8039, -3.8355, -3.885, -3.8958, -4.0107, -4.1181, -4.2404, -4.5529, -4.6124, -4.667, -4.712, -4.7269, -4.7282, -4.7837, -4.8298, -4.9211, -4.9549, -4.9882, -5.0107, -5.153, -5.1609, -5.1591, -3.7067, -2.7899, -5.03, -4.4433, -3.3442, -2.8823, -3.0961, -3.9942, -4.5291, -4.5042, -2.9674, -3.5978, -3.6503, -3.7627, -3.1744, -3.996, -4.0757, -4.094, -4.1758, -4.1797, -4.2133, -4.2795, -3.6926, -4.4979, -4.4973, -4.5425, -4.5637, -4.6287, -4.6709, -4.6966, -4.7094, -4.7172, -4.7048, -4.7301, -4.7333, -4.7641, -4.8597, -4.8597, -4.9097, -4.9173, -2.8692, -3.2686, -4.1005, -4.2812, -4.3109, -4.0557, -3.585, -4.4724, -3.5335, -3.6971, -4.5158, -4.2885, -4.0268, -4.4641, -4.4353, -3.4371, -3.6892, -3.7361, -3.748, -3.8735, -3.9075, -4.0968, -4.1876, -4.1876, -4.1974, -4.2773, -4.3921, -4.4582, -4.4783, -4.5875, -4.6052, -2.6481, -4.6887, -4.6887, -4.7008, -4.736, -4.7486, -4.7542, -4.9152, -4.9157, -4.9157, -4.916, -4.9161, -4.9166, -4.9663, -3.7398, -2.7685, -3.8466, -3.9044, -3.6825, -4.0136, -4.0239, -3.3924, -2.9669, -3.9619, -3.8905, -3.7691, -3.8451, -3.6242, -4.539, -3.1814, -3.2099, -3.236, -3.2404, -3.2482, -3.3068, -3.3193, -3.3458, -3.4001, -3.4128, -3.4524, -3.4524, -3.5177, -3.7892, -3.8054, -4.1879, -4.1903, -4.2254, -4.3391, -4.4523, -4.42, -4.5085, -4.5888, -4.9903, -5.0204, -3.4734, -4.0513, -4.8288, -4.431, -2.8219, -2.5528, -4.6407, -4.1347, -3.5426, -4.3912], \"loglift\": [30.0, 29.0, 28.0, 27.0, 26.0, 25.0, 24.0, 23.0, 22.0, 21.0, 20.0, 19.0, 18.0, 17.0, 16.0, 15.0, 14.0, 13.0, 12.0, 11.0, 10.0, 9.0, 8.0, 7.0, 6.0, 5.0, 4.0, 3.0, 2.0, 1.0, 2.5442, 2.5371, 2.5357, 2.5348, 2.5336, 2.5314, 2.5291, 2.5285, 2.5253, 2.5231, 2.4982, 2.4766, 2.4766, 2.4722, 2.4654, 2.4514, 2.4455, 2.4376, 2.4113, 2.4051, 2.3529, 2.3428, 2.2706, 2.2479, 2.1862, 1.9244, 1.9082, 1.7386, 1.7117, 1.6519, 0.5883, 1.201, 0.7853, 2.2678, 2.2612, 2.2596, 2.2564, 2.2358, 2.2293, 2.2286, 2.221, 2.2184, 2.217, 2.2072, 2.1988, 2.187, 2.1836, 2.1665, 2.162, 2.1618, 2.1571, 2.1525, 2.1397, 2.1282, 2.113, 2.1093, 2.0957, 2.0746, 2.0564, 2.0497, 2.019, 1.9957, 1.9274, 1.8645, 1.8835, 1.7119, 1.5372, 1.5147, 1.7459, 1.6677, 1.5817, 0.5424, 1.5655, 1.1017, 1.5306, 2.5476, 2.5332, 2.5309, 2.5306, 2.5284, 2.5195, 2.5152, 2.5128, 2.5072, 2.5013, 2.4958, 2.4908, 2.4908, 2.4908, 2.483, 2.4804, 2.4707, 2.4657, 2.4638, 2.4515, 2.4446, 2.4381, 2.4146, 2.4086, 2.4077, 2.4016, 2.4003, 2.3322, 2.3076, 2.2858, 2.1952, 1.8546, 1.9408, 1.9417, 0.5062, 1.3298, 2.3181, 2.3137, 2.2964, 2.2963, 2.2954, 2.2946, 2.2916, 2.2722, 2.2653, 2.2648, 2.2566, 2.2518, 2.2474, 2.2467, 2.2443, 2.2437, 2.2397, 2.2323, 2.2302, 2.2242, 2.2214, 2.219, 2.2173, 2.217, 2.2068, 2.2065, 2.2056, 2.1982, 2.1982, 2.1934, 2.1833, 2.0805, 2.0497, 1.8714, 2.0633, 2.0865, 1.7741, 1.9535, 1.7771, 1.4711, 1.9014, 0.5912, 1.18, 1.0768, -0.5918, 2.014, 2.0031, 2.0013, 1.9996, 1.9979, 1.9978, 1.9958, 1.9907, 1.9865, 1.9794, 1.9625, 1.962, 1.9584, 1.9583, 1.9572, 1.9564, 1.9529, 1.9475, 1.939, 1.9351, 1.932, 1.9232, 1.9224, 1.9175, 1.9171, 1.9163, 1.9092, 1.9047, 1.9038, 1.8946, 1.8814, 1.852, 1.8815, 1.8102, 1.6456, 1.814, 1.7303, 1.4201, 1.8029, 1.4898, 0.5986, 0.7931, -0.1018, 0.5649, 0.0659, 0.2178, 0.6219, 1.9699, 1.962, 1.9569, 1.9554, 1.9511, 1.9498, 1.9468, 1.9465, 1.9438, 1.9345, 1.9323, 1.9282, 1.9171, 1.9166, 1.9142, 1.9117, 1.9065, 1.9065, 1.9065, 1.9053, 1.9016, 1.9008, 1.8926, 1.8923, 1.8921, 1.8854, 1.8832, 1.8641, 1.8584, 1.8481, 1.8097, 1.7824, 1.6043, 1.7279, 1.5722, 1.4704, 1.4579, 0.7164, 1.3096, 0.9798, 0.8939, 0.4579, 1.5154, 2.3105, 2.2979, 2.2975, 2.2943, 2.2928, 2.2887, 2.2829, 2.2765, 2.2754, 2.2739, 2.2717, 2.2711, 2.2638, 2.2584, 2.2267, 2.2243, 2.219, 2.2135, 2.2072, 2.207, 2.2066, 2.1974, 2.1952, 2.1838, 2.179, 2.1749, 2.1505, 2.1504, 2.1492, 2.1491, 2.1007, 1.8528, 2.1306, 1.9169, 1.3062, 0.9929, 1.0892, 1.2544, 1.2576, -0.7208, 2.3083, 2.29, 2.288, 2.2833, 2.2808, 2.2715, 2.2669, 2.2656, 2.2602, 2.2595, 2.258, 2.2527, 2.239, 2.2356, 2.2352, 2.2315, 2.2294, 2.223, 2.2187, 2.216, 2.2147, 2.2136, 2.2134, 2.2125, 2.2121, 2.2086, 2.1973, 2.1973, 2.191, 2.19, 2.1746, 2.1523, 2.0668, 2.0787, 1.9158, 1.6814, 0.8817, 1.9051, 0.6518, 0.2962, 1.7916, 1.1815, -0.1516, 1.3527, 0.7843, 2.4168, 2.4048, 2.404, 2.403, 2.3969, 2.3946, 2.3829, 2.3763, 2.3763, 2.3755, 2.369, 2.3593, 2.3529, 2.3511, 2.3399, 2.3378, 2.3311, 2.3284, 2.3283, 2.3269, 2.3214, 2.3211, 2.3204, 2.2969, 2.2964, 2.2964, 2.2961, 2.296, 2.2955, 2.2911, 2.2679, 2.1349, 2.2092, 2.1576, 2.0254, 2.0588, 1.91, 1.202, 0.8165, 1.625, 1.5134, 1.3067, 1.248, 0.2511, 1.9637, 2.2679, 2.2672, 2.2665, 2.2664, 2.2661, 2.2646, 2.2643, 2.2635, 2.2619, 2.2615, 2.2603, 2.2603, 2.2568, 2.2474, 2.2467, 2.2258, 2.2257, 2.2232, 2.2154, 2.2065, 2.2063, 2.1952, 2.1943, 2.1492, 2.1451, 1.9341, 1.894, 1.8487, 1.8372, 1.8285, 1.6325, 1.7919, 1.159, 0.3326, 1.0721]}, \"token.table\": {\"Topic\": [4, 3, 8, 2, 10, 4, 3, 7, 4, 8, 4, 5, 8, 9, 1, 9, 6, 9, 7, 2, 1, 2, 6, 7, 1, 2, 1, 4, 6, 6, 3, 9, 8, 4, 8, 10, 4, 8, 2, 3, 7, 7, 3, 8, 7, 7, 3, 10, 5, 5, 6, 8, 9, 3, 1, 7, 6, 7, 6, 2, 3, 5, 2, 5, 9, 2, 3, 6, 1, 6, 7, 9, 10, 3, 10, 8, 1, 4, 9, 7, 10, 5, 10, 3, 9, 10, 8, 3, 4, 1, 2, 5, 6, 9, 5, 4, 7, 7, 6, 7, 10, 5, 6, 10, 1, 9, 5, 10, 7, 6, 4, 2, 3, 10, 5, 2, 3, 5, 10, 2, 4, 5, 7, 4, 6, 10, 9, 9, 5, 5, 2, 5, 1, 6, 5, 7, 2, 4, 5, 9, 10, 9, 2, 3, 5, 9, 5, 10, 4, 6, 7, 1, 7, 8, 5, 8, 3, 7, 6, 8, 10, 7, 9, 10, 4, 5, 6, 5, 2, 5, 9, 6, 2, 6, 8, 6, 4, 4, 8, 2, 5, 1, 2, 3, 6, 4, 3, 4, 4, 5, 8, 6, 4, 2, 4, 3, 8, 2, 2, 2, 7, 5, 3, 5, 7, 10, 2, 5, 8, 8, 6, 9, 9, 2, 7, 3, 5, 3, 3, 2, 4, 1, 6, 1, 3, 8, 2, 1, 4, 9, 7, 4, 5, 6, 5, 8, 4, 5, 6, 6, 8, 7, 10, 1, 3, 5, 10, 9, 10, 5, 2, 9, 6, 5, 6, 4, 1, 2, 7, 8, 10, 1, 8, 6, 4, 3, 3, 8, 1, 1, 2, 8, 10, 1, 10, 2, 8, 2, 8, 10, 6, 9, 8, 9, 5, 4, 9, 5, 3, 4, 9, 4, 9, 5, 9, 4, 1, 4, 1, 4, 1, 2, 8, 5, 8, 3, 5, 7, 6, 7, 7, 10, 5, 8, 5, 1, 10, 6, 7, 8, 2, 2, 4, 10, 3, 8, 9, 8, 8, 1, 2, 3, 4, 7, 9, 10, 5, 9, 8, 5, 7, 1, 2, 3, 2, 3, 6, 6, 2, 4, 6, 8, 4, 3, 9, 4, 6, 8, 5, 9, 5, 6, 2, 6, 3, 10, 7, 8, 6, 1, 2, 1, 2, 3, 5, 4, 10, 4, 4, 7, 5, 8, 5, 5, 6, 4, 6, 8, 5, 9, 10, 7, 10, 6, 8, 6, 8, 6, 5, 3, 8, 4, 2, 4, 7, 3, 5, 6, 7, 8, 9, 10, 9, 6, 5, 7, 9, 5, 4, 1, 2, 3, 6, 1, 5, 4, 7, 1, 7, 6, 2, 8, 10, 3, 2, 5, 9, 10, 3, 6, 8, 3, 9, 2, 4, 8, 10, 2, 3, 4, 8, 2, 4, 9, 1, 6, 9, 2, 6, 4, 4, 9, 7, 2, 6, 9, 1, 9, 6, 8, 7, 2, 8, 7, 2, 4, 5, 8, 2, 8, 9, 4, 9, 8, 8, 7, 2, 5, 3, 10, 6, 9, 4, 10, 4, 8, 7, 1, 6, 9, 6, 10, 9], \"Freq\": [0.9212322874071177, 0.9615475498824603, 0.9033131460397493, 0.9260519402841902, 0.9614084067143919, 0.8477967276284496, 0.9463907543690864, 0.8963019478178318, 0.7602068947154436, 0.20732915310421188, 0.9362018280646096, 0.9506218880046203, 0.21396833351028083, 0.748889167285983, 0.9565762124390483, 0.8431005224757042, 0.9112176787688003, 0.8935279289485591, 0.9409353817535923, 0.8786904261338846, 0.850352547769497, 0.48709022402080343, 0.26568557673862003, 0.22140464728218337, 0.8515679880258149, 0.12682927481235542, 0.9611362879497184, 0.8602320474357456, 0.9179105563704371, 0.9415922750990867, 0.9348596751887291, 0.9594891698013855, 0.9416317868212305, 0.820290026636657, 0.07457182060333245, 0.9405206185561454, 0.9256887107742652, 0.9331414278110828, 0.5686803279991088, 0.040620023428507776, 0.3249601874280622, 0.9107045291185398, 0.8471300728274922, 0.9058337025554708, 0.8749510555603759, 0.9535489883617262, 0.296962119144524, 0.593924238289048, 0.8926905435399574, 0.542540996911694, 0.2170163987646776, 0.23871803864114535, 0.8839584340310489, 0.968492783074283, 0.1658777792237468, 0.7879194513127974, 0.8188317582158524, 0.1705899496283026, 0.9432533056896134, 0.9754130231139164, 0.7308359007611172, 0.21925077022833517, 0.13759720652707144, 0.8255832391624286, 0.8447902422453673, 0.9575641816377525, 0.913194753800245, 0.9112325246379207, 0.5445588271806179, 0.4084191203854634, 0.8044130976924339, 0.8341180803661609, 0.9125301046476855, 0.9559474048410855, 0.9146220640073235, 0.9413035470084414, 0.9591572177067809, 0.1594851952771791, 0.7974259763858955, 0.9539812658859023, 0.9681244480802951, 0.9468384968896837, 0.8744652633732212, 0.6902748231769837, 0.3045330102251399, 0.9825059567373836, 0.9365484045062483, 0.9239384231436556, 0.9292334479317871, 0.1372630259635672, 0.5643035511835541, 0.28977749925641966, 0.9606477346694428, 0.8340933467120553, 0.8695796677686614, 0.8594512530967747, 0.9523992026566741, 0.9543721696567522, 0.8725408822547724, 0.6487233557254133, 0.28832149143351704, 0.14886118432792558, 0.4962039477597519, 0.32253256604383873, 0.7140467374451784, 0.2520164955688865, 0.8382375454179967, 0.06985312878483306, 0.8023681021242536, 0.9112320907370016, 0.8411705015209758, 0.7842379659208643, 0.13070632765347737, 0.9801973825804048, 0.9515701691333983, 0.2455106496506307, 0.5401234292313876, 0.19640851972050458, 0.958972617656996, 0.8846892582993158, 0.8156358189875527, 0.9153398835910334, 0.8954881936441601, 0.723009790802629, 0.19718448840071698, 0.9783076756937354, 0.921919867854232, 0.8792656600659372, 0.8866014370310626, 0.9064209334701636, 0.31283812988606213, 0.6703674211844188, 0.8487269020625591, 0.9141486424550997, 0.9088175808009488, 0.9700040787484143, 0.46850257520538596, 0.07397409082190304, 0.16027719678078994, 0.28356734815062834, 0.9427277930139201, 0.8835057302278619, 0.20401324543690078, 0.5440353211650687, 0.23801545300971758, 0.8836575344934453, 0.9524326890044622, 0.9449387798406664, 0.42691207529508723, 0.21345603764754362, 0.3320427252295123, 0.4846917270680292, 0.2423458635340146, 0.2423458635340146, 0.9143932478580152, 0.8681037391968911, 0.8945101904785749, 0.9733625518861951, 0.9553318734367987, 0.8766066152155179, 0.963109225479341, 0.9854253695626044, 0.922402795902028, 0.9533487922511585, 0.7380624804418247, 0.25249505909851894, 0.9106119625651963, 0.9192452198819547, 0.033586066331337476, 0.23510246431936233, 0.7221004261237558, 0.9281092581412221, 0.9785875820372888, 0.17830189139034483, 0.7726415293581609, 0.9598820174076989, 0.87385431521382, 0.0291591975591384, 0.9622535194515672, 0.07840137489709127, 0.9016158113165497, 0.9816492966184557, 0.855880124585039, 0.9718265856135809, 0.9507980602846496, 0.9209706888524682, 0.7827666186261228, 0.17394813747247173, 0.9234815991195017, 0.797691917505239, 0.19144606020125737, 0.9620612317948067, 0.9630790239301169, 0.9783192224946217, 0.8989088893402413, 0.14088592160363325, 0.8453155296217996, 0.9312233290098724, 0.9264091000680766, 0.9151862357997438, 0.9834166271253051, 0.8256023815947252, 0.8945177380731584, 0.5878857712617344, 0.11757715425234687, 0.2939428856308672, 0.8080962866295296, 0.1901403027363599, 0.8721778412743953, 0.8814981174274459, 0.8946856254220567, 0.8896669871406128, 0.8448152095470803, 0.9337317862761108, 0.9237171478080786, 0.1537796471127032, 0.8201581179344171, 0.8606551645004681, 0.9279287733774738, 0.6560415599096644, 0.3006857149585962, 0.7393487277547784, 0.21745550816317014, 0.8979685280818838, 0.9107289659054248, 0.9425831458571042, 0.7960782959149434, 0.43432154182437877, 0.43432154182437877, 0.9521103175457998, 0.9739392245541552, 0.16868814533125184, 0.14057345444270988, 0.6841241449545215, 0.2933358484634092, 0.6600056590426707, 0.05086383533502562, 0.02543191766751281, 0.9155490360304612, 0.7733533966121855, 0.20174436433361362, 0.9505026259853706, 0.9864836720223369, 0.9154013607332357, 0.8901236632164653, 0.8816556446397589, 0.9835453317148523, 0.9037194810020469, 0.9807331070001603, 0.9521167114769132, 0.5321930843192222, 0.43240688100936797, 0.9666246068350063, 0.812523817491244, 0.1625047634982488, 0.8131001731937516, 0.10279374465235605, 0.8223499572188484, 0.2948268650041303, 0.18836160819708322, 0.515947013757228, 0.97001804610586, 0.9476104484820392, 0.9646361821805698, 0.8601305800073086, 0.9760113775443733, 0.925157955254023, 0.9069144980416903, 0.9715990972314279, 0.24685602789251163, 0.6788540767044069, 0.966544483070444, 0.8801708558910051, 0.7997692560061191, 0.14541259200111256, 0.7243242022831213, 0.2172972606849364, 0.8808580655921772, 0.9453916757413491, 0.9387506001862167, 0.5817505498373671, 0.38783369989157807, 0.10868984329282162, 0.8876337202247099, 0.9790265251299615, 0.3324750350495519, 0.5818313113367158, 0.9581211763514612, 0.9598294714104446, 0.9297293215508805, 0.8447984519873335, 0.1519979879185502, 0.810655935565601, 0.860456559815206, 0.9253659571234837, 0.9768651831466373, 0.914258530074434, 0.9451481948676346, 0.9146313210446614, 0.8330444496859348, 0.9432620438571249, 0.7871185727025751, 0.11244551038608215, 0.13527611216741786, 0.8503069907666265, 0.9279351809323985, 0.9566191378874361, 0.9299999921271435, 0.9537347730615721, 0.9255010952526936, 0.36508814302312603, 0.6258653880396446, 0.873269659945636, 0.9206597485230977, 0.8865441150505613, 0.9554677055990765, 0.8062631140557299, 0.3623112267043197, 0.6211049600645481, 0.9423067275705462, 0.9613201135538236, 0.25975680056366673, 0.5519832011977918, 0.1623480003522917, 0.9279497658139476, 0.930897061108904, 0.8447941369949034, 0.8681052424408114, 0.9129684323819295, 0.9103436904324885, 0.17533686266683085, 0.48765564929212324, 0.05479276958338464, 0.049313492625046175, 0.19177469354184623, 0.03835493870836924, 0.863613558844062, 0.13433988693129853, 0.8867947381250837, 0.9516953047169026, 0.8823665385726392, 0.5304062862940863, 0.46800554673007616, 0.8368165801453129, 0.4937153176102087, 0.24685765880510435, 0.24685765880510435, 0.9433735538557892, 0.8127221999549818, 0.5442153624667595, 0.041862720189750735, 0.3767644817077566, 0.9362193192733395, 0.8068926470146583, 0.9592794561106823, 0.6646561287278425, 0.14770136193952055, 0.14770136193952055, 0.902381354431891, 0.883648715699373, 0.9586954049551871, 0.9470199567663301, 0.3596425880156561, 0.5994043133594268, 0.2856182936184253, 0.666442685109659, 0.8489335595320532, 0.9359931543883948, 0.9090807685103102, 0.976840416210433, 0.9885426751561345, 0.6799349037775593, 0.04743731886820181, 0.12649951698187148, 0.14231195660460544, 0.2780038749610159, 0.6950096874025399, 0.8138625415121667, 0.8961595753658352, 0.9262338388888733, 0.8644402787369242, 0.8927708068675453, 0.9761722239072393, 0.9557169290843592, 0.9568260182810129, 0.11597110046208901, 0.347913301386267, 0.5411984688230821, 0.759653387166433, 0.23739168348951034, 0.9825662079408422, 0.931798178880886, 0.9855928034021602, 0.8446184161465339, 0.1515981772570702, 0.6510697794646583, 0.32553488973232914, 0.9873265803308444, 0.9276630729931051, 0.3153366686227055, 0.630673337245411, 0.9547539671947515, 0.8897093548668923, 0.8811252562058498, 0.06777886586198845, 0.9364030538835763, 0.1201302629632575, 0.2823061179636551, 0.2642865785191665, 0.08409118407428025, 0.10811723666693175, 0.13814980240774613, 0.868507232468792, 0.9817715030825668, 0.1877102829665813, 0.15016822637326505, 0.6382149620863764, 0.8604863605709951, 0.9506838511288647, 0.41907494451652155, 0.08381498890330431, 0.08381498890330431, 0.41907494451652155, 0.8047831267510334, 0.17884069483356296, 0.9623253106436251, 0.9375710516147103, 0.9574953677666571, 0.8407471260637256, 0.8503584673904382, 0.9148760638568822, 0.32873186575542346, 0.6574637315108469, 0.9782292937557009, 0.4838582191105921, 0.31105171228538064, 0.17280650682521148, 0.0345613013650423, 0.973140151026176, 0.3418598771827035, 0.6153477789288663, 0.8899423278676037, 0.9556794110157147, 0.8232003377932736, 0.697827987216936, 0.2537556317152494, 0.9807311358381458, 0.821440484773003, 0.8056961368763057, 0.17904358597251238, 0.8566468426902251, 0.0867692955090002, 0.7809236595810017, 0.0867692955090002, 0.07981214195457163, 0.5985910646592872, 0.31924856781828653, 0.6504641090018541, 0.3372776861491095, 0.8954743984979437, 0.2702776673186324, 0.6486664015647178, 0.9796685838421817, 0.9253096091686444, 0.9799449711663, 0.9389417237835773, 0.9602344347349531, 0.8447983536387695, 0.9643965156384179, 0.8889386796123857, 0.9563194234720264, 0.1441125338739333, 0.7926189363066332, 0.8028783579929163, 0.006758809781368035, 0.6218104998858592, 0.2365583423478812, 0.12841738584599266, 0.8439095643764604, 0.9198290002777832, 0.9355432011736635, 0.9085535925001517, 0.9051182167723002, 0.9437903718307514, 0.9746742445199003, 0.9387435577230915, 0.8759687334845838, 0.1459947889140973, 0.9712584495301145, 0.9145592327751391, 0.37651449485971716, 0.5647717422895757, 0.9425169728646798, 0.9628193275220219, 0.0469561636770275, 0.8921671098635224, 0.8824892365580006, 0.9715289627840679, 0.9386949164197658, 0.8916420858885098, 0.3099474940024655, 0.619894988004931, 0.8448039017897045], \"Term\": [\"absolute\", \"absolutely\", \"accused\", \"across\", \"alone\", \"already\", \"always\", \"amazing\", \"amp\", \"amp\", \"another\", \"anyone\", \"around\", \"around\", \"arrogance\", \"art\", \"asked\", \"aussiepride\", \"australia\", \"awesome\", \"awful\", \"back\", \"back\", \"back\", \"bad\", \"bad\", \"bastard\", \"battle\", \"bay\", \"believe\", \"best\", \"better\", \"big\", \"bit\", \"bit\", \"black\", \"blame\", \"block\", \"bloody\", \"bloody\", \"bloody\", \"boy\", \"branded\", \"bugger\", \"bull\", \"bullshit\", \"call\", \"call\", \"came\", \"car\", \"car\", \"car\", \"care\", \"channel\", \"chaz\", \"chaz\", \"chazmozzie\", \"chazmozzie\", \"chazscar\", \"choke\", \"chosenone\", \"chosenone\", \"close\", \"close\", \"coffee\", \"come\", \"coming\", \"comment\", \"commentator\", \"commentator\", \"con\", \"conserving\", \"contact\", \"control\", \"cop\", \"corner\", \"cough\", \"could\", \"could\", \"craig\", \"craiglowndes\", \"crap\", \"craziest\", \"crazy\", \"crazy\", \"cruel\", \"cutting\", \"damage\", \"damn\", \"day\", \"day\", \"day\", \"dead\", \"desperate\", \"devastated\", \"dirty\", \"disaster\", \"done\", \"dont\", \"drama\", \"drama\", \"drive\", \"drive\", \"drive\", \"driver\", \"driver\", \"driving\", \"driving\", \"dumqi\", \"dutto\", \"earlier\", \"effort\", \"effort\", \"embarrassing\", \"empty\", \"end\", \"end\", \"end\", \"enough\", \"epic\", \"erebus\", \"erebusv\", \"error\", \"even\", \"even\", \"ever\", \"exciting\", \"exhausted\", \"failure\", \"fan\", \"feel\", \"feel\", \"feeling\", \"fence\", \"fighting\", \"final\", \"finish\", \"finish\", \"finish\", \"finish\", \"finished\", \"fire\", \"first\", \"first\", \"first\", \"fitz\", \"fitzysa\", \"flag\", \"ford\", \"ford\", \"ford\", \"fordfaithful\", \"fordfaithful\", \"fordfaithful\", \"forget\", \"foridastate\", \"found\", \"fpr\", \"freak\", \"front\", \"frosty\", \"fuck\", \"fucked\", \"fucking\", \"fuel\", \"fuel\", \"garage\", \"gavin\", \"get\", \"get\", \"get\", \"gis\", \"gisbergen\", \"give\", \"give\", \"giz\", \"god\", \"going\", \"going\", \"got\", \"got\", \"great\", \"grid\", \"gutted\", \"guy\", \"happen\", \"happened\", \"happened\", \"happy\", \"hard\", \"hard\", \"heart\", \"heartbreak\", \"heartbreaking\", \"heartbroken\", \"hell\", \"hell\", \"help\", \"hey\", \"high\", \"holden\", \"holdenmsport\", \"holdsworth\", \"holy\", \"holy\", \"holy\", \"home\", \"home\", \"hour\", \"hurt\", \"imagine\", \"incident\", \"income\", \"incredible\", \"ingall\", \"insane\", \"insane\", \"intense\", \"investigation\", \"jamie\", \"jamie\", \"jamiewhincup\", \"jamiewhincup\", \"jesus\", \"jonathanlea\", \"karma\", \"kidding\", \"kiwi\", \"kiwi\", \"know\", \"lane\", \"lap\", \"lap\", \"lap\", \"laps\", \"laps\", \"last\", \"last\", \"last\", \"lead\", \"lead\", \"leader\", \"leading\", \"least\", \"lee\", \"left\", \"let\", \"life\", \"lights\", \"like\", \"line\", \"line\", \"little\", \"look\", \"look\", \"lose\", \"lost\", \"lost\", \"lowndes\", \"lowndes\", \"lowndes\", \"luck\", \"made\", \"make\", \"making\", \"man\", \"many\", \"mark\", \"massive\", \"mate\", \"mate\", \"max\", \"mean\", \"might\", \"might\", \"miss\", \"miss\", \"missed\", \"mistake\", \"moffat\", \"morris\", \"morris\", \"mostert\", \"mostert\", \"motor\", \"motorsport\", \"motorsport\", \"mount\", \"mountain\", \"msport\", \"mtv\", \"much\", \"much\", \"need\", \"never\", \"news\", \"next\", \"nissan\", \"nothing\", \"obviously\", \"old\", \"omg\", \"omg\", \"one\", \"one\", \"onqocjtpjj\", \"panorama\", \"para\", \"paul\", \"pay\", \"penalty\", \"penalty\", \"people\", \"pepsi\", \"percat\", \"performance\", \"petrolhedonist\", \"pit\", \"pit\", \"playing\", \"podium\", \"poor\", \"poor\", \"poor\", \"post\", \"probably\", \"qcrm\", \"quarterback\", \"que\", \"quote\", \"race\", \"race\", \"race\", \"race\", \"race\", \"race\", \"racing\", \"racing\", \"rape\", \"really\", \"red\", \"redbullracingau\", \"redbullracingau\", \"ridiculous\", \"right\", \"right\", \"right\", \"ripper\", \"row\", \"run\", \"run\", \"run\", \"running\", \"russell\", \"russiangp\", \"sad\", \"sad\", \"sad\", \"safety\", \"sally\", \"say\", \"script\", \"see\", \"see\", \"seen\", \"seen\", \"serious\", \"seriously\", \"set\", \"shame\", \"shane\", \"shanevg\", \"shanevg\", \"shanevg\", \"shanevg\", \"shit\", \"shit\", \"shy\", \"skaife\", \"snappytv\", \"someone\", \"something\", \"son\", \"sorry\", \"speak\", \"speedcafe\", \"speedcafe\", \"speedcafe\", \"sport\", \"sport\", \"sportsbetcomau\", \"spun\", \"stall\", \"stalled\", \"stalled\", \"start\", \"start\", \"started\", \"starter\", \"still\", \"still\", \"stop\", \"stuck\", \"suck\", \"suck\", \"sucks\", \"supercars\", \"supercars\", \"supercars\", \"supercars\", \"supercars\", \"supercars\", \"sure\", \"svg\", \"take\", \"take\", \"take\", \"tank\", \"team\", \"tekno\", \"tekno\", \"tekno\", \"tekno\", \"teknoautosports\", \"teknoautosports\", \"ten\", \"tension\", \"terrible\", \"theblock\", \"thing\", \"think\", \"third\", \"third\", \"thought\", \"time\", \"time\", \"time\", \"time\", \"today\", \"told\", \"told\", \"tonight\", \"top\", \"tough\", \"track\", \"track\", \"traffic\", \"tragic\", \"turn\", \"turn\", \"twist\", \"two\", \"two\", \"two\", \"unbelievable\", \"unbelievable\", \"unbelievable\", \"van\", \"van\", \"vangisbergen\", \"victory\", \"victory\", \"video\", \"wall\", \"want\", \"watching\", \"way\", \"wba\", \"webb\", \"weekend\", \"well\", \"went\", \"went\", \"wey\", \"whincup\", \"whincup\", \"whincup\", \"whincup\", \"whole\", \"wide\", \"win\", \"wincup\", \"winner\", \"winston\", \"winterbottom\", \"woman\", \"words\", \"words\", \"worse\", \"worst\", \"would\", \"would\", \"wow\", \"wrong\", \"wtf\", \"wtf\", \"yeah\", \"year\", \"yep\", \"yes\", \"yet\", \"yet\", \"zlkyx\"]}, \"R\": 30, \"lambda.step\": 0.01, \"plot.opts\": {\"xlab\": \"PC1\", \"ylab\": \"PC2\"}, \"topic.order\": [1, 2, 3, 4, 5, 6, 7, 8, 9, 10]};\n",
       "\n",
       "function LDAvis_load_lib(url, callback){\n",
       "  var s = document.createElement('script');\n",
       "  s.src = url;\n",
       "  s.async = true;\n",
       "  s.onreadystatechange = s.onload = callback;\n",
       "  s.onerror = function(){console.warn(\"failed to load library \" + url);};\n",
       "  document.getElementsByTagName(\"head\")[0].appendChild(s);\n",
       "}\n",
       "\n",
       "if(typeof(LDAvis) !== \"undefined\"){\n",
       "   // already loaded: just create the visualization\n",
       "   !function(LDAvis){\n",
       "       new LDAvis(\"#\" + \"ldavis_el491229207679231369872556187\", ldavis_el491229207679231369872556187_data);\n",
       "   }(LDAvis);\n",
       "}else if(typeof define === \"function\" && define.amd){\n",
       "   // require.js is available: use it to load d3/LDAvis\n",
       "   require.config({paths: {d3: \"https://d3js.org/d3.v5\"}});\n",
       "   require([\"d3\"], function(d3){\n",
       "      window.d3 = d3;\n",
       "      LDAvis_load_lib(\"https://cdn.jsdelivr.net/gh/bmabey/pyLDAvis@3.4.0/pyLDAvis/js/ldavis.v3.0.0.js\", function(){\n",
       "        new LDAvis(\"#\" + \"ldavis_el491229207679231369872556187\", ldavis_el491229207679231369872556187_data);\n",
       "      });\n",
       "    });\n",
       "}else{\n",
       "    // require.js not available: dynamically load d3 & LDAvis\n",
       "    LDAvis_load_lib(\"https://d3js.org/d3.v5.js\", function(){\n",
       "         LDAvis_load_lib(\"https://cdn.jsdelivr.net/gh/bmabey/pyLDAvis@3.4.0/pyLDAvis/js/ldavis.v3.0.0.js\", function(){\n",
       "                 new LDAvis(\"#\" + \"ldavis_el491229207679231369872556187\", ldavis_el491229207679231369872556187_data);\n",
       "            })\n",
       "         });\n",
       "}\n",
       "</script>"
      ],
      "text/plain": [
       "PreparedData(topic_coordinates=              x         y  topics  cluster       Freq\n",
       "topic                                                \n",
       "0      0.191417 -0.125924       1        1   7.679129\n",
       "1      0.230748 -0.040624       2        1  10.161207\n",
       "2      0.139726 -0.107638       3        1   7.630309\n",
       "3      0.002426  0.207739       4        1   9.552497\n",
       "4      0.044353  0.161775       5        1  13.058714\n",
       "5     -0.108436  0.103159       6        1  13.703947\n",
       "6     -0.216638 -0.172047       7        1   9.792456\n",
       "7     -0.143598  0.189764       8        1   9.736286\n",
       "8      0.088482 -0.023332       9        1   8.588736\n",
       "9     -0.228479 -0.192873      10        1  10.096719, topic_info=          Term        Freq       Total Category  logprob  loglift\n",
       "314       race  182.000000  182.000000  Default  30.0000  30.0000\n",
       "437    whincup  147.000000  147.000000  Default  29.0000  29.0000\n",
       "239    lowndes  122.000000  122.000000  Default  28.0000  28.0000\n",
       "149       fuck   66.000000   66.000000  Default  27.0000  27.0000\n",
       "422        van   83.000000   83.000000  Default  26.0000  26.0000\n",
       "..         ...         ...         ...      ...      ...      ...\n",
       "239    lowndes   63.079044  122.105562  Topic10  -2.5528   1.6325\n",
       "460        yet    7.819103   12.905412  Topic10  -4.6407   1.7919\n",
       "99       drive   12.968797   40.306007  Topic10  -4.1347   1.1590\n",
       "383  supercars   23.443607  166.485942  Topic10  -3.5426   0.3326\n",
       "193       holy   10.034746   34.020214  Topic10  -4.3912   1.0721\n",
       "\n",
       "[441 rows x 6 columns], token_table=      Topic      Freq        Term\n",
       "term                             \n",
       "0         4  0.921232    absolute\n",
       "1         3  0.961548  absolutely\n",
       "2         8  0.903313     accused\n",
       "3         2  0.926052      across\n",
       "4        10  0.961408       alone\n",
       "...     ...       ...         ...\n",
       "458       6  0.938695         yep\n",
       "459       9  0.891642         yes\n",
       "460       6  0.309947         yet\n",
       "460      10  0.619895         yet\n",
       "461       9  0.844804       zlkyx\n",
       "\n",
       "[503 rows x 3 columns], R=30, lambda_step=0.01, plot_opts={'xlab': 'PC1', 'ylab': 'PC2'}, topic_order=[1, 2, 3, 4, 5, 6, 7, 8, 9, 10])"
      ]
     },
     "execution_count": 32,
     "metadata": {},
     "output_type": "execute_result"
    }
   ],
   "source": [
    "import pyLDAvis.lda_model\n",
    " \n",
    "pyLDAvis.enable_notebook()\n",
    "\n",
    "# The parameters wee need,\n",
    "## LDA model: lda_model\n",
    "## vectorized model: data_vectorized\n",
    "## matrix of token counts: vectoriser\n",
    "\n",
    "panel = pyLDAvis.lda_model.prepare(lda_model, data_vectorized, vectoriser, sort_topics = False)\n",
    "panel"
   ]
  },
  {
   "cell_type": "code",
   "execution_count": null,
   "id": "613aa43f",
   "metadata": {},
   "outputs": [],
   "source": []
  }
 ],
 "metadata": {
  "kernelspec": {
   "display_name": "Python 3 (ipykernel)",
   "language": "python",
   "name": "python3"
  },
  "language_info": {
   "codemirror_mode": {
    "name": "ipython",
    "version": 3
   },
   "file_extension": ".py",
   "mimetype": "text/x-python",
   "name": "python",
   "nbconvert_exporter": "python",
   "pygments_lexer": "ipython3",
   "version": "3.9.16"
  },
  "toc": {
   "base_numbering": 1,
   "nav_menu": {},
   "number_sections": true,
   "sideBar": true,
   "skip_h1_title": false,
   "title_cell": "Table of Contents",
   "title_sidebar": "Contents",
   "toc_cell": false,
   "toc_position": {},
   "toc_section_display": true,
   "toc_window_display": false
  }
 },
 "nbformat": 4,
 "nbformat_minor": 5
}
